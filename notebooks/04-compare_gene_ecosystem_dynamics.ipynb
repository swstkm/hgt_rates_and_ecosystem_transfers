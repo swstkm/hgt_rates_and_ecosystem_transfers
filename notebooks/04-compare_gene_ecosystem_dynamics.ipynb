{
 "cells": [
  {
   "cell_type": "markdown",
   "metadata": {
    "vscode": {
     "languageId": "plaintext"
    }
   },
   "source": [
    "# Compare Gene Dynamics and Ecosystem Dynamics\n",
    "\n",
    "This notebook may take half an hour or so to run, but it shows all the results using foldable jupyter notebook widgets."
   ]
  },
  {
   "cell_type": "code",
   "execution_count": 1,
   "metadata": {},
   "outputs": [],
   "source": [
    "# to suppress warning from ete3 because it's not up to date with py3.12\n",
    "import warnings\n",
    "warnings.filterwarnings(\"ignore\", category=SyntaxWarning)"
   ]
  },
  {
   "cell_type": "code",
   "execution_count": 2,
   "metadata": {},
   "outputs": [],
   "source": [
    "import pandas as pd\n",
    "import numpy as np\n",
    "import scipy as sp\n",
    "import scipy.stats as st\n",
    "import matplotlib.pyplot as plt\n",
    "import statsmodels.api as sm\n",
    "import os\n",
    "import ete3\n",
    "import sys\n",
    "\n",
    "from plotly.offline import plot\n",
    "import plotly.graph_objs as go\n",
    "from plotly.subplots import make_subplots\n",
    "\n",
    "import plotly.io as pio\n",
    "pio.renderers.default = 'notebook'\n",
    "\n",
    "# in ../code we have compare_gene_ecosystem_dynamics.py which contains all the functions we need\n",
    "sys.path.append(os.path.join(os.path.dirname(os.getcwd()), 'code'))\n",
    "import compare_gene_ecosystem_dynamics as cged # this is from the code directory\n",
    "\n",
    "# # set matplotlib params for the whole cell\n",
    "# # xlabel and ylabel sizes should be 20\n",
    "# # tick label sizes should be 16\n",
    "# # legend label size should be 18\n",
    "\n",
    "# # make dictionary of these params and then update rcParams\n",
    "# rcParams_dict = {'font.size': 20,\n",
    "#                  'xtick.labelsize': 16,\n",
    "#                  'ytick.labelsize': 16,\n",
    "#                  'legend.fontsize': 18}\n",
    "# plt.rcParams.update(rcParams_dict)\n",
    "\n",
    "import matplotlib as mpl\n",
    "\n",
    "plt_style_file = \"lib/plot.mplstyle\"\n",
    "plt.style.use(plt_style_file)\n",
    "mpl.rc_file(plt_style_file)\n",
    "# Scale the relevant rcParams by 2x\n",
    "scale_factor = 2\n",
    "for key in mpl.rcParams:\n",
    "    try:\n",
    "        if not \"size\" in key:\n",
    "            continue\n",
    "        if isinstance(mpl.rcParams[key], (int, float)) and not isinstance(\n",
    "            mpl.rcParams[key], bool\n",
    "        ):\n",
    "            mpl.rcParams[key] *= scale_factor\n",
    "        elif isinstance(mpl.rcParams[key], (list, tuple)):\n",
    "            mpl.rcParams[key] = [\n",
    "                (\n",
    "                    v * scale_factor\n",
    "                    if isinstance(v, (int, float)) and not isinstance(v, bool)\n",
    "                    else v\n",
    "                )\n",
    "                for v in mpl.rcParams[key]\n",
    "            ]\n",
    "    except Exception as e:\n",
    "        print(f\"Error scaling {key} from {mpl.rcParams[key]}: {e}\")\n",
    "        raise e\n",
    "\n",
    "# update rcparams\n",
    "# legend box with white background and frame\n",
    "mpl.rcParams[\"legend.facecolor\"] = \"white\"\n",
    "mpl.rcParams[\"legend.frameon\"] = True\n",
    "mpl.rcParams[\"legend.edgecolor\"] = \"black\""
   ]
  },
  {
   "cell_type": "code",
   "execution_count": 3,
   "metadata": {},
   "outputs": [],
   "source": [
    "data_dir = os.path.join(os.path.dirname(os.getcwd()), 'data')\n",
    "compiled_results_dir = os.path.join(data_dir, 'compiled_results')\n",
    "\n",
    "plots_dir = os.path.join(data_dir, 'plots', 'all')\n",
    "if not os.path.exists(plots_dir):\n",
    "    os.makedirs(plots_dir)\n",
    "stats_dir = os.path.join(data_dir, 'stats', 'all')\n",
    "if not os.path.exists(stats_dir):\n",
    "    os.makedirs(stats_dir)\n",
    "\n",
    "genome_tree_labeled_filepath = os.path.join(data_dir, 'genome_tree/genome_tree.iqtree.treefile.rooted.labeled')\n"
   ]
  },
  {
   "cell_type": "code",
   "execution_count": 4,
   "metadata": {},
   "outputs": [
    {
     "name": "stdout",
     "output_type": "stream",
     "text": [
      "\n",
      "-------------------------------------------------------------------------------------\n",
      "\n",
      "\u001b[1m\u001b[30mAnalyzing gene dynamics file for \u001b[1;34mML.GLOOME\u001b[1;30m and env dynamics file for \u001b[1;34mMP.GLOOME\u001b[1;30m for \u001b[1;34mTERMINAL\u001b[1;30m branches\u001b[0m\n",
      "Skipping Spearman correlation for Ecosystem Losses and Gene Losses since one the variables has a constant value.\n",
      "Skipping Spearman correlation for Corrected Gene Losses and Corrected Ecosystem Losses since one the variables has a constant value.\n",
      "Skipping Spearman correlation for Branch Length and Ecosystem Losses since one the variables has a constant value.\n",
      "Skipping Spearman correlation for Branch Length and Corrected Ecosystem Losses since one the variables has a constant value.\n"
     ]
    },
    {
     "name": "stdout",
     "output_type": "stream",
     "text": [
      "Skipping Nonzero Ecosystem Losses branch set for Transfers due to empty set.\n",
      "Skipping Nonzero Ecosystem Losses branch set for Losses due to empty set.\n"
     ]
    },
    {
     "data": {
      "application/vnd.jupyter.widget-view+json": {
       "model_id": "8393b9f13d3045a292483de406438bd9",
       "version_major": 2,
       "version_minor": 0
      },
      "text/plain": [
       "Accordion(children=(Output(), Output(), Output(), Output(), Output()), titles=('Dataframe', 'Spearman Correlat…"
      ]
     },
     "metadata": {},
     "output_type": "display_data"
    },
    {
     "data": {
      "application/vnd.jupyter.widget-view+json": {
       "model_id": "3ed112b37ce345df919146e9a805d784",
       "version_major": 2,
       "version_minor": 0
      },
      "text/plain": [
       "Accordion(children=(Output(), Output(), Output()), titles=('Plot:Gene and Environment Dynamics Comparison', 'P…"
      ]
     },
     "metadata": {},
     "output_type": "display_data"
    },
    {
     "name": "stdout",
     "output_type": "stream",
     "text": [
      "\n",
      "-------------------------------------------------------------------------------------\n",
      "\n",
      "\u001b[1m\u001b[30mAnalyzing gene dynamics file for \u001b[1;34mML.GLOOME\u001b[1;30m and env dynamics file for \u001b[1;34mMP.GLOOME\u001b[1;30m for \u001b[1;34mINTERNAL\u001b[1;30m branches\u001b[0m\n",
      "Skipping Spearman correlation for Ecosystem Losses and Gene Losses since one the variables has a constant value.\n",
      "Skipping Spearman correlation for Corrected Gene Losses and Corrected Ecosystem Losses since one the variables has a constant value.\n",
      "Skipping Spearman correlation for Branch Length and Ecosystem Losses since one the variables has a constant value.\n",
      "Skipping Spearman correlation for Branch Length and Corrected Ecosystem Losses since one the variables has a constant value.\n"
     ]
    },
    {
     "name": "stdout",
     "output_type": "stream",
     "text": [
      "Skipping Nonzero Ecosystem Losses branch set for Transfers due to empty set.\n",
      "Skipping Nonzero Ecosystem Losses branch set for Losses due to empty set.\n"
     ]
    },
    {
     "data": {
      "application/vnd.jupyter.widget-view+json": {
       "model_id": "e90c47f1b24a419c9c7aec4275355347",
       "version_major": 2,
       "version_minor": 0
      },
      "text/plain": [
       "Accordion(children=(Output(), Output(), Output(), Output(), Output()), titles=('Dataframe', 'Spearman Correlat…"
      ]
     },
     "metadata": {},
     "output_type": "display_data"
    },
    {
     "data": {
      "application/vnd.jupyter.widget-view+json": {
       "model_id": "cc8b1beb34a14741a20de379c9ccf24e",
       "version_major": 2,
       "version_minor": 0
      },
      "text/plain": [
       "Accordion(children=(Output(), Output(), Output()), titles=('Plot:Gene and Environment Dynamics Comparison', 'P…"
      ]
     },
     "metadata": {},
     "output_type": "display_data"
    },
    {
     "name": "stdout",
     "output_type": "stream",
     "text": [
      "\n",
      "-------------------------------------------------------------------------------------\n",
      "\n",
      "\u001b[1m\u001b[30mAnalyzing gene dynamics file for \u001b[1;34mML.GLOOME\u001b[1;30m and env dynamics file for \u001b[1;34mMP.GLOOME\u001b[1;30m for \u001b[1;34mALL\u001b[1;30m branches\u001b[0m\n",
      "Skipping Spearman correlation for Ecosystem Losses and Gene Losses since one the variables has a constant value.\n",
      "Skipping Spearman correlation for Corrected Gene Losses and Corrected Ecosystem Losses since one the variables has a constant value.\n",
      "Skipping Spearman correlation for Branch Length and Ecosystem Losses since one the variables has a constant value.\n",
      "Skipping Spearman correlation for Branch Length and Corrected Ecosystem Losses since one the variables has a constant value.\n"
     ]
    },
    {
     "name": "stdout",
     "output_type": "stream",
     "text": [
      "Skipping Nonzero Ecosystem Losses branch set for Transfers due to empty set.\n",
      "Skipping Nonzero Ecosystem Losses branch set for Losses due to empty set.\n"
     ]
    },
    {
     "data": {
      "application/vnd.jupyter.widget-view+json": {
       "model_id": "e46127da251a474bbde69a382dc7aefb",
       "version_major": 2,
       "version_minor": 0
      },
      "text/plain": [
       "Accordion(children=(Output(), Output(), Output(), Output(), Output()), titles=('Dataframe', 'Spearman Correlat…"
      ]
     },
     "metadata": {},
     "output_type": "display_data"
    },
    {
     "data": {
      "application/vnd.jupyter.widget-view+json": {
       "model_id": "38ace13b12064a449d3370432129de51",
       "version_major": 2,
       "version_minor": 0
      },
      "text/plain": [
       "Accordion(children=(Output(), Output(), Output()), titles=('Plot:Gene and Environment Dynamics Comparison', 'P…"
      ]
     },
     "metadata": {},
     "output_type": "display_data"
    },
    {
     "name": "stdout",
     "output_type": "stream",
     "text": [
      "\n",
      "-------------------------------------------------------------------------------------\n",
      "\n",
      "\u001b[1m\u001b[30mAnalyzing gene dynamics file for \u001b[1;34mMP.GLOOME\u001b[1;30m and env dynamics file for \u001b[1;34mMP.GLOOME\u001b[1;30m for \u001b[1;34mTERMINAL\u001b[1;30m branches\u001b[0m\n",
      "Skipping Spearman correlation for Ecosystem Losses and Gene Losses since one the variables has a constant value.\n",
      "Skipping Spearman correlation for Corrected Gene Losses and Corrected Ecosystem Losses since one the variables has a constant value.\n",
      "Skipping Spearman correlation for Branch Length and Gene Losses since one the variables has a constant value.\n",
      "Skipping Spearman correlation for Branch Length and Ecosystem Losses since one the variables has a constant value.\n",
      "Skipping Spearman correlation for Branch Length and Corrected Gene Losses since one the variables has a constant value.\n",
      "Skipping Spearman correlation for Branch Length and Corrected Ecosystem Losses since one the variables has a constant value.\n"
     ]
    },
    {
     "name": "stdout",
     "output_type": "stream",
     "text": [
      "Skipping Nonzero Ecosystem Losses branch set for Transfers due to empty set.\n",
      "Skipping Nonzero Ecosystem Losses branch set for Losses due to empty set.\n"
     ]
    },
    {
     "name": "stdout",
     "output_type": "stream",
     "text": [
      "Skipping randomized mean difference for Gene Losses due to constant value.\n",
      "Skipping randomized mean difference for Gene Losses/Branch Length due to constant value.\n"
     ]
    },
    {
     "data": {
      "application/vnd.jupyter.widget-view+json": {
       "model_id": "46908bd764584a0b9e06d272ed93d48d",
       "version_major": 2,
       "version_minor": 0
      },
      "text/plain": [
       "Accordion(children=(Output(), Output(), Output(), Output(), Output()), titles=('Dataframe', 'Spearman Correlat…"
      ]
     },
     "metadata": {},
     "output_type": "display_data"
    },
    {
     "data": {
      "application/vnd.jupyter.widget-view+json": {
       "model_id": "4eef2f4379ad46ae82c8571989db2e0f",
       "version_major": 2,
       "version_minor": 0
      },
      "text/plain": [
       "Accordion(children=(Output(), Output(), Output()), titles=('Plot:Gene and Environment Dynamics Comparison', 'P…"
      ]
     },
     "metadata": {},
     "output_type": "display_data"
    },
    {
     "name": "stdout",
     "output_type": "stream",
     "text": [
      "\n",
      "-------------------------------------------------------------------------------------\n",
      "\n",
      "\u001b[1m\u001b[30mAnalyzing gene dynamics file for \u001b[1;34mMP.GLOOME\u001b[1;30m and env dynamics file for \u001b[1;34mMP.GLOOME\u001b[1;30m for \u001b[1;34mINTERNAL\u001b[1;30m branches\u001b[0m\n",
      "Skipping Spearman correlation for Ecosystem Losses and Gene Losses since one the variables has a constant value.\n",
      "Skipping Spearman correlation for Corrected Gene Losses and Corrected Ecosystem Losses since one the variables has a constant value.\n",
      "Skipping Spearman correlation for Branch Length and Gene Losses since one the variables has a constant value.\n",
      "Skipping Spearman correlation for Branch Length and Ecosystem Losses since one the variables has a constant value.\n",
      "Skipping Spearman correlation for Branch Length and Corrected Gene Losses since one the variables has a constant value.\n",
      "Skipping Spearman correlation for Branch Length and Corrected Ecosystem Losses since one the variables has a constant value.\n"
     ]
    },
    {
     "name": "stdout",
     "output_type": "stream",
     "text": [
      "Skipping Nonzero Ecosystem Losses branch set for Transfers due to empty set.\n",
      "Skipping Nonzero Ecosystem Losses branch set for Losses due to empty set.\n"
     ]
    },
    {
     "name": "stdout",
     "output_type": "stream",
     "text": [
      "Skipping randomized mean difference for Gene Losses due to constant value.\n",
      "Skipping randomized mean difference for Gene Losses/Branch Length due to constant value.\n"
     ]
    },
    {
     "data": {
      "application/vnd.jupyter.widget-view+json": {
       "model_id": "f92452951c27439e968468ea7d9eb701",
       "version_major": 2,
       "version_minor": 0
      },
      "text/plain": [
       "Accordion(children=(Output(), Output(), Output(), Output(), Output()), titles=('Dataframe', 'Spearman Correlat…"
      ]
     },
     "metadata": {},
     "output_type": "display_data"
    },
    {
     "data": {
      "application/vnd.jupyter.widget-view+json": {
       "model_id": "a512e6a776b547318f58d326c0abd707",
       "version_major": 2,
       "version_minor": 0
      },
      "text/plain": [
       "Accordion(children=(Output(), Output(), Output()), titles=('Plot:Gene and Environment Dynamics Comparison', 'P…"
      ]
     },
     "metadata": {},
     "output_type": "display_data"
    },
    {
     "name": "stdout",
     "output_type": "stream",
     "text": [
      "\n",
      "-------------------------------------------------------------------------------------\n",
      "\n",
      "\u001b[1m\u001b[30mAnalyzing gene dynamics file for \u001b[1;34mMP.GLOOME\u001b[1;30m and env dynamics file for \u001b[1;34mMP.GLOOME\u001b[1;30m for \u001b[1;34mALL\u001b[1;30m branches\u001b[0m\n",
      "Skipping Spearman correlation for Ecosystem Losses and Gene Losses since one the variables has a constant value.\n",
      "Skipping Spearman correlation for Corrected Gene Losses and Corrected Ecosystem Losses since one the variables has a constant value.\n",
      "Skipping Spearman correlation for Branch Length and Gene Losses since one the variables has a constant value.\n",
      "Skipping Spearman correlation for Branch Length and Ecosystem Losses since one the variables has a constant value.\n",
      "Skipping Spearman correlation for Branch Length and Corrected Gene Losses since one the variables has a constant value.\n",
      "Skipping Spearman correlation for Branch Length and Corrected Ecosystem Losses since one the variables has a constant value.\n"
     ]
    },
    {
     "name": "stdout",
     "output_type": "stream",
     "text": [
      "Skipping Nonzero Ecosystem Losses branch set for Transfers due to empty set.\n",
      "Skipping Nonzero Ecosystem Losses branch set for Losses due to empty set.\n"
     ]
    },
    {
     "name": "stdout",
     "output_type": "stream",
     "text": [
      "Skipping randomized mean difference for Gene Losses due to constant value.\n",
      "Skipping randomized mean difference for Gene Losses/Branch Length due to constant value.\n"
     ]
    },
    {
     "data": {
      "application/vnd.jupyter.widget-view+json": {
       "model_id": "d483681e763e4c4c87a3ecdf1db5b1d1",
       "version_major": 2,
       "version_minor": 0
      },
      "text/plain": [
       "Accordion(children=(Output(), Output(), Output(), Output(), Output()), titles=('Dataframe', 'Spearman Correlat…"
      ]
     },
     "metadata": {},
     "output_type": "display_data"
    },
    {
     "data": {
      "application/vnd.jupyter.widget-view+json": {
       "model_id": "6b2d66e352474c12af5f5d3efbc2a546",
       "version_major": 2,
       "version_minor": 0
      },
      "text/plain": [
       "Accordion(children=(Output(), Output(), Output()), titles=('Plot:Gene and Environment Dynamics Comparison', 'P…"
      ]
     },
     "metadata": {},
     "output_type": "display_data"
    },
    {
     "name": "stdout",
     "output_type": "stream",
     "text": [
      "\n",
      "-------------------------------------------------------------------------------------\n",
      "\n",
      "\u001b[1m\u001b[30mAnalyzing gene dynamics file for \u001b[1;34mCOUNT\u001b[1;30m and env dynamics file for \u001b[1;34mMP.GLOOME\u001b[1;30m for \u001b[1;34mTERMINAL\u001b[1;30m branches\u001b[0m\n",
      "Skipping Spearman correlation for Ecosystem Losses and Gene Losses since one the variables has a constant value.\n",
      "Skipping Spearman correlation for Corrected Gene Losses and Corrected Ecosystem Losses since one the variables has a constant value.\n",
      "Skipping Spearman correlation for Branch Length and Ecosystem Losses since one the variables has a constant value.\n",
      "Skipping Spearman correlation for Branch Length and Corrected Ecosystem Losses since one the variables has a constant value.\n"
     ]
    },
    {
     "name": "stdout",
     "output_type": "stream",
     "text": [
      "Skipping Nonzero Ecosystem Losses branch set for Transfers due to empty set.\n",
      "Skipping Nonzero Ecosystem Losses branch set for Losses due to empty set.\n"
     ]
    },
    {
     "data": {
      "application/vnd.jupyter.widget-view+json": {
       "model_id": "b26ab593f95c4ca9be37f10e8ce3bdbe",
       "version_major": 2,
       "version_minor": 0
      },
      "text/plain": [
       "Accordion(children=(Output(), Output(), Output(), Output(), Output()), titles=('Dataframe', 'Spearman Correlat…"
      ]
     },
     "metadata": {},
     "output_type": "display_data"
    },
    {
     "data": {
      "application/vnd.jupyter.widget-view+json": {
       "model_id": "5f404cbc5e64436bb5ebdf4c560c4390",
       "version_major": 2,
       "version_minor": 0
      },
      "text/plain": [
       "Accordion(children=(Output(), Output(), Output()), titles=('Plot:Gene and Environment Dynamics Comparison', 'P…"
      ]
     },
     "metadata": {},
     "output_type": "display_data"
    },
    {
     "name": "stdout",
     "output_type": "stream",
     "text": [
      "\n",
      "-------------------------------------------------------------------------------------\n",
      "\n",
      "\u001b[1m\u001b[30mAnalyzing gene dynamics file for \u001b[1;34mCOUNT\u001b[1;30m and env dynamics file for \u001b[1;34mMP.GLOOME\u001b[1;30m for \u001b[1;34mINTERNAL\u001b[1;30m branches\u001b[0m\n",
      "Skipping Spearman correlation for Ecosystem Losses and Gene Losses since one the variables has a constant value.\n",
      "Skipping Spearman correlation for Corrected Gene Losses and Corrected Ecosystem Losses since one the variables has a constant value.\n",
      "Skipping Spearman correlation for Branch Length and Ecosystem Losses since one the variables has a constant value.\n",
      "Skipping Spearman correlation for Branch Length and Corrected Ecosystem Losses since one the variables has a constant value.\n"
     ]
    },
    {
     "name": "stdout",
     "output_type": "stream",
     "text": [
      "Skipping Nonzero Ecosystem Losses branch set for Transfers due to empty set.\n",
      "Skipping Nonzero Ecosystem Losses branch set for Losses due to empty set.\n"
     ]
    },
    {
     "data": {
      "application/vnd.jupyter.widget-view+json": {
       "model_id": "2dad59c3075a47efb6308e06b5e06655",
       "version_major": 2,
       "version_minor": 0
      },
      "text/plain": [
       "Accordion(children=(Output(), Output(), Output(), Output(), Output()), titles=('Dataframe', 'Spearman Correlat…"
      ]
     },
     "metadata": {},
     "output_type": "display_data"
    },
    {
     "data": {
      "application/vnd.jupyter.widget-view+json": {
       "model_id": "f6c03dd902f34a908844fbadc3c5a5f3",
       "version_major": 2,
       "version_minor": 0
      },
      "text/plain": [
       "Accordion(children=(Output(), Output(), Output()), titles=('Plot:Gene and Environment Dynamics Comparison', 'P…"
      ]
     },
     "metadata": {},
     "output_type": "display_data"
    },
    {
     "name": "stdout",
     "output_type": "stream",
     "text": [
      "\n",
      "-------------------------------------------------------------------------------------\n",
      "\n",
      "\u001b[1m\u001b[30mAnalyzing gene dynamics file for \u001b[1;34mCOUNT\u001b[1;30m and env dynamics file for \u001b[1;34mMP.GLOOME\u001b[1;30m for \u001b[1;34mALL\u001b[1;30m branches\u001b[0m\n",
      "Skipping Spearman correlation for Ecosystem Losses and Gene Losses since one the variables has a constant value.\n",
      "Skipping Spearman correlation for Corrected Gene Losses and Corrected Ecosystem Losses since one the variables has a constant value.\n",
      "Skipping Spearman correlation for Branch Length and Ecosystem Losses since one the variables has a constant value.\n",
      "Skipping Spearman correlation for Branch Length and Corrected Ecosystem Losses since one the variables has a constant value.\n"
     ]
    },
    {
     "name": "stdout",
     "output_type": "stream",
     "text": [
      "Skipping Nonzero Ecosystem Losses branch set for Transfers due to empty set.\n",
      "Skipping Nonzero Ecosystem Losses branch set for Losses due to empty set.\n"
     ]
    },
    {
     "data": {
      "application/vnd.jupyter.widget-view+json": {
       "model_id": "937d8d252b844c849281d95b997e5554",
       "version_major": 2,
       "version_minor": 0
      },
      "text/plain": [
       "Accordion(children=(Output(), Output(), Output(), Output(), Output()), titles=('Dataframe', 'Spearman Correlat…"
      ]
     },
     "metadata": {},
     "output_type": "display_data"
    },
    {
     "data": {
      "application/vnd.jupyter.widget-view+json": {
       "model_id": "17d28d32a5544f5c909221b55f5196ca",
       "version_major": 2,
       "version_minor": 0
      },
      "text/plain": [
       "Accordion(children=(Output(), Output(), Output()), titles=('Plot:Gene and Environment Dynamics Comparison', 'P…"
      ]
     },
     "metadata": {},
     "output_type": "display_data"
    },
    {
     "name": "stdout",
     "output_type": "stream",
     "text": [
      "\n",
      "-------------------------------------------------------------------------------------\n",
      "\n",
      "\u001b[1m\u001b[30mAnalyzing gene dynamics file for \u001b[1;34mALE\u001b[1;30m and env dynamics file for \u001b[1;34mMP.GLOOME\u001b[1;30m for \u001b[1;34mTERMINAL\u001b[1;30m branches\u001b[0m\n"
     ]
    },
    {
     "data": {
      "application/vnd.jupyter.widget-view+json": {
       "model_id": "382b02d9e1bd4b70a9793f429b239410",
       "version_major": 2,
       "version_minor": 0
      },
      "text/plain": [
       "Accordion(children=(Output(), Output(), Output(), Output(), Output()), titles=('Dataframe', 'Spearman Correlat…"
      ]
     },
     "metadata": {},
     "output_type": "display_data"
    },
    {
     "data": {
      "application/vnd.jupyter.widget-view+json": {
       "model_id": "5975cb6b8631439d8cb738564ec9af6a",
       "version_major": 2,
       "version_minor": 0
      },
      "text/plain": [
       "Accordion(children=(Output(), Output(), Output()), titles=('Plot:Gene and Environment Dynamics Comparison', 'P…"
      ]
     },
     "metadata": {},
     "output_type": "display_data"
    },
    {
     "name": "stdout",
     "output_type": "stream",
     "text": [
      "\n",
      "-------------------------------------------------------------------------------------\n",
      "\n",
      "\u001b[1m\u001b[30mAnalyzing gene dynamics file for \u001b[1;34mALE\u001b[1;30m and env dynamics file for \u001b[1;34mMP.GLOOME\u001b[1;30m for \u001b[1;34mINTERNAL\u001b[1;30m branches\u001b[0m\n"
     ]
    },
    {
     "data": {
      "application/vnd.jupyter.widget-view+json": {
       "model_id": "0ac9768a41104390a4b49b1ff6650835",
       "version_major": 2,
       "version_minor": 0
      },
      "text/plain": [
       "Accordion(children=(Output(), Output(), Output(), Output(), Output()), titles=('Dataframe', 'Spearman Correlat…"
      ]
     },
     "metadata": {},
     "output_type": "display_data"
    },
    {
     "data": {
      "application/vnd.jupyter.widget-view+json": {
       "model_id": "1c1ee93532da44cbb69a56a0417ea776",
       "version_major": 2,
       "version_minor": 0
      },
      "text/plain": [
       "Accordion(children=(Output(), Output(), Output()), titles=('Plot:Gene and Environment Dynamics Comparison', 'P…"
      ]
     },
     "metadata": {},
     "output_type": "display_data"
    },
    {
     "name": "stdout",
     "output_type": "stream",
     "text": [
      "\n",
      "-------------------------------------------------------------------------------------\n",
      "\n",
      "\u001b[1m\u001b[30mAnalyzing gene dynamics file for \u001b[1;34mALE\u001b[1;30m and env dynamics file for \u001b[1;34mMP.GLOOME\u001b[1;30m for \u001b[1;34mALL\u001b[1;30m branches\u001b[0m\n"
     ]
    },
    {
     "data": {
      "application/vnd.jupyter.widget-view+json": {
       "model_id": "b06871cb539547d590ebb98576fedf5a",
       "version_major": 2,
       "version_minor": 0
      },
      "text/plain": [
       "Accordion(children=(Output(), Output(), Output(), Output(), Output()), titles=('Dataframe', 'Spearman Correlat…"
      ]
     },
     "metadata": {},
     "output_type": "display_data"
    },
    {
     "data": {
      "application/vnd.jupyter.widget-view+json": {
       "model_id": "184208f4335f4a3cbd7071527f9379d7",
       "version_major": 2,
       "version_minor": 0
      },
      "text/plain": [
       "Accordion(children=(Output(), Output(), Output()), titles=('Plot:Gene and Environment Dynamics Comparison', 'P…"
      ]
     },
     "metadata": {},
     "output_type": "display_data"
    }
   ],
   "source": [
    "g = ['compiled_dynamics.branchwise.gene.ml.gloome.tsv','compiled_dynamics.branchwise.gene.mp.gloome.tsv', \n",
    "    'compiled_dynamics.branchwise.gene.count.tsv', 'compiled_transfers.branchwise.gene.ale.tsv']\n",
    "gene_dynamics_filepaths = [os.path.join(compiled_results_dir, f) for f in g]\n",
    "e = 'compiled_dynamics.branchwise.ecotype.mp.gloome.tsv'\n",
    "env_dynamics_filepath = os.path.join(compiled_results_dir, e)\n",
    "\n",
    "for gd in gene_dynamics_filepaths:\n",
    "    # gd_method is everything between 'gene.' and '.tsv'\n",
    "    gd_method = gd.split('gene.')[1].split('.tsv')[0]\n",
    "    # similarly for ed_method\n",
    "    ed_method = e.split('ecotype.')[1].split('.tsv')[0]\n",
    "    for terminal_or_internal in ['terminal', 'internal', 'all']:\n",
    "        print('\\n-------------------------------------------------------------------------------------\\n')\n",
    "        print(f'\\033[1m\\033[30mAnalyzing gene dynamics file for \\033[1;34m{\n",
    "            gd_method.upper()}\\033[1;30m and env dynamics file for \\033[1;34m{\n",
    "                ed_method.upper()}\\033[1;30m for \\033[1;34m{terminal_or_internal.upper()}\\033[1;30m branches\\033[0m')\n",
    "        cged.plot_gene_env_comparison(gene_dynamics_filepath=gd,\n",
    "                                env_dynamics_filepath=env_dynamics_filepath,\n",
    "                                input_tree_filepath=genome_tree_labeled_filepath,\n",
    "                                output_dir=stats_dir, plots_dir=plots_dir, terminal_or_internal=terminal_or_internal)"
   ]
  },
  {
   "cell_type": "code",
   "execution_count": 5,
   "metadata": {},
   "outputs": [
    {
     "name": "stdout",
     "output_type": "stream",
     "text": [
      "\n",
      "-------------------------------------------------------------------------------------\n",
      "\n",
      "\u001b[1m\u001b[30mAnalyzing gene dynamics file for \u001b[1;34mML.GLOOME\u001b[1;30m and env dynamics file for \u001b[1;34mCOUNT\u001b[1;30m for \u001b[1;34mTERMINAL\u001b[1;30m branches\u001b[0m\n"
     ]
    },
    {
     "data": {
      "application/vnd.jupyter.widget-view+json": {
       "model_id": "91653954e6a040f5bccad4bcb3eade24",
       "version_major": 2,
       "version_minor": 0
      },
      "text/plain": [
       "Accordion(children=(Output(), Output(), Output(), Output(), Output()), titles=('Dataframe', 'Spearman Correlat…"
      ]
     },
     "metadata": {},
     "output_type": "display_data"
    },
    {
     "data": {
      "application/vnd.jupyter.widget-view+json": {
       "model_id": "0536e1bc662246a2ac23ddcbf63c54ff",
       "version_major": 2,
       "version_minor": 0
      },
      "text/plain": [
       "Accordion(children=(Output(), Output(), Output()), titles=('Plot:Gene and Environment Dynamics Comparison', 'P…"
      ]
     },
     "metadata": {},
     "output_type": "display_data"
    },
    {
     "name": "stdout",
     "output_type": "stream",
     "text": [
      "\n",
      "-------------------------------------------------------------------------------------\n",
      "\n",
      "\u001b[1m\u001b[30mAnalyzing gene dynamics file for \u001b[1;34mML.GLOOME\u001b[1;30m and env dynamics file for \u001b[1;34mCOUNT\u001b[1;30m for \u001b[1;34mINTERNAL\u001b[1;30m branches\u001b[0m\n"
     ]
    },
    {
     "data": {
      "application/vnd.jupyter.widget-view+json": {
       "model_id": "80497fbf9c1c42319d0fbd527eeca9f5",
       "version_major": 2,
       "version_minor": 0
      },
      "text/plain": [
       "Accordion(children=(Output(), Output(), Output(), Output(), Output()), titles=('Dataframe', 'Spearman Correlat…"
      ]
     },
     "metadata": {},
     "output_type": "display_data"
    },
    {
     "data": {
      "application/vnd.jupyter.widget-view+json": {
       "model_id": "242db44908a1418e984b801c0295b32e",
       "version_major": 2,
       "version_minor": 0
      },
      "text/plain": [
       "Accordion(children=(Output(), Output(), Output()), titles=('Plot:Gene and Environment Dynamics Comparison', 'P…"
      ]
     },
     "metadata": {},
     "output_type": "display_data"
    },
    {
     "name": "stdout",
     "output_type": "stream",
     "text": [
      "\n",
      "-------------------------------------------------------------------------------------\n",
      "\n",
      "\u001b[1m\u001b[30mAnalyzing gene dynamics file for \u001b[1;34mML.GLOOME\u001b[1;30m and env dynamics file for \u001b[1;34mCOUNT\u001b[1;30m for \u001b[1;34mALL\u001b[1;30m branches\u001b[0m\n"
     ]
    },
    {
     "data": {
      "application/vnd.jupyter.widget-view+json": {
       "model_id": "4806f268c55d4a31a29abaaf240a2e61",
       "version_major": 2,
       "version_minor": 0
      },
      "text/plain": [
       "Accordion(children=(Output(), Output(), Output(), Output(), Output()), titles=('Dataframe', 'Spearman Correlat…"
      ]
     },
     "metadata": {},
     "output_type": "display_data"
    },
    {
     "data": {
      "application/vnd.jupyter.widget-view+json": {
       "model_id": "196536771b0742aa84adfd95478dc907",
       "version_major": 2,
       "version_minor": 0
      },
      "text/plain": [
       "Accordion(children=(Output(), Output(), Output()), titles=('Plot:Gene and Environment Dynamics Comparison', 'P…"
      ]
     },
     "metadata": {},
     "output_type": "display_data"
    },
    {
     "name": "stdout",
     "output_type": "stream",
     "text": [
      "\n",
      "-------------------------------------------------------------------------------------\n",
      "\n",
      "\u001b[1m\u001b[30mAnalyzing gene dynamics file for \u001b[1;34mMP.GLOOME\u001b[1;30m and env dynamics file for \u001b[1;34mCOUNT\u001b[1;30m for \u001b[1;34mTERMINAL\u001b[1;30m branches\u001b[0m\n",
      "Skipping Spearman correlation for Ecosystem Losses and Gene Losses since one the variables has a constant value.\n",
      "Skipping Spearman correlation for Corrected Gene Losses and Corrected Ecosystem Losses since one the variables has a constant value.\n",
      "Skipping Spearman correlation for Branch Length and Gene Losses since one the variables has a constant value.\n",
      "Skipping Spearman correlation for Branch Length and Corrected Gene Losses since one the variables has a constant value.\n"
     ]
    },
    {
     "name": "stdout",
     "output_type": "stream",
     "text": [
      "Skipping randomized mean difference for Gene Losses due to constant value.\n",
      "Skipping randomized mean difference for Gene Losses/Branch Length due to constant value.\n"
     ]
    },
    {
     "data": {
      "application/vnd.jupyter.widget-view+json": {
       "model_id": "19f0b4310279473a833a139f64423db0",
       "version_major": 2,
       "version_minor": 0
      },
      "text/plain": [
       "Accordion(children=(Output(), Output(), Output(), Output(), Output()), titles=('Dataframe', 'Spearman Correlat…"
      ]
     },
     "metadata": {},
     "output_type": "display_data"
    },
    {
     "data": {
      "application/vnd.jupyter.widget-view+json": {
       "model_id": "74ff44f4959243cab0a6c561140bec68",
       "version_major": 2,
       "version_minor": 0
      },
      "text/plain": [
       "Accordion(children=(Output(), Output(), Output()), titles=('Plot:Gene and Environment Dynamics Comparison', 'P…"
      ]
     },
     "metadata": {},
     "output_type": "display_data"
    },
    {
     "name": "stdout",
     "output_type": "stream",
     "text": [
      "\n",
      "-------------------------------------------------------------------------------------\n",
      "\n",
      "\u001b[1m\u001b[30mAnalyzing gene dynamics file for \u001b[1;34mMP.GLOOME\u001b[1;30m and env dynamics file for \u001b[1;34mCOUNT\u001b[1;30m for \u001b[1;34mINTERNAL\u001b[1;30m branches\u001b[0m\n",
      "Skipping Spearman correlation for Ecosystem Losses and Gene Losses since one the variables has a constant value.\n",
      "Skipping Spearman correlation for Corrected Gene Losses and Corrected Ecosystem Losses since one the variables has a constant value.\n",
      "Skipping Spearman correlation for Branch Length and Gene Losses since one the variables has a constant value.\n",
      "Skipping Spearman correlation for Branch Length and Corrected Gene Losses since one the variables has a constant value.\n"
     ]
    },
    {
     "name": "stdout",
     "output_type": "stream",
     "text": [
      "Skipping randomized mean difference for Gene Losses due to constant value.\n",
      "Skipping randomized mean difference for Gene Losses/Branch Length due to constant value.\n"
     ]
    },
    {
     "data": {
      "application/vnd.jupyter.widget-view+json": {
       "model_id": "0816e96549d04ec787a3e47425677801",
       "version_major": 2,
       "version_minor": 0
      },
      "text/plain": [
       "Accordion(children=(Output(), Output(), Output(), Output(), Output()), titles=('Dataframe', 'Spearman Correlat…"
      ]
     },
     "metadata": {},
     "output_type": "display_data"
    },
    {
     "data": {
      "application/vnd.jupyter.widget-view+json": {
       "model_id": "803155a21ed947f689511f628e9ba7f7",
       "version_major": 2,
       "version_minor": 0
      },
      "text/plain": [
       "Accordion(children=(Output(), Output(), Output()), titles=('Plot:Gene and Environment Dynamics Comparison', 'P…"
      ]
     },
     "metadata": {},
     "output_type": "display_data"
    },
    {
     "name": "stdout",
     "output_type": "stream",
     "text": [
      "\n",
      "-------------------------------------------------------------------------------------\n",
      "\n",
      "\u001b[1m\u001b[30mAnalyzing gene dynamics file for \u001b[1;34mMP.GLOOME\u001b[1;30m and env dynamics file for \u001b[1;34mCOUNT\u001b[1;30m for \u001b[1;34mALL\u001b[1;30m branches\u001b[0m\n",
      "Skipping Spearman correlation for Ecosystem Losses and Gene Losses since one the variables has a constant value.\n",
      "Skipping Spearman correlation for Corrected Gene Losses and Corrected Ecosystem Losses since one the variables has a constant value.\n",
      "Skipping Spearman correlation for Branch Length and Gene Losses since one the variables has a constant value.\n",
      "Skipping Spearman correlation for Branch Length and Corrected Gene Losses since one the variables has a constant value.\n"
     ]
    },
    {
     "name": "stdout",
     "output_type": "stream",
     "text": [
      "Skipping randomized mean difference for Gene Losses due to constant value.\n",
      "Skipping randomized mean difference for Gene Losses/Branch Length due to constant value.\n"
     ]
    },
    {
     "data": {
      "application/vnd.jupyter.widget-view+json": {
       "model_id": "fc43a795d7864f728066520dff035488",
       "version_major": 2,
       "version_minor": 0
      },
      "text/plain": [
       "Accordion(children=(Output(), Output(), Output(), Output(), Output()), titles=('Dataframe', 'Spearman Correlat…"
      ]
     },
     "metadata": {},
     "output_type": "display_data"
    },
    {
     "data": {
      "application/vnd.jupyter.widget-view+json": {
       "model_id": "3f6c91c293f74328853651aed2eed636",
       "version_major": 2,
       "version_minor": 0
      },
      "text/plain": [
       "Accordion(children=(Output(), Output(), Output()), titles=('Plot:Gene and Environment Dynamics Comparison', 'P…"
      ]
     },
     "metadata": {},
     "output_type": "display_data"
    },
    {
     "name": "stdout",
     "output_type": "stream",
     "text": [
      "\n",
      "-------------------------------------------------------------------------------------\n",
      "\n",
      "\u001b[1m\u001b[30mAnalyzing gene dynamics file for \u001b[1;34mCOUNT\u001b[1;30m and env dynamics file for \u001b[1;34mCOUNT\u001b[1;30m for \u001b[1;34mTERMINAL\u001b[1;30m branches\u001b[0m\n"
     ]
    },
    {
     "data": {
      "application/vnd.jupyter.widget-view+json": {
       "model_id": "fd74b5ad9f5044a198653c56cd9c2738",
       "version_major": 2,
       "version_minor": 0
      },
      "text/plain": [
       "Accordion(children=(Output(), Output(), Output(), Output(), Output()), titles=('Dataframe', 'Spearman Correlat…"
      ]
     },
     "metadata": {},
     "output_type": "display_data"
    },
    {
     "data": {
      "application/vnd.jupyter.widget-view+json": {
       "model_id": "b1b3953fff9f43d990ea0eae84a53f71",
       "version_major": 2,
       "version_minor": 0
      },
      "text/plain": [
       "Accordion(children=(Output(), Output(), Output()), titles=('Plot:Gene and Environment Dynamics Comparison', 'P…"
      ]
     },
     "metadata": {},
     "output_type": "display_data"
    },
    {
     "name": "stdout",
     "output_type": "stream",
     "text": [
      "\n",
      "-------------------------------------------------------------------------------------\n",
      "\n",
      "\u001b[1m\u001b[30mAnalyzing gene dynamics file for \u001b[1;34mCOUNT\u001b[1;30m and env dynamics file for \u001b[1;34mCOUNT\u001b[1;30m for \u001b[1;34mINTERNAL\u001b[1;30m branches\u001b[0m\n"
     ]
    },
    {
     "data": {
      "application/vnd.jupyter.widget-view+json": {
       "model_id": "69f37ed3ced04a8ea8185c305da950c8",
       "version_major": 2,
       "version_minor": 0
      },
      "text/plain": [
       "Accordion(children=(Output(), Output(), Output(), Output(), Output()), titles=('Dataframe', 'Spearman Correlat…"
      ]
     },
     "metadata": {},
     "output_type": "display_data"
    },
    {
     "data": {
      "application/vnd.jupyter.widget-view+json": {
       "model_id": "01b28c9ed14848189f8bad0a2d45528a",
       "version_major": 2,
       "version_minor": 0
      },
      "text/plain": [
       "Accordion(children=(Output(), Output(), Output()), titles=('Plot:Gene and Environment Dynamics Comparison', 'P…"
      ]
     },
     "metadata": {},
     "output_type": "display_data"
    },
    {
     "name": "stdout",
     "output_type": "stream",
     "text": [
      "\n",
      "-------------------------------------------------------------------------------------\n",
      "\n",
      "\u001b[1m\u001b[30mAnalyzing gene dynamics file for \u001b[1;34mCOUNT\u001b[1;30m and env dynamics file for \u001b[1;34mCOUNT\u001b[1;30m for \u001b[1;34mALL\u001b[1;30m branches\u001b[0m\n"
     ]
    },
    {
     "data": {
      "application/vnd.jupyter.widget-view+json": {
       "model_id": "c72b4d5b972543369b39268bc7f871dc",
       "version_major": 2,
       "version_minor": 0
      },
      "text/plain": [
       "Accordion(children=(Output(), Output(), Output(), Output(), Output()), titles=('Dataframe', 'Spearman Correlat…"
      ]
     },
     "metadata": {},
     "output_type": "display_data"
    },
    {
     "data": {
      "application/vnd.jupyter.widget-view+json": {
       "model_id": "81bb97ce32dc4567842fa9ca72b6aec1",
       "version_major": 2,
       "version_minor": 0
      },
      "text/plain": [
       "Accordion(children=(Output(), Output(), Output()), titles=('Plot:Gene and Environment Dynamics Comparison', 'P…"
      ]
     },
     "metadata": {},
     "output_type": "display_data"
    },
    {
     "name": "stdout",
     "output_type": "stream",
     "text": [
      "\n",
      "-------------------------------------------------------------------------------------\n",
      "\n",
      "\u001b[1m\u001b[30mAnalyzing gene dynamics file for \u001b[1;34mALE\u001b[1;30m and env dynamics file for \u001b[1;34mCOUNT\u001b[1;30m for \u001b[1;34mTERMINAL\u001b[1;30m branches\u001b[0m\n"
     ]
    },
    {
     "data": {
      "application/vnd.jupyter.widget-view+json": {
       "model_id": "dccaf59158ca48b88de2abbef1b0a0bf",
       "version_major": 2,
       "version_minor": 0
      },
      "text/plain": [
       "Accordion(children=(Output(), Output(), Output(), Output(), Output()), titles=('Dataframe', 'Spearman Correlat…"
      ]
     },
     "metadata": {},
     "output_type": "display_data"
    },
    {
     "data": {
      "application/vnd.jupyter.widget-view+json": {
       "model_id": "1f14a4e41b054ee99d358143d000e617",
       "version_major": 2,
       "version_minor": 0
      },
      "text/plain": [
       "Accordion(children=(Output(), Output(), Output()), titles=('Plot:Gene and Environment Dynamics Comparison', 'P…"
      ]
     },
     "metadata": {},
     "output_type": "display_data"
    },
    {
     "name": "stdout",
     "output_type": "stream",
     "text": [
      "\n",
      "-------------------------------------------------------------------------------------\n",
      "\n",
      "\u001b[1m\u001b[30mAnalyzing gene dynamics file for \u001b[1;34mALE\u001b[1;30m and env dynamics file for \u001b[1;34mCOUNT\u001b[1;30m for \u001b[1;34mINTERNAL\u001b[1;30m branches\u001b[0m\n"
     ]
    },
    {
     "data": {
      "application/vnd.jupyter.widget-view+json": {
       "model_id": "bf052165132d4e11869c3e87c37e7fe9",
       "version_major": 2,
       "version_minor": 0
      },
      "text/plain": [
       "Accordion(children=(Output(), Output(), Output(), Output(), Output()), titles=('Dataframe', 'Spearman Correlat…"
      ]
     },
     "metadata": {},
     "output_type": "display_data"
    },
    {
     "data": {
      "application/vnd.jupyter.widget-view+json": {
       "model_id": "aef465a9ca8344c3818ac02716f6dfe2",
       "version_major": 2,
       "version_minor": 0
      },
      "text/plain": [
       "Accordion(children=(Output(), Output(), Output()), titles=('Plot:Gene and Environment Dynamics Comparison', 'P…"
      ]
     },
     "metadata": {},
     "output_type": "display_data"
    },
    {
     "name": "stdout",
     "output_type": "stream",
     "text": [
      "\n",
      "-------------------------------------------------------------------------------------\n",
      "\n",
      "\u001b[1m\u001b[30mAnalyzing gene dynamics file for \u001b[1;34mALE\u001b[1;30m and env dynamics file for \u001b[1;34mCOUNT\u001b[1;30m for \u001b[1;34mALL\u001b[1;30m branches\u001b[0m\n"
     ]
    },
    {
     "data": {
      "application/vnd.jupyter.widget-view+json": {
       "model_id": "b42d7fbe9b304528beab5e4b11634b31",
       "version_major": 2,
       "version_minor": 0
      },
      "text/plain": [
       "Accordion(children=(Output(), Output(), Output(), Output(), Output()), titles=('Dataframe', 'Spearman Correlat…"
      ]
     },
     "metadata": {},
     "output_type": "display_data"
    },
    {
     "data": {
      "application/vnd.jupyter.widget-view+json": {
       "model_id": "1cd01da9477941ec835eb58287650a22",
       "version_major": 2,
       "version_minor": 0
      },
      "text/plain": [
       "Accordion(children=(Output(), Output(), Output()), titles=('Plot:Gene and Environment Dynamics Comparison', 'P…"
      ]
     },
     "metadata": {},
     "output_type": "display_data"
    }
   ],
   "source": [
    "g = ['compiled_dynamics.branchwise.gene.ml.gloome.tsv', 'compiled_dynamics.branchwise.gene.mp.gloome.tsv',\n",
    "     'compiled_dynamics.branchwise.gene.count.tsv', 'compiled_transfers.branchwise.gene.ale.tsv' ]\n",
    "gene_dynamics_filepaths = [os.path.join(compiled_results_dir, f) for f in g]\n",
    "e = 'compiled_dynamics.branchwise.ecotype.count.tsv'\n",
    "env_dynamics_filepath = os.path.join(compiled_results_dir, e)\n",
    "\n",
    "for gd in gene_dynamics_filepaths:\n",
    "    # gd_method is everything between 'gene.' and '.tsv'\n",
    "    gd_method = gd.split('gene.')[1].split('.tsv')[0]\n",
    "    # similarly for ed_method\n",
    "    ed_method = e.split('ecotype.')[1].split('.tsv')[0]\n",
    "    for terminal_or_internal in ['terminal', 'internal', 'all']:\n",
    "        print('\\n-------------------------------------------------------------------------------------\\n')\n",
    "        print(f'\\033[1m\\033[30mAnalyzing gene dynamics file for \\033[1;34m{\n",
    "            gd_method.upper()}\\033[1;30m and env dynamics file for \\033[1;34m{\n",
    "                ed_method.upper()}\\033[1;30m for \\033[1;34m{terminal_or_internal.upper()}\\033[1;30m branches\\033[0m')\n",
    "        cged.plot_gene_env_comparison(gene_dynamics_filepath=gd,\n",
    "                                      env_dynamics_filepath=env_dynamics_filepath,\n",
    "                                      input_tree_filepath=genome_tree_labeled_filepath,\n",
    "                                      output_dir=stats_dir, plots_dir=plots_dir, terminal_or_internal=terminal_or_internal)"
   ]
  },
  {
   "cell_type": "markdown",
   "metadata": {},
   "source": [
    "# Combine analyses across all combinations"
   ]
  },
  {
   "cell_type": "code",
   "execution_count": 4,
   "metadata": {},
   "outputs": [
    {
     "data": {
      "text/html": [
       "<div>\n",
       "<style scoped>\n",
       "    .dataframe tbody tr th:only-of-type {\n",
       "        vertical-align: middle;\n",
       "    }\n",
       "\n",
       "    .dataframe tbody tr th {\n",
       "        vertical-align: top;\n",
       "    }\n",
       "\n",
       "    .dataframe thead th {\n",
       "        text-align: right;\n",
       "    }\n",
       "</style>\n",
       "<table border=\"1\" class=\"dataframe\">\n",
       "  <thead>\n",
       "    <tr style=\"text-align: right;\">\n",
       "      <th></th>\n",
       "      <th>Variable-Pair</th>\n",
       "      <th>Rho</th>\n",
       "      <th>p-value</th>\n",
       "      <th>significant</th>\n",
       "      <th>Terminal or Internal</th>\n",
       "      <th>HGT inference method</th>\n",
       "      <th>Ecosystem transfer inference method</th>\n",
       "    </tr>\n",
       "  </thead>\n",
       "  <tbody>\n",
       "    <tr>\n",
       "      <th>192</th>\n",
       "      <td>('Ecosystem Transfers', 'Gene Transfers')</td>\n",
       "      <td>0.556575</td>\n",
       "      <td>3.506534e-27</td>\n",
       "      <td>*</td>\n",
       "      <td>all</td>\n",
       "      <td>ale</td>\n",
       "      <td>count</td>\n",
       "    </tr>\n",
       "    <tr>\n",
       "      <th>193</th>\n",
       "      <td>('Corrected Gene Transfers', 'Corrected Ecosys...</td>\n",
       "      <td>-0.121389</td>\n",
       "      <td>3.071642e-02</td>\n",
       "      <td>*</td>\n",
       "      <td>all</td>\n",
       "      <td>ale</td>\n",
       "      <td>count</td>\n",
       "    </tr>\n",
       "    <tr>\n",
       "      <th>194</th>\n",
       "      <td>('Branch Length', 'Gene Transfers')</td>\n",
       "      <td>0.672159</td>\n",
       "      <td>5.087521e-43</td>\n",
       "      <td>*</td>\n",
       "      <td>all</td>\n",
       "      <td>ale</td>\n",
       "      <td>count</td>\n",
       "    </tr>\n",
       "    <tr>\n",
       "      <th>195</th>\n",
       "      <td>('Branch Length', 'Ecosystem Transfers')</td>\n",
       "      <td>0.440595</td>\n",
       "      <td>1.738397e-16</td>\n",
       "      <td>*</td>\n",
       "      <td>all</td>\n",
       "      <td>ale</td>\n",
       "      <td>count</td>\n",
       "    </tr>\n",
       "    <tr>\n",
       "      <th>196</th>\n",
       "      <td>('Branch Length', 'Corrected Gene Transfers')</td>\n",
       "      <td>0.382636</td>\n",
       "      <td>1.712902e-12</td>\n",
       "      <td>*</td>\n",
       "      <td>all</td>\n",
       "      <td>ale</td>\n",
       "      <td>count</td>\n",
       "    </tr>\n",
       "    <tr>\n",
       "      <th>...</th>\n",
       "      <td>...</td>\n",
       "      <td>...</td>\n",
       "      <td>...</td>\n",
       "      <td>...</td>\n",
       "      <td>...</td>\n",
       "      <td>...</td>\n",
       "      <td>...</td>\n",
       "    </tr>\n",
       "    <tr>\n",
       "      <th>25</th>\n",
       "      <td>('Corrected Gene Transfers', 'Corrected Ecosys...</td>\n",
       "      <td>0.004335</td>\n",
       "      <td>9.567525e-01</td>\n",
       "      <td>NaN</td>\n",
       "      <td>terminal</td>\n",
       "      <td>mp gloome</td>\n",
       "      <td>mp gloome</td>\n",
       "    </tr>\n",
       "    <tr>\n",
       "      <th>26</th>\n",
       "      <td>('Branch Length', 'Gene Transfers')</td>\n",
       "      <td>0.638437</td>\n",
       "      <td>1.394561e-19</td>\n",
       "      <td>*</td>\n",
       "      <td>terminal</td>\n",
       "      <td>mp gloome</td>\n",
       "      <td>mp gloome</td>\n",
       "    </tr>\n",
       "    <tr>\n",
       "      <th>27</th>\n",
       "      <td>('Branch Length', 'Ecosystem Transfers')</td>\n",
       "      <td>0.059498</td>\n",
       "      <td>4.562837e-01</td>\n",
       "      <td>NaN</td>\n",
       "      <td>terminal</td>\n",
       "      <td>mp gloome</td>\n",
       "      <td>mp gloome</td>\n",
       "    </tr>\n",
       "    <tr>\n",
       "      <th>28</th>\n",
       "      <td>('Branch Length', 'Corrected Gene Transfers')</td>\n",
       "      <td>0.400257</td>\n",
       "      <td>1.718847e-07</td>\n",
       "      <td>*</td>\n",
       "      <td>terminal</td>\n",
       "      <td>mp gloome</td>\n",
       "      <td>mp gloome</td>\n",
       "    </tr>\n",
       "    <tr>\n",
       "      <th>29</th>\n",
       "      <td>('Branch Length', 'Corrected Ecosystem Transfe...</td>\n",
       "      <td>-0.137602</td>\n",
       "      <td>8.369532e-02</td>\n",
       "      <td>NaN</td>\n",
       "      <td>terminal</td>\n",
       "      <td>mp gloome</td>\n",
       "      <td>mp gloome</td>\n",
       "    </tr>\n",
       "  </tbody>\n",
       "</table>\n",
       "<p>198 rows × 7 columns</p>\n",
       "</div>"
      ],
      "text/plain": [
       "                                         Variable-Pair       Rho  \\\n",
       "192          ('Ecosystem Transfers', 'Gene Transfers')  0.556575   \n",
       "193  ('Corrected Gene Transfers', 'Corrected Ecosys... -0.121389   \n",
       "194                ('Branch Length', 'Gene Transfers')  0.672159   \n",
       "195           ('Branch Length', 'Ecosystem Transfers')  0.440595   \n",
       "196      ('Branch Length', 'Corrected Gene Transfers')  0.382636   \n",
       "..                                                 ...       ...   \n",
       "25   ('Corrected Gene Transfers', 'Corrected Ecosys...  0.004335   \n",
       "26                 ('Branch Length', 'Gene Transfers')  0.638437   \n",
       "27            ('Branch Length', 'Ecosystem Transfers')  0.059498   \n",
       "28       ('Branch Length', 'Corrected Gene Transfers')  0.400257   \n",
       "29   ('Branch Length', 'Corrected Ecosystem Transfe... -0.137602   \n",
       "\n",
       "          p-value significant Terminal or Internal HGT inference method  \\\n",
       "192  3.506534e-27           *                  all                  ale   \n",
       "193  3.071642e-02           *                  all                  ale   \n",
       "194  5.087521e-43           *                  all                  ale   \n",
       "195  1.738397e-16           *                  all                  ale   \n",
       "196  1.712902e-12           *                  all                  ale   \n",
       "..            ...         ...                  ...                  ...   \n",
       "25   9.567525e-01         NaN             terminal            mp gloome   \n",
       "26   1.394561e-19           *             terminal            mp gloome   \n",
       "27   4.562837e-01         NaN             terminal            mp gloome   \n",
       "28   1.718847e-07           *             terminal            mp gloome   \n",
       "29   8.369532e-02         NaN             terminal            mp gloome   \n",
       "\n",
       "    Ecosystem transfer inference method  \n",
       "192                               count  \n",
       "193                               count  \n",
       "194                               count  \n",
       "195                               count  \n",
       "196                               count  \n",
       "..                                  ...  \n",
       "25                            mp gloome  \n",
       "26                            mp gloome  \n",
       "27                            mp gloome  \n",
       "28                            mp gloome  \n",
       "29                            mp gloome  \n",
       "\n",
       "[198 rows x 7 columns]"
      ]
     },
     "metadata": {},
     "output_type": "display_data"
    },
    {
     "data": {
      "text/html": [
       "<div>\n",
       "<style scoped>\n",
       "    .dataframe tbody tr th:only-of-type {\n",
       "        vertical-align: middle;\n",
       "    }\n",
       "\n",
       "    .dataframe tbody tr th {\n",
       "        vertical-align: top;\n",
       "    }\n",
       "\n",
       "    .dataframe thead th {\n",
       "        text-align: right;\n",
       "    }\n",
       "</style>\n",
       "<table border=\"1\" class=\"dataframe\">\n",
       "  <thead>\n",
       "    <tr style=\"text-align: right;\">\n",
       "      <th></th>\n",
       "      <th>Variable</th>\n",
       "      <th>Mann-Whitney U</th>\n",
       "      <th>p-value</th>\n",
       "      <th>CLES</th>\n",
       "      <th>Mean HGT with Zero Ecosystem Transfers</th>\n",
       "      <th>Mean HGT with Nonzero Ecosystem Transfers</th>\n",
       "      <th>Number of branches with Zero Ecosystem Transfers</th>\n",
       "      <th>Number of branches with Nonzero Ecosystem Transfers</th>\n",
       "      <th>Terminal or Internal</th>\n",
       "      <th>significant</th>\n",
       "      <th>HGT inference method</th>\n",
       "      <th>Ecosystem transfer inference method</th>\n",
       "    </tr>\n",
       "  </thead>\n",
       "  <tbody>\n",
       "    <tr>\n",
       "      <th>23</th>\n",
       "      <td>Gene Transfers/Branch Length</td>\n",
       "      <td>15391.0</td>\n",
       "      <td>6.728865e-08</td>\n",
       "      <td>0.685141</td>\n",
       "      <td>59.576486</td>\n",
       "      <td>37.022510</td>\n",
       "      <td>108</td>\n",
       "      <td>208</td>\n",
       "      <td>all</td>\n",
       "      <td>*</td>\n",
       "      <td>ale</td>\n",
       "      <td>count</td>\n",
       "    </tr>\n",
       "    <tr>\n",
       "      <th>20</th>\n",
       "      <td>Gene Transfers/Branch Length</td>\n",
       "      <td>14157.5</td>\n",
       "      <td>1.458212e-04</td>\n",
       "      <td>0.630231</td>\n",
       "      <td>314.919808</td>\n",
       "      <td>128.615150</td>\n",
       "      <td>108</td>\n",
       "      <td>208</td>\n",
       "      <td>all</td>\n",
       "      <td>*</td>\n",
       "      <td>count</td>\n",
       "      <td>count</td>\n",
       "    </tr>\n",
       "    <tr>\n",
       "      <th>14</th>\n",
       "      <td>Gene Transfers/Branch Length</td>\n",
       "      <td>14987.0</td>\n",
       "      <td>1.094603e-06</td>\n",
       "      <td>0.667156</td>\n",
       "      <td>602.075785</td>\n",
       "      <td>414.391720</td>\n",
       "      <td>108</td>\n",
       "      <td>208</td>\n",
       "      <td>all</td>\n",
       "      <td>*</td>\n",
       "      <td>ml gloome</td>\n",
       "      <td>count</td>\n",
       "    </tr>\n",
       "    <tr>\n",
       "      <th>17</th>\n",
       "      <td>Gene Transfers/Branch Length</td>\n",
       "      <td>14246.0</td>\n",
       "      <td>9.156976e-05</td>\n",
       "      <td>0.634170</td>\n",
       "      <td>1182.449267</td>\n",
       "      <td>804.284974</td>\n",
       "      <td>108</td>\n",
       "      <td>208</td>\n",
       "      <td>all</td>\n",
       "      <td>*</td>\n",
       "      <td>mp gloome</td>\n",
       "      <td>count</td>\n",
       "    </tr>\n",
       "    <tr>\n",
       "      <th>11</th>\n",
       "      <td>Gene Transfers/Branch Length</td>\n",
       "      <td>15391.0</td>\n",
       "      <td>6.728865e-08</td>\n",
       "      <td>0.685141</td>\n",
       "      <td>59.576486</td>\n",
       "      <td>37.022510</td>\n",
       "      <td>108</td>\n",
       "      <td>208</td>\n",
       "      <td>all</td>\n",
       "      <td>*</td>\n",
       "      <td>ale</td>\n",
       "      <td>mp gloome</td>\n",
       "    </tr>\n",
       "    <tr>\n",
       "      <th>8</th>\n",
       "      <td>Gene Transfers/Branch Length</td>\n",
       "      <td>14157.5</td>\n",
       "      <td>1.458212e-04</td>\n",
       "      <td>0.630231</td>\n",
       "      <td>314.919808</td>\n",
       "      <td>128.615150</td>\n",
       "      <td>108</td>\n",
       "      <td>208</td>\n",
       "      <td>all</td>\n",
       "      <td>*</td>\n",
       "      <td>count</td>\n",
       "      <td>mp gloome</td>\n",
       "    </tr>\n",
       "    <tr>\n",
       "      <th>2</th>\n",
       "      <td>Gene Transfers/Branch Length</td>\n",
       "      <td>14987.0</td>\n",
       "      <td>1.094603e-06</td>\n",
       "      <td>0.667156</td>\n",
       "      <td>602.075785</td>\n",
       "      <td>414.391720</td>\n",
       "      <td>108</td>\n",
       "      <td>208</td>\n",
       "      <td>all</td>\n",
       "      <td>*</td>\n",
       "      <td>ml gloome</td>\n",
       "      <td>mp gloome</td>\n",
       "    </tr>\n",
       "    <tr>\n",
       "      <th>5</th>\n",
       "      <td>Gene Transfers/Branch Length</td>\n",
       "      <td>14246.0</td>\n",
       "      <td>9.156976e-05</td>\n",
       "      <td>0.634170</td>\n",
       "      <td>1182.449267</td>\n",
       "      <td>804.284974</td>\n",
       "      <td>108</td>\n",
       "      <td>208</td>\n",
       "      <td>all</td>\n",
       "      <td>*</td>\n",
       "      <td>mp gloome</td>\n",
       "      <td>mp gloome</td>\n",
       "    </tr>\n",
       "    <tr>\n",
       "      <th>22</th>\n",
       "      <td>Gene Transfers/Branch Length</td>\n",
       "      <td>2839.0</td>\n",
       "      <td>7.499414e-01</td>\n",
       "      <td>0.484802</td>\n",
       "      <td>62.898991</td>\n",
       "      <td>67.816610</td>\n",
       "      <td>96</td>\n",
       "      <td>61</td>\n",
       "      <td>internal</td>\n",
       "      <td>NaN</td>\n",
       "      <td>ale</td>\n",
       "      <td>count</td>\n",
       "    </tr>\n",
       "    <tr>\n",
       "      <th>19</th>\n",
       "      <td>Gene Transfers/Branch Length</td>\n",
       "      <td>3188.5</td>\n",
       "      <td>3.485992e-01</td>\n",
       "      <td>0.544484</td>\n",
       "      <td>333.487126</td>\n",
       "      <td>259.773550</td>\n",
       "      <td>96</td>\n",
       "      <td>61</td>\n",
       "      <td>internal</td>\n",
       "      <td>NaN</td>\n",
       "      <td>count</td>\n",
       "      <td>count</td>\n",
       "    </tr>\n",
       "    <tr>\n",
       "      <th>13</th>\n",
       "      <td>Gene Transfers/Branch Length</td>\n",
       "      <td>3518.0</td>\n",
       "      <td>3.375575e-02</td>\n",
       "      <td>0.600751</td>\n",
       "      <td>616.222119</td>\n",
       "      <td>531.388158</td>\n",
       "      <td>96</td>\n",
       "      <td>61</td>\n",
       "      <td>internal</td>\n",
       "      <td>*</td>\n",
       "      <td>ml gloome</td>\n",
       "      <td>count</td>\n",
       "    </tr>\n",
       "    <tr>\n",
       "      <th>16</th>\n",
       "      <td>Gene Transfers/Branch Length</td>\n",
       "      <td>2922.0</td>\n",
       "      <td>9.841971e-01</td>\n",
       "      <td>0.498975</td>\n",
       "      <td>1233.571115</td>\n",
       "      <td>1212.611250</td>\n",
       "      <td>96</td>\n",
       "      <td>61</td>\n",
       "      <td>internal</td>\n",
       "      <td>NaN</td>\n",
       "      <td>mp gloome</td>\n",
       "      <td>count</td>\n",
       "    </tr>\n",
       "    <tr>\n",
       "      <th>10</th>\n",
       "      <td>Gene Transfers/Branch Length</td>\n",
       "      <td>2839.0</td>\n",
       "      <td>7.499414e-01</td>\n",
       "      <td>0.484802</td>\n",
       "      <td>62.898991</td>\n",
       "      <td>67.816610</td>\n",
       "      <td>96</td>\n",
       "      <td>61</td>\n",
       "      <td>internal</td>\n",
       "      <td>NaN</td>\n",
       "      <td>ale</td>\n",
       "      <td>mp gloome</td>\n",
       "    </tr>\n",
       "    <tr>\n",
       "      <th>7</th>\n",
       "      <td>Gene Transfers/Branch Length</td>\n",
       "      <td>3188.5</td>\n",
       "      <td>3.485992e-01</td>\n",
       "      <td>0.544484</td>\n",
       "      <td>333.487126</td>\n",
       "      <td>259.773550</td>\n",
       "      <td>96</td>\n",
       "      <td>61</td>\n",
       "      <td>internal</td>\n",
       "      <td>NaN</td>\n",
       "      <td>count</td>\n",
       "      <td>mp gloome</td>\n",
       "    </tr>\n",
       "    <tr>\n",
       "      <th>1</th>\n",
       "      <td>Gene Transfers/Branch Length</td>\n",
       "      <td>3518.0</td>\n",
       "      <td>3.375575e-02</td>\n",
       "      <td>0.600751</td>\n",
       "      <td>616.222119</td>\n",
       "      <td>531.388158</td>\n",
       "      <td>96</td>\n",
       "      <td>61</td>\n",
       "      <td>internal</td>\n",
       "      <td>*</td>\n",
       "      <td>ml gloome</td>\n",
       "      <td>mp gloome</td>\n",
       "    </tr>\n",
       "    <tr>\n",
       "      <th>4</th>\n",
       "      <td>Gene Transfers/Branch Length</td>\n",
       "      <td>2922.0</td>\n",
       "      <td>9.841971e-01</td>\n",
       "      <td>0.498975</td>\n",
       "      <td>1233.571115</td>\n",
       "      <td>1212.611250</td>\n",
       "      <td>96</td>\n",
       "      <td>61</td>\n",
       "      <td>internal</td>\n",
       "      <td>NaN</td>\n",
       "      <td>mp gloome</td>\n",
       "      <td>mp gloome</td>\n",
       "    </tr>\n",
       "    <tr>\n",
       "      <th>21</th>\n",
       "      <td>Gene Transfers/Branch Length</td>\n",
       "      <td>1295.0</td>\n",
       "      <td>7.151435e-03</td>\n",
       "      <td>0.734127</td>\n",
       "      <td>32.996444</td>\n",
       "      <td>24.244007</td>\n",
       "      <td>12</td>\n",
       "      <td>147</td>\n",
       "      <td>terminal</td>\n",
       "      <td>*</td>\n",
       "      <td>ale</td>\n",
       "      <td>count</td>\n",
       "    </tr>\n",
       "    <tr>\n",
       "      <th>18</th>\n",
       "      <td>Gene Transfers/Branch Length</td>\n",
       "      <td>1120.0</td>\n",
       "      <td>1.214633e-01</td>\n",
       "      <td>0.634921</td>\n",
       "      <td>166.381265</td>\n",
       "      <td>74.188875</td>\n",
       "      <td>12</td>\n",
       "      <td>147</td>\n",
       "      <td>terminal</td>\n",
       "      <td>NaN</td>\n",
       "      <td>count</td>\n",
       "      <td>count</td>\n",
       "    </tr>\n",
       "    <tr>\n",
       "      <th>12</th>\n",
       "      <td>Gene Transfers/Branch Length</td>\n",
       "      <td>1149.0</td>\n",
       "      <td>8.226104e-02</td>\n",
       "      <td>0.651361</td>\n",
       "      <td>488.905109</td>\n",
       "      <td>365.842177</td>\n",
       "      <td>12</td>\n",
       "      <td>147</td>\n",
       "      <td>terminal</td>\n",
       "      <td>NaN</td>\n",
       "      <td>ml gloome</td>\n",
       "      <td>count</td>\n",
       "    </tr>\n",
       "    <tr>\n",
       "      <th>15</th>\n",
       "      <td>Gene Transfers/Branch Length</td>\n",
       "      <td>1109.0</td>\n",
       "      <td>1.397039e-01</td>\n",
       "      <td>0.628685</td>\n",
       "      <td>773.474490</td>\n",
       "      <td>634.843459</td>\n",
       "      <td>12</td>\n",
       "      <td>147</td>\n",
       "      <td>terminal</td>\n",
       "      <td>NaN</td>\n",
       "      <td>mp gloome</td>\n",
       "      <td>count</td>\n",
       "    </tr>\n",
       "    <tr>\n",
       "      <th>9</th>\n",
       "      <td>Gene Transfers/Branch Length</td>\n",
       "      <td>1295.0</td>\n",
       "      <td>7.151435e-03</td>\n",
       "      <td>0.734127</td>\n",
       "      <td>32.996444</td>\n",
       "      <td>24.244007</td>\n",
       "      <td>12</td>\n",
       "      <td>147</td>\n",
       "      <td>terminal</td>\n",
       "      <td>*</td>\n",
       "      <td>ale</td>\n",
       "      <td>mp gloome</td>\n",
       "    </tr>\n",
       "    <tr>\n",
       "      <th>6</th>\n",
       "      <td>Gene Transfers/Branch Length</td>\n",
       "      <td>1120.0</td>\n",
       "      <td>1.214633e-01</td>\n",
       "      <td>0.634921</td>\n",
       "      <td>166.381265</td>\n",
       "      <td>74.188875</td>\n",
       "      <td>12</td>\n",
       "      <td>147</td>\n",
       "      <td>terminal</td>\n",
       "      <td>NaN</td>\n",
       "      <td>count</td>\n",
       "      <td>mp gloome</td>\n",
       "    </tr>\n",
       "    <tr>\n",
       "      <th>0</th>\n",
       "      <td>Gene Transfers/Branch Length</td>\n",
       "      <td>1149.0</td>\n",
       "      <td>8.226104e-02</td>\n",
       "      <td>0.651361</td>\n",
       "      <td>488.905109</td>\n",
       "      <td>365.842177</td>\n",
       "      <td>12</td>\n",
       "      <td>147</td>\n",
       "      <td>terminal</td>\n",
       "      <td>NaN</td>\n",
       "      <td>ml gloome</td>\n",
       "      <td>mp gloome</td>\n",
       "    </tr>\n",
       "    <tr>\n",
       "      <th>3</th>\n",
       "      <td>Gene Transfers/Branch Length</td>\n",
       "      <td>1109.0</td>\n",
       "      <td>1.397039e-01</td>\n",
       "      <td>0.628685</td>\n",
       "      <td>773.474490</td>\n",
       "      <td>634.843459</td>\n",
       "      <td>12</td>\n",
       "      <td>147</td>\n",
       "      <td>terminal</td>\n",
       "      <td>NaN</td>\n",
       "      <td>mp gloome</td>\n",
       "      <td>mp gloome</td>\n",
       "    </tr>\n",
       "  </tbody>\n",
       "</table>\n",
       "</div>"
      ],
      "text/plain": [
       "                        Variable  Mann-Whitney U       p-value      CLES  \\\n",
       "23  Gene Transfers/Branch Length         15391.0  6.728865e-08  0.685141   \n",
       "20  Gene Transfers/Branch Length         14157.5  1.458212e-04  0.630231   \n",
       "14  Gene Transfers/Branch Length         14987.0  1.094603e-06  0.667156   \n",
       "17  Gene Transfers/Branch Length         14246.0  9.156976e-05  0.634170   \n",
       "11  Gene Transfers/Branch Length         15391.0  6.728865e-08  0.685141   \n",
       "8   Gene Transfers/Branch Length         14157.5  1.458212e-04  0.630231   \n",
       "2   Gene Transfers/Branch Length         14987.0  1.094603e-06  0.667156   \n",
       "5   Gene Transfers/Branch Length         14246.0  9.156976e-05  0.634170   \n",
       "22  Gene Transfers/Branch Length          2839.0  7.499414e-01  0.484802   \n",
       "19  Gene Transfers/Branch Length          3188.5  3.485992e-01  0.544484   \n",
       "13  Gene Transfers/Branch Length          3518.0  3.375575e-02  0.600751   \n",
       "16  Gene Transfers/Branch Length          2922.0  9.841971e-01  0.498975   \n",
       "10  Gene Transfers/Branch Length          2839.0  7.499414e-01  0.484802   \n",
       "7   Gene Transfers/Branch Length          3188.5  3.485992e-01  0.544484   \n",
       "1   Gene Transfers/Branch Length          3518.0  3.375575e-02  0.600751   \n",
       "4   Gene Transfers/Branch Length          2922.0  9.841971e-01  0.498975   \n",
       "21  Gene Transfers/Branch Length          1295.0  7.151435e-03  0.734127   \n",
       "18  Gene Transfers/Branch Length          1120.0  1.214633e-01  0.634921   \n",
       "12  Gene Transfers/Branch Length          1149.0  8.226104e-02  0.651361   \n",
       "15  Gene Transfers/Branch Length          1109.0  1.397039e-01  0.628685   \n",
       "9   Gene Transfers/Branch Length          1295.0  7.151435e-03  0.734127   \n",
       "6   Gene Transfers/Branch Length          1120.0  1.214633e-01  0.634921   \n",
       "0   Gene Transfers/Branch Length          1149.0  8.226104e-02  0.651361   \n",
       "3   Gene Transfers/Branch Length          1109.0  1.397039e-01  0.628685   \n",
       "\n",
       "    Mean HGT with Zero Ecosystem Transfers  \\\n",
       "23                               59.576486   \n",
       "20                              314.919808   \n",
       "14                              602.075785   \n",
       "17                             1182.449267   \n",
       "11                               59.576486   \n",
       "8                               314.919808   \n",
       "2                               602.075785   \n",
       "5                              1182.449267   \n",
       "22                               62.898991   \n",
       "19                              333.487126   \n",
       "13                              616.222119   \n",
       "16                             1233.571115   \n",
       "10                               62.898991   \n",
       "7                               333.487126   \n",
       "1                               616.222119   \n",
       "4                              1233.571115   \n",
       "21                               32.996444   \n",
       "18                              166.381265   \n",
       "12                              488.905109   \n",
       "15                              773.474490   \n",
       "9                                32.996444   \n",
       "6                               166.381265   \n",
       "0                               488.905109   \n",
       "3                               773.474490   \n",
       "\n",
       "    Mean HGT with Nonzero Ecosystem Transfers  \\\n",
       "23                                  37.022510   \n",
       "20                                 128.615150   \n",
       "14                                 414.391720   \n",
       "17                                 804.284974   \n",
       "11                                  37.022510   \n",
       "8                                  128.615150   \n",
       "2                                  414.391720   \n",
       "5                                  804.284974   \n",
       "22                                  67.816610   \n",
       "19                                 259.773550   \n",
       "13                                 531.388158   \n",
       "16                                1212.611250   \n",
       "10                                  67.816610   \n",
       "7                                  259.773550   \n",
       "1                                  531.388158   \n",
       "4                                 1212.611250   \n",
       "21                                  24.244007   \n",
       "18                                  74.188875   \n",
       "12                                 365.842177   \n",
       "15                                 634.843459   \n",
       "9                                   24.244007   \n",
       "6                                   74.188875   \n",
       "0                                  365.842177   \n",
       "3                                  634.843459   \n",
       "\n",
       "    Number of branches with Zero Ecosystem Transfers  \\\n",
       "23                                               108   \n",
       "20                                               108   \n",
       "14                                               108   \n",
       "17                                               108   \n",
       "11                                               108   \n",
       "8                                                108   \n",
       "2                                                108   \n",
       "5                                                108   \n",
       "22                                                96   \n",
       "19                                                96   \n",
       "13                                                96   \n",
       "16                                                96   \n",
       "10                                                96   \n",
       "7                                                 96   \n",
       "1                                                 96   \n",
       "4                                                 96   \n",
       "21                                                12   \n",
       "18                                                12   \n",
       "12                                                12   \n",
       "15                                                12   \n",
       "9                                                 12   \n",
       "6                                                 12   \n",
       "0                                                 12   \n",
       "3                                                 12   \n",
       "\n",
       "    Number of branches with Nonzero Ecosystem Transfers Terminal or Internal  \\\n",
       "23                                                208                    all   \n",
       "20                                                208                    all   \n",
       "14                                                208                    all   \n",
       "17                                                208                    all   \n",
       "11                                                208                    all   \n",
       "8                                                 208                    all   \n",
       "2                                                 208                    all   \n",
       "5                                                 208                    all   \n",
       "22                                                 61               internal   \n",
       "19                                                 61               internal   \n",
       "13                                                 61               internal   \n",
       "16                                                 61               internal   \n",
       "10                                                 61               internal   \n",
       "7                                                  61               internal   \n",
       "1                                                  61               internal   \n",
       "4                                                  61               internal   \n",
       "21                                                147               terminal   \n",
       "18                                                147               terminal   \n",
       "12                                                147               terminal   \n",
       "15                                                147               terminal   \n",
       "9                                                 147               terminal   \n",
       "6                                                 147               terminal   \n",
       "0                                                 147               terminal   \n",
       "3                                                 147               terminal   \n",
       "\n",
       "   significant HGT inference method Ecosystem transfer inference method  \n",
       "23           *                  ale                               count  \n",
       "20           *                count                               count  \n",
       "14           *            ml gloome                               count  \n",
       "17           *            mp gloome                               count  \n",
       "11           *                  ale                           mp gloome  \n",
       "8            *                count                           mp gloome  \n",
       "2            *            ml gloome                           mp gloome  \n",
       "5            *            mp gloome                           mp gloome  \n",
       "22         NaN                  ale                               count  \n",
       "19         NaN                count                               count  \n",
       "13           *            ml gloome                               count  \n",
       "16         NaN            mp gloome                               count  \n",
       "10         NaN                  ale                           mp gloome  \n",
       "7          NaN                count                           mp gloome  \n",
       "1            *            ml gloome                           mp gloome  \n",
       "4          NaN            mp gloome                           mp gloome  \n",
       "21           *                  ale                               count  \n",
       "18         NaN                count                               count  \n",
       "12         NaN            ml gloome                               count  \n",
       "15         NaN            mp gloome                               count  \n",
       "9            *                  ale                           mp gloome  \n",
       "6          NaN                count                           mp gloome  \n",
       "0          NaN            ml gloome                           mp gloome  \n",
       "3          NaN            mp gloome                           mp gloome  "
      ]
     },
     "metadata": {},
     "output_type": "display_data"
    }
   ],
   "source": [
    "# read in TSVs of spearman results\n",
    "spearman_results_filepaths = [os.path.join(stats_dir, f) for f in os.listdir(stats_dir) if f.startswith('spearman_correlations')]\n",
    "spearman_results_dfs = {f:pd.read_csv(f, sep='\\t') for f in spearman_results_filepaths}\n",
    "\n",
    "# for each df, add a column with the methods used\n",
    "for i, df in spearman_results_dfs.items():\n",
    "    spearman_results_file_basename = os.path.basename(i)\n",
    "    gene_method = ' '.join(spearman_results_file_basename.split('-')[2].split('.')[1:])\n",
    "    env_method = ' '.join(spearman_results_file_basename.split('-')[3].split('.')[1:-1])\n",
    "    df['HGT inference method'] = gene_method\n",
    "    df['Ecosystem transfer inference method'] = env_method\n",
    "\n",
    "combined_spearman_results_df = pd.concat(spearman_results_dfs.values(), ignore_index=True)\n",
    "# sort by terminal or internal, then env_method, then gene_method\n",
    "combined_spearman_results_df = combined_spearman_results_df.sort_values(\n",
    "    by=['Terminal or Internal', 'Ecosystem transfer inference method', 'HGT inference method'])\n",
    "\n",
    "display(combined_spearman_results_df)\n",
    "combined_spearman_results_df.to_csv(os.path.join(\n",
    "    stats_dir, 'spearman_rho_results.across_methods.tsv'), sep='\\t', index=False)\n",
    "\n",
    "# similarly for mwu results\n",
    "mwu_results_filepaths = [os.path.join(stats_dir, f) for f in os.listdir(stats_dir) if f.startswith('mwu-')]\n",
    "mwu_results_dfs = {f:pd.read_csv(f, sep='\\t') for f in mwu_results_filepaths}\n",
    "\n",
    "# for each df, add a column with the methods used\n",
    "for i, df in mwu_results_dfs.items():\n",
    "    mwu_results_file_basename = os.path.basename(i)\n",
    "    gene_method = ' '.join(mwu_results_file_basename.split('-')[2].split('.')[1:])\n",
    "    env_method = ' '.join(mwu_results_file_basename.split('-')[3].split('.')[1:-1])\n",
    "    df['HGT inference method'] = gene_method\n",
    "    df['Ecosystem transfer inference method'] = env_method\n",
    "\n",
    "    # keep only Variable == 'Gene Transfers/Branch Length'\n",
    "    mwu_results_dfs[i] = df[df[\"Variable\"] == \"Gene Transfers/Branch Length\"]\n",
    "    \n",
    "combined_mwu_results_df = pd.concat(mwu_results_dfs.values(), ignore_index=True)\n",
    "# sort by terminal or internal, then env_method, then gene_method\n",
    "combined_mwu_results_df = combined_mwu_results_df.sort_values(\n",
    "    by=['Terminal or Internal', 'Ecosystem transfer inference method', 'HGT inference method'])\n",
    "\n",
    "display(combined_mwu_results_df)\n",
    "combined_mwu_results_df.to_csv(os.path.join(\n",
    "    stats_dir, 'mwu_results.across_methods.tsv'), sep='\\t', index=False)"
   ]
  },
  {
   "cell_type": "code",
   "execution_count": 5,
   "metadata": {},
   "outputs": [
    {
     "data": {
      "image/png": "[encoded data removed]",
      "text/plain": [
       "<Figure size 1000x600 with 1 Axes>"
      ]
     },
     "metadata": {},
     "output_type": "display_data"
    }
   ],
   "source": [
    "# plot box plots of the gene transfer rates for each gene method and count as env method\n",
    "combined_dfs_list = [f\"{stats_dir}/{fi}\" for fi in os.listdir(stats_dir) if fi.startswith('combined_df') and fi.endswith('.count.tsv')]\n",
    "\n",
    "cged.plot_box_plots_comparing_gene_env(combined_dfs_list, plots_dir)"
   ]
  },
  {
   "cell_type": "code",
   "execution_count": 6,
   "metadata": {},
   "outputs": [
    {
     "data": {
      "text/html": [
       "<div>\n",
       "<style scoped>\n",
       "    .dataframe tbody tr th:only-of-type {\n",
       "        vertical-align: middle;\n",
       "    }\n",
       "\n",
       "    .dataframe tbody tr th {\n",
       "        vertical-align: top;\n",
       "    }\n",
       "\n",
       "    .dataframe thead th {\n",
       "        text-align: right;\n",
       "    }\n",
       "</style>\n",
       "<table border=\"1\" class=\"dataframe\">\n",
       "  <thead>\n",
       "    <tr style=\"text-align: right;\">\n",
       "      <th></th>\n",
       "      <th>HGT inference method</th>\n",
       "      <th>Ecosystem transfer inference method</th>\n",
       "      <th>Mean HGT with Nonzero Ecosystem Transfers</th>\n",
       "      <th>Mean HGT with Zero Ecosystem Transfers</th>\n",
       "      <th>Mann-Whitney U</th>\n",
       "      <th>p-value</th>\n",
       "      <th>CLES</th>\n",
       "      <th>Number of branches with Nonzero Ecosystem Transfers</th>\n",
       "      <th>Number of branches with Zero Ecosystem Transfers</th>\n",
       "    </tr>\n",
       "  </thead>\n",
       "  <tbody>\n",
       "    <tr>\n",
       "      <th>0</th>\n",
       "      <td>ALE</td>\n",
       "      <td>Count</td>\n",
       "      <td>37.022510</td>\n",
       "      <td>59.576486</td>\n",
       "      <td>15391.0</td>\n",
       "      <td>6.728865e-08</td>\n",
       "      <td>0.685141</td>\n",
       "      <td>208</td>\n",
       "      <td>108</td>\n",
       "    </tr>\n",
       "    <tr>\n",
       "      <th>1</th>\n",
       "      <td>Count</td>\n",
       "      <td>Count</td>\n",
       "      <td>128.615150</td>\n",
       "      <td>314.919808</td>\n",
       "      <td>14157.5</td>\n",
       "      <td>1.458212e-04</td>\n",
       "      <td>0.630231</td>\n",
       "      <td>208</td>\n",
       "      <td>108</td>\n",
       "    </tr>\n",
       "    <tr>\n",
       "      <th>2</th>\n",
       "      <td>ML GLOOME</td>\n",
       "      <td>Count</td>\n",
       "      <td>414.391720</td>\n",
       "      <td>602.075785</td>\n",
       "      <td>14987.0</td>\n",
       "      <td>1.094603e-06</td>\n",
       "      <td>0.667156</td>\n",
       "      <td>208</td>\n",
       "      <td>108</td>\n",
       "    </tr>\n",
       "    <tr>\n",
       "      <th>3</th>\n",
       "      <td>MP GLOOME</td>\n",
       "      <td>Count</td>\n",
       "      <td>804.284974</td>\n",
       "      <td>1182.449267</td>\n",
       "      <td>14246.0</td>\n",
       "      <td>9.156976e-05</td>\n",
       "      <td>0.634170</td>\n",
       "      <td>208</td>\n",
       "      <td>108</td>\n",
       "    </tr>\n",
       "    <tr>\n",
       "      <th>4</th>\n",
       "      <td>ALE</td>\n",
       "      <td>MP GLOOME</td>\n",
       "      <td>37.022510</td>\n",
       "      <td>59.576486</td>\n",
       "      <td>15391.0</td>\n",
       "      <td>6.728865e-08</td>\n",
       "      <td>0.685141</td>\n",
       "      <td>208</td>\n",
       "      <td>108</td>\n",
       "    </tr>\n",
       "    <tr>\n",
       "      <th>5</th>\n",
       "      <td>Count</td>\n",
       "      <td>MP GLOOME</td>\n",
       "      <td>128.615150</td>\n",
       "      <td>314.919808</td>\n",
       "      <td>14157.5</td>\n",
       "      <td>1.458212e-04</td>\n",
       "      <td>0.630231</td>\n",
       "      <td>208</td>\n",
       "      <td>108</td>\n",
       "    </tr>\n",
       "    <tr>\n",
       "      <th>6</th>\n",
       "      <td>ML GLOOME</td>\n",
       "      <td>MP GLOOME</td>\n",
       "      <td>414.391720</td>\n",
       "      <td>602.075785</td>\n",
       "      <td>14987.0</td>\n",
       "      <td>1.094603e-06</td>\n",
       "      <td>0.667156</td>\n",
       "      <td>208</td>\n",
       "      <td>108</td>\n",
       "    </tr>\n",
       "    <tr>\n",
       "      <th>7</th>\n",
       "      <td>MP GLOOME</td>\n",
       "      <td>MP GLOOME</td>\n",
       "      <td>804.284974</td>\n",
       "      <td>1182.449267</td>\n",
       "      <td>14246.0</td>\n",
       "      <td>9.156976e-05</td>\n",
       "      <td>0.634170</td>\n",
       "      <td>208</td>\n",
       "      <td>108</td>\n",
       "    </tr>\n",
       "  </tbody>\n",
       "</table>\n",
       "</div>"
      ],
      "text/plain": [
       "  HGT inference method Ecosystem transfer inference method  \\\n",
       "0                  ALE                               Count   \n",
       "1                Count                               Count   \n",
       "2            ML GLOOME                               Count   \n",
       "3            MP GLOOME                               Count   \n",
       "4                  ALE                           MP GLOOME   \n",
       "5                Count                           MP GLOOME   \n",
       "6            ML GLOOME                           MP GLOOME   \n",
       "7            MP GLOOME                           MP GLOOME   \n",
       "\n",
       "   Mean HGT with Nonzero Ecosystem Transfers  \\\n",
       "0                                  37.022510   \n",
       "1                                 128.615150   \n",
       "2                                 414.391720   \n",
       "3                                 804.284974   \n",
       "4                                  37.022510   \n",
       "5                                 128.615150   \n",
       "6                                 414.391720   \n",
       "7                                 804.284974   \n",
       "\n",
       "   Mean HGT with Zero Ecosystem Transfers  Mann-Whitney U       p-value  \\\n",
       "0                               59.576486         15391.0  6.728865e-08   \n",
       "1                              314.919808         14157.5  1.458212e-04   \n",
       "2                              602.075785         14987.0  1.094603e-06   \n",
       "3                             1182.449267         14246.0  9.156976e-05   \n",
       "4                               59.576486         15391.0  6.728865e-08   \n",
       "5                              314.919808         14157.5  1.458212e-04   \n",
       "6                              602.075785         14987.0  1.094603e-06   \n",
       "7                             1182.449267         14246.0  9.156976e-05   \n",
       "\n",
       "       CLES  Number of branches with Nonzero Ecosystem Transfers  \\\n",
       "0  0.685141                                                208     \n",
       "1  0.630231                                                208     \n",
       "2  0.667156                                                208     \n",
       "3  0.634170                                                208     \n",
       "4  0.685141                                                208     \n",
       "5  0.630231                                                208     \n",
       "6  0.667156                                                208     \n",
       "7  0.634170                                                208     \n",
       "\n",
       "   Number of branches with Zero Ecosystem Transfers  \n",
       "0                                               108  \n",
       "1                                               108  \n",
       "2                                               108  \n",
       "3                                               108  \n",
       "4                                               108  \n",
       "5                                               108  \n",
       "6                                               108  \n",
       "7                                               108  "
      ]
     },
     "metadata": {},
     "output_type": "display_data"
    },
    {
     "name": "stdout",
     "output_type": "stream",
     "text": [
      "\\begin{tabular}{llrrrlrrr}\n",
      "\\toprule\n",
      "HGT inference method & Ecosystem transfer inference method & Mean HGT with Nonzero Ecosystem Transfers & Mean HGT with Zero Ecosystem Transfers & Mann-Whitney U & p-value & CLES & Number of branches with Nonzero Ecosystem Transfers & Number of branches with Zero Ecosystem Transfers \\\\\n",
      "\\midrule\n",
      "ALE & Count & 37.023 & 59.576 & 15391.000 & \\num{6.7e-08} & 0.685 & 208 & 108 \\\\\n",
      "Count & Count & 128.615 & 314.920 & 14157.500 & \\num{0.00015} & 0.630 & 208 & 108 \\\\\n",
      "ML GLOOME & Count & 414.392 & 602.076 & 14987.000 & \\num{1.1e-06} & 0.667 & 208 & 108 \\\\\n",
      "MP GLOOME & Count & 804.285 & 1182.449 & 14246.000 & \\num{9.2e-05} & 0.634 & 208 & 108 \\\\\n",
      "ALE & MP GLOOME & 37.023 & 59.576 & 15391.000 & \\num{6.7e-08} & 0.685 & 208 & 108 \\\\\n",
      "Count & MP GLOOME & 128.615 & 314.920 & 14157.500 & \\num{0.00015} & 0.630 & 208 & 108 \\\\\n",
      "ML GLOOME & MP GLOOME & 414.392 & 602.076 & 14987.000 & \\num{1.1e-06} & 0.667 & 208 & 108 \\\\\n",
      "MP GLOOME & MP GLOOME & 804.285 & 1182.449 & 14246.000 & \\num{9.2e-05} & 0.634 & 208 & 108 \\\\\n",
      "\\bottomrule\n",
      "\\end{tabular}\n",
      "\n"
     ]
    }
   ],
   "source": [
    "# print mwu results again, but separate dfs for count and `mp gloome` env methods\n",
    "# read in TSVs of mwu results across methods\n",
    "mwu_results_filepath = os.path.join(stats_dir, 'mwu_results.across_methods.tsv')\n",
    "mwu_results_df = pd.read_csv(mwu_results_filepath, sep='\\t')\n",
    "mwu_results_df = mwu_results_df[mwu_results_df['Terminal or Internal'] == 'all']\n",
    "# replace 'count' with Count and other methods with Sentence Case\n",
    "mwu_results_df['Ecosystem transfer inference method'] = mwu_results_df['Ecosystem transfer inference method'].apply(lambda x: x.capitalize() if x == 'count' else x.upper())\n",
    "mwu_results_df['HGT inference method'] = mwu_results_df['HGT inference method'].apply(lambda x: x.capitalize() if x == 'count' else x.upper())\n",
    "# keep only relevant columns\n",
    "mwu_results_df = mwu_results_df[['HGT inference method', 'Ecosystem transfer inference method', \n",
    "                                 'Mean HGT with Nonzero Ecosystem Transfers', 'Mean HGT with Zero Ecosystem Transfers',\n",
    "                                    'Mann-Whitney U', 'p-value', \"CLES\",\n",
    "                                    'Number of branches with Nonzero Ecosystem Transfers', 'Number of branches with Zero Ecosystem Transfers']] \n",
    "\n",
    "display(mwu_results_df)\n",
    "# print latex here, with 3 decimal places and p-values in 10^-x format\n",
    "latex_printout_mwu = mwu_results_df.copy()\n",
    "# format the p-values as 10^-x\n",
    "latex_printout_mwu['p-value'] = latex_printout_mwu['p-value'].apply(lambda x: f\"\\\\num{{{x:.2g}}}\")\n",
    "print(latex_printout_mwu.to_latex(index=False, \n",
    "                                  float_format=\"{:0.3f}\".format, escape=False))\n"
   ]
  },
  {
   "cell_type": "code",
   "execution_count": null,
   "metadata": {},
   "outputs": [],
   "source": []
  }
 ],
 "metadata": {
  "kernelspec": {
   "display_name": "hgt_analyses",
   "language": "python",
   "name": "python3"
  },
  "language_info": {
   "codemirror_mode": {
    "name": "ipython",
    "version": 3
   },
   "file_extension": ".py",
   "mimetype": "text/x-python",
   "name": "python",
   "nbconvert_exporter": "python",
   "pygments_lexer": "ipython3",
   "version": "3.12.3"
  }
 },
 "nbformat": 4,
 "nbformat_minor": 2
}
