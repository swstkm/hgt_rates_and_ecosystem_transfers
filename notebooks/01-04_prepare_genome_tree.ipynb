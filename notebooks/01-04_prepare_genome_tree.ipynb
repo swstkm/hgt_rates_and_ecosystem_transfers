{
 "cells": [
  {
   "cell_type": "markdown",
   "metadata": {},
   "source": [
    "## Estimate the genome tree using ASTRAL"
   ]
  },
  {
   "cell_type": "code",
   "execution_count": 3,
   "metadata": {},
   "outputs": [],
   "source": [
    "import os\n",
    "\n",
    "# to suppress warning from ete3 because it's not up to date with py3.12\n",
    "import warnings\n",
    "warnings.filterwarnings(\"ignore\", category=SyntaxWarning)"
   ]
  },
  {
   "cell_type": "code",
   "execution_count": 4,
   "metadata": {},
   "outputs": [],
   "source": [
    "data_dir = os.path.join(os.path.dirname(os.getcwd()), 'data')\n",
    "filtered_dir = os.path.join(data_dir, 'filtered')\n",
    "# if filtered_dir doesn't exist, raise an error\n",
    "if not os.path.exists(filtered_dir):\n",
    "    raise FileNotFoundError(f\"Directory {filtered_dir} not found. Please run the previous notebook first.\")\n",
    "\n",
    "genome_tree_dir = os.path.join(data_dir, 'genome_tree')\n",
    "# if genome_tree_dir doesn't exist, make it\n",
    "if not os.path.exists(genome_tree_dir):\n",
    "    os.makedirs(genome_tree_dir)"
   ]
  },
  {
   "cell_type": "code",
   "execution_count": null,
   "metadata": {},
   "outputs": [],
   "source": [
    "# we set up filepaths for the ASTRAL run\n",
    "astral_bin_path = os.path.expanduser('~/bin/ASTER-Linux/bin/astral-pro')\n",
    "\n",
    "astral_input_filepath = os.path.join(\n",
    "    filtered_dir, 'gene_trees.broad_distribution.pruned.nwk')\n",
    "astral_mapping_filepath = os.path.join(\n",
    "    filtered_dir, 'map.gene_taxa.broad_distribution.txt')\n",
    "\n",
    "astral_log_path = os.path.join(data_dir, 'run.astral.log')\n",
    "astral_output_filepath = os.path.join(\n",
    "    genome_tree_dir, 'genome_tree.astral.nwk')\n",
    "\n",
    "# we set up filepaths for the IQ-TREE run\n",
    "iqtree_input_algs = os.path.join(filtered_dir, 'algs.filtered.concatenated.nex')\n",
    "iqtree_bin_path = os.path.expanduser('~/bin/iqtree-2.2.2.6-Linux/bin/iqtree2')"
   ]
  },
  {
   "cell_type": "code",
   "execution_count": null,
   "metadata": {},
   "outputs": [],
   "source": [
    "%%bash -s \"$astral_bin_path\" \"$astral_input_filepath\" \"$astral_mapping_filepath\" \"$astral_output_filepath\" \"$astral_log_path\"\n",
    "$1 -i $2 -a $3 -o $4 -t 100 2>$5"
   ]
  },
  {
   "cell_type": "markdown",
   "metadata": {},
   "source": [
    "## Estimate branch lengths of genome tree using IQTree\n",
    "\n",
    "<span style=\"color:red\">While ASTRAL-Pro should run very quickly, in the order of ~1min, IQTree might take several hours to complete. You might want to run it in a `screen` session instead of the notebook, or run it with `nohup` and `disown`</span>\n",
    "\n",
    "E.g. \n",
    "\n",
    "```bash\n",
    "# with current working directory being data/\n",
    "~/bin/iqtree-2.2.2.6-Linux/bin/iqtree2 -te genome_tree/genome_tree.astral.nwk -s filtered/algs.filtered.concatenated.nex -T 8 -m Q.pfam+I+R8 --prefix genome_tree/iqtree_output\n",
    "```\n",
    "\n",
    "...or with `nohup` and `disown`\n",
    "\n",
    "```bash\n",
    "nohup ~/bin/iqtree-2.2.2.6-Linux/bin/iqtree2 -te genome_tree/genome_tree.astral.nwk -s filtered/algs.filtered.concatenated.nex -T 8 -m Q.pfam+I+R8 --prefix genome_tree/iqtree_output & disown\n",
    "```"
   ]
  },
  {
   "cell_type": "markdown",
   "metadata": {},
   "source": [
    "## Root the genome tree using MAD\n",
    "\n",
    "MAD is Minimum Ancestor Deviation"
   ]
  },
  {
   "cell_type": "code",
   "execution_count": 1,
   "metadata": {},
   "outputs": [
    {
     "name": "stdout",
     "output_type": "stream",
     "text": [
      "\n",
      "MAD phylogenetic rooting\n",
      "\n",
      "Analyzing file '../data/genome_tree/genome_tree.iqtree.treefile'...\n",
      ">> [MAD=0.086_AI=0.994_CCV=9.77%_N=1/1]\n",
      "\n",
      "Minimal ancestor deviation, MAD = 0.086\n",
      "           Ambiguity index,  AI = 0.994\n",
      "                  Clock CV, CCV = 9.77%\n",
      "Rooted tree written to '../data/genome_tree/genome_tree.iqtree.treefile.rooted'\n",
      "\n",
      "\n",
      "    - Please cite DOI:10.1038/s41559-017-0193\n",
      "\n"
     ]
    }
   ],
   "source": [
    "%%bash\n",
    "~/bin/mad/mad ../data/genome_tree/genome_tree.iqtree.treefile"
   ]
  },
  {
   "cell_type": "code",
   "execution_count": 6,
   "metadata": {},
   "outputs": [
    {
     "name": "stdout",
     "output_type": "stream",
     "text": [
      "labelling  /root/work/projects/hgt_ecosystem/data/genome_tree/genome_tree.iqtree.treefile.rooted\n",
      "done.\n"
     ]
    }
   ],
   "source": [
    "# read in the treeFile, label internal nodes, and write out the tree with internal nodes labeled\n",
    "import ete3\n",
    "import os\n",
    "treefilepath = os.path.join(genome_tree_dir, 'genome_tree.iqtree.treefile.rooted')\n",
    "print('labelling ', treefilepath)\n",
    "tree = ete3.Tree(treefilepath, format=1)\n",
    "for i, node in enumerate(tree.traverse()):\n",
    "    if not node.is_leaf():\n",
    "        node.name = f'N{i+1}'\n",
    "# # this tree is rooted, so we can name the root node as 'NR'\n",
    "# tree.get_tree_root().name = 'NR'\n",
    "tree.write(outfile=f'{treefilepath}.labeled', format=1, format_root_node=True)\n",
    "print('done.')"
   ]
  }
 ],
 "metadata": {
  "kernelspec": {
   "display_name": "hgt_analyses",
   "language": "python",
   "name": "python3"
  },
  "language_info": {
   "codemirror_mode": {
    "name": "ipython",
    "version": 3
   },
   "file_extension": ".py",
   "mimetype": "text/x-python",
   "name": "python",
   "nbconvert_exporter": "python",
   "pygments_lexer": "ipython3",
   "version": "3.12.3"
  }
 },
 "nbformat": 4,
 "nbformat_minor": 2
}
