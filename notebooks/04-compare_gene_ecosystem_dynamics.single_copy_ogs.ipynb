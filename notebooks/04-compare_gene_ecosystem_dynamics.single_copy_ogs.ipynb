{
 "cells": [
  {
   "cell_type": "markdown",
   "metadata": {
    "vscode": {
     "languageId": "plaintext"
    }
   },
   "source": [
    "# Compare Gene Dynamics and Ecosystem Dynamics"
   ]
  },
  {
   "cell_type": "code",
   "execution_count": 1,
   "metadata": {},
   "outputs": [],
   "source": [
    "# to suppress warning from ete3 because it's not up to date with py3.12\n",
    "import warnings\n",
    "warnings.filterwarnings(\"ignore\", category=SyntaxWarning)"
   ]
  },
  {
   "cell_type": "code",
   "execution_count": 2,
   "metadata": {},
   "outputs": [],
   "source": [
    "import pandas as pd\n",
    "import numpy as np\n",
    "import scipy as sp\n",
    "import scipy.stats as st\n",
    "import matplotlib.pyplot as plt\n",
    "import statsmodels.api as sm\n",
    "import os\n",
    "import ete3\n",
    "import sys\n",
    "\n",
    "from plotly.offline import plot\n",
    "import plotly.graph_objs as go\n",
    "from plotly.subplots import make_subplots\n",
    "\n",
    "import plotly.io as pio\n",
    "pio.renderers.default = 'notebook'\n",
    "\n",
    "# in ../code we have compare_gene_ecosystem_dynamics.py which contains all the functions we need\n",
    "sys.path.append(os.path.join(os.path.dirname(os.getcwd()), 'code'))\n",
    "import compare_gene_ecosystem_dynamics as cged # this is from the code directory\n",
    "\n",
    "# set matplotlib params for the whole cell\n",
    "# xlabel and ylabel sizes should be 20\n",
    "# tick label sizes should be 16\n",
    "# legend label size should be 18\n",
    "\n",
    "# make dictionary of these params and then update rcParams\n",
    "rcParams_dict = {'font.size': 20,\n",
    "                 'xtick.labelsize': 16,\n",
    "                 'ytick.labelsize': 16,\n",
    "                 'legend.fontsize': 18}\n",
    "plt.rcParams.update(rcParams_dict)"
   ]
  },
  {
   "cell_type": "code",
   "execution_count": 3,
   "metadata": {},
   "outputs": [],
   "source": [
    "data_dir = os.path.join(os.path.dirname(os.getcwd()), 'data')\n",
    "compiled_results_dir = os.path.join(data_dir, 'compiled_results')\n",
    "\n",
    "plots_dir = os.path.join(data_dir, 'plots', 'single_copy')\n",
    "if not os.path.exists(plots_dir):\n",
    "    os.makedirs(plots_dir)\n",
    "stats_dir = os.path.join(data_dir, 'stats', 'single_copy')\n",
    "if not os.path.exists(stats_dir):\n",
    "    os.makedirs(stats_dir)\n",
    "\n",
    "genome_tree_labeled_filepath = os.path.join(data_dir, 'genome_tree/genome_tree.iqtree.treefile.rooted.labeled')\n",
    "single_copy_nogs_list_filepath = os.path.join(data_dir, 'filtered', 'map.nog_members_single_copy.tsv')\n"
   ]
  },
  {
   "cell_type": "code",
   "execution_count": 4,
   "metadata": {},
   "outputs": [
    {
     "name": "stdout",
     "output_type": "stream",
     "text": [
      "\n",
      "-------------------------------------------------------------------------------------\n",
      "\n",
      "\u001b[1m\u001b[30mAnalyzing gene dynamics file for \u001b[1;34mML.GLOOME\u001b[1;30m and env dynamics file for \u001b[1;34mMP.GLOOME\u001b[1;30m for \u001b[1;34mTERMINAL\u001b[1;30m branches\u001b[0m\n",
      "Skipping Spearman correlation for Ecosystem Losses and Gene Losses since one the variables has a constant value.\n",
      "Skipping Spearman correlation for Corrected Gene Losses and Corrected Ecosystem Losses since one the variables has a constant value.\n",
      "Skipping Spearman correlation for Branch Length and Ecosystem Losses since one the variables has a constant value.\n",
      "Skipping Spearman correlation for Branch Length and Corrected Ecosystem Losses since one the variables has a constant value.\n"
     ]
    },
    {
     "name": "stdout",
     "output_type": "stream",
     "text": [
      "Skipping Nonzero Ecosystem Losses branch set for Transfers due to empty set.\n",
      "Skipping Nonzero Ecosystem Losses branch set for Losses due to empty set.\n"
     ]
    },
    {
     "data": {
      "application/vnd.jupyter.widget-view+json": {
       "model_id": "6d65d729ac4b4e3598344c671cc34e34",
       "version_major": 2,
       "version_minor": 0
      },
      "text/plain": [
       "Accordion(children=(Output(), Output(), Output(), Output(), Output()), titles=('Dataframe', 'Spearman Correlat…"
      ]
     },
     "metadata": {},
     "output_type": "display_data"
    },
    {
     "data": {
      "application/vnd.jupyter.widget-view+json": {
       "model_id": "2e4afcb83dc141b58e0af80b681678a2",
       "version_major": 2,
       "version_minor": 0
      },
      "text/plain": [
       "Accordion(children=(Output(), Output(), Output()), titles=('Plot:Gene and Environment Dynamics Comparison', 'P…"
      ]
     },
     "metadata": {},
     "output_type": "display_data"
    },
    {
     "name": "stdout",
     "output_type": "stream",
     "text": [
      "\n",
      "-------------------------------------------------------------------------------------\n",
      "\n",
      "\u001b[1m\u001b[30mAnalyzing gene dynamics file for \u001b[1;34mML.GLOOME\u001b[1;30m and env dynamics file for \u001b[1;34mMP.GLOOME\u001b[1;30m for \u001b[1;34mINTERNAL\u001b[1;30m branches\u001b[0m\n",
      "Skipping Spearman correlation for Ecosystem Losses and Gene Losses since one the variables has a constant value.\n",
      "Skipping Spearman correlation for Corrected Gene Losses and Corrected Ecosystem Losses since one the variables has a constant value.\n",
      "Skipping Spearman correlation for Branch Length and Ecosystem Losses since one the variables has a constant value.\n",
      "Skipping Spearman correlation for Branch Length and Corrected Ecosystem Losses since one the variables has a constant value.\n"
     ]
    },
    {
     "name": "stdout",
     "output_type": "stream",
     "text": [
      "Skipping Nonzero Ecosystem Losses branch set for Transfers due to empty set.\n",
      "Skipping Nonzero Ecosystem Losses branch set for Losses due to empty set.\n"
     ]
    },
    {
     "data": {
      "application/vnd.jupyter.widget-view+json": {
       "model_id": "67f699bb933e4c7188804b2d82835d59",
       "version_major": 2,
       "version_minor": 0
      },
      "text/plain": [
       "Accordion(children=(Output(), Output(), Output(), Output(), Output()), titles=('Dataframe', 'Spearman Correlat…"
      ]
     },
     "metadata": {},
     "output_type": "display_data"
    },
    {
     "data": {
      "application/vnd.jupyter.widget-view+json": {
       "model_id": "8f74bb8e44d74e1ea597abb9a0e0fac0",
       "version_major": 2,
       "version_minor": 0
      },
      "text/plain": [
       "Accordion(children=(Output(), Output(), Output()), titles=('Plot:Gene and Environment Dynamics Comparison', 'P…"
      ]
     },
     "metadata": {},
     "output_type": "display_data"
    },
    {
     "name": "stdout",
     "output_type": "stream",
     "text": [
      "\n",
      "-------------------------------------------------------------------------------------\n",
      "\n",
      "\u001b[1m\u001b[30mAnalyzing gene dynamics file for \u001b[1;34mML.GLOOME\u001b[1;30m and env dynamics file for \u001b[1;34mMP.GLOOME\u001b[1;30m for \u001b[1;34mALL\u001b[1;30m branches\u001b[0m\n",
      "Skipping Spearman correlation for Ecosystem Losses and Gene Losses since one the variables has a constant value.\n",
      "Skipping Spearman correlation for Corrected Gene Losses and Corrected Ecosystem Losses since one the variables has a constant value.\n",
      "Skipping Spearman correlation for Branch Length and Ecosystem Losses since one the variables has a constant value.\n",
      "Skipping Spearman correlation for Branch Length and Corrected Ecosystem Losses since one the variables has a constant value.\n"
     ]
    },
    {
     "name": "stdout",
     "output_type": "stream",
     "text": [
      "Skipping Nonzero Ecosystem Losses branch set for Transfers due to empty set.\n",
      "Skipping Nonzero Ecosystem Losses branch set for Losses due to empty set.\n"
     ]
    },
    {
     "data": {
      "application/vnd.jupyter.widget-view+json": {
       "model_id": "bc45d16171814b63a2cf40b7ed054c8b",
       "version_major": 2,
       "version_minor": 0
      },
      "text/plain": [
       "Accordion(children=(Output(), Output(), Output(), Output(), Output()), titles=('Dataframe', 'Spearman Correlat…"
      ]
     },
     "metadata": {},
     "output_type": "display_data"
    },
    {
     "data": {
      "application/vnd.jupyter.widget-view+json": {
       "model_id": "521be285dc4548f0afd37fa0ba2ccc16",
       "version_major": 2,
       "version_minor": 0
      },
      "text/plain": [
       "Accordion(children=(Output(), Output(), Output()), titles=('Plot:Gene and Environment Dynamics Comparison', 'P…"
      ]
     },
     "metadata": {},
     "output_type": "display_data"
    },
    {
     "name": "stdout",
     "output_type": "stream",
     "text": [
      "\n",
      "-------------------------------------------------------------------------------------\n",
      "\n",
      "\u001b[1m\u001b[30mAnalyzing gene dynamics file for \u001b[1;34mMP.GLOOME\u001b[1;30m and env dynamics file for \u001b[1;34mMP.GLOOME\u001b[1;30m for \u001b[1;34mTERMINAL\u001b[1;30m branches\u001b[0m\n",
      "Skipping Spearman correlation for Ecosystem Losses and Gene Losses since one the variables has a constant value.\n",
      "Skipping Spearman correlation for Corrected Gene Losses and Corrected Ecosystem Losses since one the variables has a constant value.\n",
      "Skipping Spearman correlation for Branch Length and Gene Losses since one the variables has a constant value.\n",
      "Skipping Spearman correlation for Branch Length and Ecosystem Losses since one the variables has a constant value.\n",
      "Skipping Spearman correlation for Branch Length and Corrected Gene Losses since one the variables has a constant value.\n",
      "Skipping Spearman correlation for Branch Length and Corrected Ecosystem Losses since one the variables has a constant value.\n"
     ]
    },
    {
     "name": "stdout",
     "output_type": "stream",
     "text": [
      "Skipping Nonzero Ecosystem Losses branch set for Transfers due to empty set.\n",
      "Skipping Nonzero Ecosystem Losses branch set for Losses due to empty set.\n"
     ]
    },
    {
     "name": "stdout",
     "output_type": "stream",
     "text": [
      "Skipping randomized mean difference for Gene Losses due to constant value.\n",
      "Skipping randomized mean difference for Gene Losses/Branch Length due to constant value.\n"
     ]
    },
    {
     "data": {
      "application/vnd.jupyter.widget-view+json": {
       "model_id": "17dc520fb5dd43649ae31c56e9e4bf83",
       "version_major": 2,
       "version_minor": 0
      },
      "text/plain": [
       "Accordion(children=(Output(), Output(), Output(), Output(), Output()), titles=('Dataframe', 'Spearman Correlat…"
      ]
     },
     "metadata": {},
     "output_type": "display_data"
    },
    {
     "data": {
      "application/vnd.jupyter.widget-view+json": {
       "model_id": "987cba545b6b46fdb55b75ca781be8c4",
       "version_major": 2,
       "version_minor": 0
      },
      "text/plain": [
       "Accordion(children=(Output(), Output(), Output()), titles=('Plot:Gene and Environment Dynamics Comparison', 'P…"
      ]
     },
     "metadata": {},
     "output_type": "display_data"
    },
    {
     "name": "stdout",
     "output_type": "stream",
     "text": [
      "\n",
      "-------------------------------------------------------------------------------------\n",
      "\n",
      "\u001b[1m\u001b[30mAnalyzing gene dynamics file for \u001b[1;34mMP.GLOOME\u001b[1;30m and env dynamics file for \u001b[1;34mMP.GLOOME\u001b[1;30m for \u001b[1;34mINTERNAL\u001b[1;30m branches\u001b[0m\n",
      "Skipping Spearman correlation for Ecosystem Losses and Gene Losses since one the variables has a constant value.\n",
      "Skipping Spearman correlation for Corrected Gene Losses and Corrected Ecosystem Losses since one the variables has a constant value.\n",
      "Skipping Spearman correlation for Branch Length and Gene Losses since one the variables has a constant value.\n",
      "Skipping Spearman correlation for Branch Length and Ecosystem Losses since one the variables has a constant value.\n",
      "Skipping Spearman correlation for Branch Length and Corrected Gene Losses since one the variables has a constant value.\n",
      "Skipping Spearman correlation for Branch Length and Corrected Ecosystem Losses since one the variables has a constant value.\n"
     ]
    },
    {
     "name": "stdout",
     "output_type": "stream",
     "text": [
      "Skipping Nonzero Ecosystem Losses branch set for Transfers due to empty set.\n",
      "Skipping Nonzero Ecosystem Losses branch set for Losses due to empty set.\n"
     ]
    },
    {
     "name": "stdout",
     "output_type": "stream",
     "text": [
      "Skipping randomized mean difference for Gene Losses due to constant value.\n",
      "Skipping randomized mean difference for Gene Losses/Branch Length due to constant value.\n"
     ]
    },
    {
     "data": {
      "application/vnd.jupyter.widget-view+json": {
       "model_id": "2358f9eb6f194d0199c934bab269907f",
       "version_major": 2,
       "version_minor": 0
      },
      "text/plain": [
       "Accordion(children=(Output(), Output(), Output(), Output(), Output()), titles=('Dataframe', 'Spearman Correlat…"
      ]
     },
     "metadata": {},
     "output_type": "display_data"
    },
    {
     "data": {
      "application/vnd.jupyter.widget-view+json": {
       "model_id": "e6cbafa6743e4150a6cb95c20f7820b5",
       "version_major": 2,
       "version_minor": 0
      },
      "text/plain": [
       "Accordion(children=(Output(), Output(), Output()), titles=('Plot:Gene and Environment Dynamics Comparison', 'P…"
      ]
     },
     "metadata": {},
     "output_type": "display_data"
    },
    {
     "name": "stdout",
     "output_type": "stream",
     "text": [
      "\n",
      "-------------------------------------------------------------------------------------\n",
      "\n",
      "\u001b[1m\u001b[30mAnalyzing gene dynamics file for \u001b[1;34mMP.GLOOME\u001b[1;30m and env dynamics file for \u001b[1;34mMP.GLOOME\u001b[1;30m for \u001b[1;34mALL\u001b[1;30m branches\u001b[0m\n",
      "Skipping Spearman correlation for Ecosystem Losses and Gene Losses since one the variables has a constant value.\n",
      "Skipping Spearman correlation for Corrected Gene Losses and Corrected Ecosystem Losses since one the variables has a constant value.\n",
      "Skipping Spearman correlation for Branch Length and Gene Losses since one the variables has a constant value.\n",
      "Skipping Spearman correlation for Branch Length and Ecosystem Losses since one the variables has a constant value.\n",
      "Skipping Spearman correlation for Branch Length and Corrected Gene Losses since one the variables has a constant value.\n",
      "Skipping Spearman correlation for Branch Length and Corrected Ecosystem Losses since one the variables has a constant value.\n"
     ]
    },
    {
     "name": "stdout",
     "output_type": "stream",
     "text": [
      "Skipping Nonzero Ecosystem Losses branch set for Transfers due to empty set.\n",
      "Skipping Nonzero Ecosystem Losses branch set for Losses due to empty set.\n"
     ]
    },
    {
     "name": "stdout",
     "output_type": "stream",
     "text": [
      "Skipping randomized mean difference for Gene Losses due to constant value.\n",
      "Skipping randomized mean difference for Gene Losses/Branch Length due to constant value.\n"
     ]
    },
    {
     "data": {
      "application/vnd.jupyter.widget-view+json": {
       "model_id": "be1e6ca2465b44859582dde780f9074e",
       "version_major": 2,
       "version_minor": 0
      },
      "text/plain": [
       "Accordion(children=(Output(), Output(), Output(), Output(), Output()), titles=('Dataframe', 'Spearman Correlat…"
      ]
     },
     "metadata": {},
     "output_type": "display_data"
    },
    {
     "data": {
      "application/vnd.jupyter.widget-view+json": {
       "model_id": "cbb4fc687add4f648d366fde7b1e5c6a",
       "version_major": 2,
       "version_minor": 0
      },
      "text/plain": [
       "Accordion(children=(Output(), Output(), Output()), titles=('Plot:Gene and Environment Dynamics Comparison', 'P…"
      ]
     },
     "metadata": {},
     "output_type": "display_data"
    },
    {
     "name": "stdout",
     "output_type": "stream",
     "text": [
      "\n",
      "-------------------------------------------------------------------------------------\n",
      "\n",
      "\u001b[1m\u001b[30mAnalyzing gene dynamics file for \u001b[1;34mCOUNT\u001b[1;30m and env dynamics file for \u001b[1;34mMP.GLOOME\u001b[1;30m for \u001b[1;34mTERMINAL\u001b[1;30m branches\u001b[0m\n",
      "Skipping Spearman correlation for Ecosystem Losses and Gene Losses since one the variables has a constant value.\n",
      "Skipping Spearman correlation for Corrected Gene Losses and Corrected Ecosystem Losses since one the variables has a constant value.\n",
      "Skipping Spearman correlation for Branch Length and Ecosystem Losses since one the variables has a constant value.\n",
      "Skipping Spearman correlation for Branch Length and Corrected Ecosystem Losses since one the variables has a constant value.\n"
     ]
    },
    {
     "name": "stdout",
     "output_type": "stream",
     "text": [
      "Skipping Nonzero Ecosystem Losses branch set for Transfers due to empty set.\n",
      "Skipping Nonzero Ecosystem Losses branch set for Losses due to empty set.\n"
     ]
    },
    {
     "data": {
      "application/vnd.jupyter.widget-view+json": {
       "model_id": "6e9c0d30689a4cf39c39c1f8c17cb9bb",
       "version_major": 2,
       "version_minor": 0
      },
      "text/plain": [
       "Accordion(children=(Output(), Output(), Output(), Output(), Output()), titles=('Dataframe', 'Spearman Correlat…"
      ]
     },
     "metadata": {},
     "output_type": "display_data"
    },
    {
     "data": {
      "application/vnd.jupyter.widget-view+json": {
       "model_id": "8dc712d78f26487d9fe6181ce3fba2a9",
       "version_major": 2,
       "version_minor": 0
      },
      "text/plain": [
       "Accordion(children=(Output(), Output(), Output()), titles=('Plot:Gene and Environment Dynamics Comparison', 'P…"
      ]
     },
     "metadata": {},
     "output_type": "display_data"
    },
    {
     "name": "stdout",
     "output_type": "stream",
     "text": [
      "\n",
      "-------------------------------------------------------------------------------------\n",
      "\n",
      "\u001b[1m\u001b[30mAnalyzing gene dynamics file for \u001b[1;34mCOUNT\u001b[1;30m and env dynamics file for \u001b[1;34mMP.GLOOME\u001b[1;30m for \u001b[1;34mINTERNAL\u001b[1;30m branches\u001b[0m\n",
      "Skipping Spearman correlation for Ecosystem Losses and Gene Losses since one the variables has a constant value.\n",
      "Skipping Spearman correlation for Corrected Gene Losses and Corrected Ecosystem Losses since one the variables has a constant value.\n",
      "Skipping Spearman correlation for Branch Length and Ecosystem Losses since one the variables has a constant value.\n",
      "Skipping Spearman correlation for Branch Length and Corrected Ecosystem Losses since one the variables has a constant value.\n"
     ]
    },
    {
     "name": "stdout",
     "output_type": "stream",
     "text": [
      "Skipping Nonzero Ecosystem Losses branch set for Transfers due to empty set.\n",
      "Skipping Nonzero Ecosystem Losses branch set for Losses due to empty set.\n"
     ]
    },
    {
     "data": {
      "application/vnd.jupyter.widget-view+json": {
       "model_id": "d92626ba1aed49ad8d8971bb0174f5f1",
       "version_major": 2,
       "version_minor": 0
      },
      "text/plain": [
       "Accordion(children=(Output(), Output(), Output(), Output(), Output()), titles=('Dataframe', 'Spearman Correlat…"
      ]
     },
     "metadata": {},
     "output_type": "display_data"
    },
    {
     "data": {
      "application/vnd.jupyter.widget-view+json": {
       "model_id": "4963c8579f5941aca23f988ef926ab65",
       "version_major": 2,
       "version_minor": 0
      },
      "text/plain": [
       "Accordion(children=(Output(), Output(), Output()), titles=('Plot:Gene and Environment Dynamics Comparison', 'P…"
      ]
     },
     "metadata": {},
     "output_type": "display_data"
    },
    {
     "name": "stdout",
     "output_type": "stream",
     "text": [
      "\n",
      "-------------------------------------------------------------------------------------\n",
      "\n",
      "\u001b[1m\u001b[30mAnalyzing gene dynamics file for \u001b[1;34mCOUNT\u001b[1;30m and env dynamics file for \u001b[1;34mMP.GLOOME\u001b[1;30m for \u001b[1;34mALL\u001b[1;30m branches\u001b[0m\n",
      "Skipping Spearman correlation for Ecosystem Losses and Gene Losses since one the variables has a constant value.\n",
      "Skipping Spearman correlation for Corrected Gene Losses and Corrected Ecosystem Losses since one the variables has a constant value.\n",
      "Skipping Spearman correlation for Branch Length and Ecosystem Losses since one the variables has a constant value.\n",
      "Skipping Spearman correlation for Branch Length and Corrected Ecosystem Losses since one the variables has a constant value.\n"
     ]
    },
    {
     "name": "stdout",
     "output_type": "stream",
     "text": [
      "Skipping Nonzero Ecosystem Losses branch set for Transfers due to empty set.\n",
      "Skipping Nonzero Ecosystem Losses branch set for Losses due to empty set.\n"
     ]
    },
    {
     "data": {
      "application/vnd.jupyter.widget-view+json": {
       "model_id": "81d1dae5fba8449396dcd5474b55d798",
       "version_major": 2,
       "version_minor": 0
      },
      "text/plain": [
       "Accordion(children=(Output(), Output(), Output(), Output(), Output()), titles=('Dataframe', 'Spearman Correlat…"
      ]
     },
     "metadata": {},
     "output_type": "display_data"
    },
    {
     "data": {
      "application/vnd.jupyter.widget-view+json": {
       "model_id": "517b067563c84c43bf35387fadd6b350",
       "version_major": 2,
       "version_minor": 0
      },
      "text/plain": [
       "Accordion(children=(Output(), Output(), Output()), titles=('Plot:Gene and Environment Dynamics Comparison', 'P…"
      ]
     },
     "metadata": {},
     "output_type": "display_data"
    },
    {
     "name": "stdout",
     "output_type": "stream",
     "text": [
      "\n",
      "-------------------------------------------------------------------------------------\n",
      "\n",
      "\u001b[1m\u001b[30mAnalyzing gene dynamics file for \u001b[1;34mALE\u001b[1;30m and env dynamics file for \u001b[1;34mMP.GLOOME\u001b[1;30m for \u001b[1;34mTERMINAL\u001b[1;30m branches\u001b[0m\n"
     ]
    },
    {
     "data": {
      "application/vnd.jupyter.widget-view+json": {
       "model_id": "b14d6c8702f84a09bd45c58b64b1aa04",
       "version_major": 2,
       "version_minor": 0
      },
      "text/plain": [
       "Accordion(children=(Output(), Output(), Output(), Output(), Output()), titles=('Dataframe', 'Spearman Correlat…"
      ]
     },
     "metadata": {},
     "output_type": "display_data"
    },
    {
     "data": {
      "application/vnd.jupyter.widget-view+json": {
       "model_id": "d6fddded6d924dd383c047f33dc2e7dc",
       "version_major": 2,
       "version_minor": 0
      },
      "text/plain": [
       "Accordion(children=(Output(), Output(), Output()), titles=('Plot:Gene and Environment Dynamics Comparison', 'P…"
      ]
     },
     "metadata": {},
     "output_type": "display_data"
    },
    {
     "name": "stdout",
     "output_type": "stream",
     "text": [
      "\n",
      "-------------------------------------------------------------------------------------\n",
      "\n",
      "\u001b[1m\u001b[30mAnalyzing gene dynamics file for \u001b[1;34mALE\u001b[1;30m and env dynamics file for \u001b[1;34mMP.GLOOME\u001b[1;30m for \u001b[1;34mINTERNAL\u001b[1;30m branches\u001b[0m\n"
     ]
    },
    {
     "data": {
      "application/vnd.jupyter.widget-view+json": {
       "model_id": "83339a69b4624c82b51b1c7155cb995f",
       "version_major": 2,
       "version_minor": 0
      },
      "text/plain": [
       "Accordion(children=(Output(), Output(), Output(), Output(), Output()), titles=('Dataframe', 'Spearman Correlat…"
      ]
     },
     "metadata": {},
     "output_type": "display_data"
    },
    {
     "data": {
      "application/vnd.jupyter.widget-view+json": {
       "model_id": "86880938781a4aa8baf45a4dc3151b94",
       "version_major": 2,
       "version_minor": 0
      },
      "text/plain": [
       "Accordion(children=(Output(), Output(), Output()), titles=('Plot:Gene and Environment Dynamics Comparison', 'P…"
      ]
     },
     "metadata": {},
     "output_type": "display_data"
    },
    {
     "name": "stdout",
     "output_type": "stream",
     "text": [
      "\n",
      "-------------------------------------------------------------------------------------\n",
      "\n",
      "\u001b[1m\u001b[30mAnalyzing gene dynamics file for \u001b[1;34mALE\u001b[1;30m and env dynamics file for \u001b[1;34mMP.GLOOME\u001b[1;30m for \u001b[1;34mALL\u001b[1;30m branches\u001b[0m\n"
     ]
    },
    {
     "data": {
      "application/vnd.jupyter.widget-view+json": {
       "model_id": "0338d562bf964578838bf956a7338551",
       "version_major": 2,
       "version_minor": 0
      },
      "text/plain": [
       "Accordion(children=(Output(), Output(), Output(), Output(), Output()), titles=('Dataframe', 'Spearman Correlat…"
      ]
     },
     "metadata": {},
     "output_type": "display_data"
    },
    {
     "data": {
      "application/vnd.jupyter.widget-view+json": {
       "model_id": "b169dee252cd40b38b479d4167b1e959",
       "version_major": 2,
       "version_minor": 0
      },
      "text/plain": [
       "Accordion(children=(Output(), Output(), Output()), titles=('Plot:Gene and Environment Dynamics Comparison', 'P…"
      ]
     },
     "metadata": {},
     "output_type": "display_data"
    }
   ],
   "source": [
    "g = ['compiled_dynamics.varwise.branchwise.gene.ml.gloome.tsv','compiled_dynamics.varwise.branchwise.gene.mp.gloome.tsv', \n",
    "    'compiled_dynamics.varwise.branchwise.gene.count.tsv', 'compiled_transfers.varwise.branchwise.gene.ale.tsv']\n",
    "gene_dynamics_filepaths = [os.path.join(compiled_results_dir, f) for f in g]\n",
    "e = 'compiled_dynamics.varwise.branchwise.ecotype.mp.gloome.tsv'\n",
    "env_dynamics_filepath = os.path.join(compiled_results_dir, e)\n",
    "\n",
    "for gd in gene_dynamics_filepaths:\n",
    "    # gd_method is everything between 'gene.' and '.tsv'\n",
    "    gd_method = gd.split('gene.')[1].split('.tsv')[0]\n",
    "    # similarly for ed_method\n",
    "    ed_method = e.split('ecotype.')[1].split('.tsv')[0]\n",
    "    for terminal_or_internal in ['terminal', 'internal', 'all']:\n",
    "        print('\\n-------------------------------------------------------------------------------------\\n')\n",
    "        print(f'\\033[1m\\033[30mAnalyzing gene dynamics file for \\033[1;34m{\n",
    "            gd_method.upper()}\\033[1;30m and env dynamics file for \\033[1;34m{\n",
    "                ed_method.upper()}\\033[1;30m for \\033[1;34m{terminal_or_internal.upper()}\\033[1;30m branches\\033[0m')\n",
    "        cged.plot_gene_env_comparison(gene_dynamics_filepath=gd,\n",
    "                                env_dynamics_filepath=env_dynamics_filepath,\n",
    "                                input_tree_filepath=genome_tree_labeled_filepath,\n",
    "                                output_dir=stats_dir, plots_dir=plots_dir, terminal_or_internal=terminal_or_internal,\n",
    "                                single_copy_nogs_list_filepath=single_copy_nogs_list_filepath)"
   ]
  },
  {
   "cell_type": "code",
   "execution_count": 5,
   "metadata": {},
   "outputs": [
    {
     "name": "stdout",
     "output_type": "stream",
     "text": [
      "\n",
      "-------------------------------------------------------------------------------------\n",
      "\n",
      "\u001b[1m\u001b[30mAnalyzing gene dynamics file for \u001b[1;34mML.GLOOME\u001b[1;30m and env dynamics file for \u001b[1;34mCOUNT\u001b[1;30m for \u001b[1;34mTERMINAL\u001b[1;30m branches\u001b[0m\n"
     ]
    },
    {
     "data": {
      "application/vnd.jupyter.widget-view+json": {
       "model_id": "0ded03bd80374ca18e12f3620ad3bfc6",
       "version_major": 2,
       "version_minor": 0
      },
      "text/plain": [
       "Accordion(children=(Output(), Output(), Output(), Output(), Output()), titles=('Dataframe', 'Spearman Correlat…"
      ]
     },
     "metadata": {},
     "output_type": "display_data"
    },
    {
     "data": {
      "application/vnd.jupyter.widget-view+json": {
       "model_id": "ec20d8533e364a3fb82740c0d126a7ad",
       "version_major": 2,
       "version_minor": 0
      },
      "text/plain": [
       "Accordion(children=(Output(), Output(), Output()), titles=('Plot:Gene and Environment Dynamics Comparison', 'P…"
      ]
     },
     "metadata": {},
     "output_type": "display_data"
    },
    {
     "name": "stdout",
     "output_type": "stream",
     "text": [
      "\n",
      "-------------------------------------------------------------------------------------\n",
      "\n",
      "\u001b[1m\u001b[30mAnalyzing gene dynamics file for \u001b[1;34mML.GLOOME\u001b[1;30m and env dynamics file for \u001b[1;34mCOUNT\u001b[1;30m for \u001b[1;34mINTERNAL\u001b[1;30m branches\u001b[0m\n"
     ]
    },
    {
     "data": {
      "application/vnd.jupyter.widget-view+json": {
       "model_id": "1d27f2c2ef44491caad0bfa52b533e4a",
       "version_major": 2,
       "version_minor": 0
      },
      "text/plain": [
       "Accordion(children=(Output(), Output(), Output(), Output(), Output()), titles=('Dataframe', 'Spearman Correlat…"
      ]
     },
     "metadata": {},
     "output_type": "display_data"
    },
    {
     "data": {
      "application/vnd.jupyter.widget-view+json": {
       "model_id": "92536eca01634b7a8ef448d369f47af5",
       "version_major": 2,
       "version_minor": 0
      },
      "text/plain": [
       "Accordion(children=(Output(), Output(), Output()), titles=('Plot:Gene and Environment Dynamics Comparison', 'P…"
      ]
     },
     "metadata": {},
     "output_type": "display_data"
    },
    {
     "name": "stdout",
     "output_type": "stream",
     "text": [
      "\n",
      "-------------------------------------------------------------------------------------\n",
      "\n",
      "\u001b[1m\u001b[30mAnalyzing gene dynamics file for \u001b[1;34mML.GLOOME\u001b[1;30m and env dynamics file for \u001b[1;34mCOUNT\u001b[1;30m for \u001b[1;34mALL\u001b[1;30m branches\u001b[0m\n"
     ]
    },
    {
     "data": {
      "application/vnd.jupyter.widget-view+json": {
       "model_id": "3864a0a028964f258cdc0ee9b54fa59e",
       "version_major": 2,
       "version_minor": 0
      },
      "text/plain": [
       "Accordion(children=(Output(), Output(), Output(), Output(), Output()), titles=('Dataframe', 'Spearman Correlat…"
      ]
     },
     "metadata": {},
     "output_type": "display_data"
    },
    {
     "data": {
      "application/vnd.jupyter.widget-view+json": {
       "model_id": "d06ebbecc19642778cb0db5a0f8da43f",
       "version_major": 2,
       "version_minor": 0
      },
      "text/plain": [
       "Accordion(children=(Output(), Output(), Output()), titles=('Plot:Gene and Environment Dynamics Comparison', 'P…"
      ]
     },
     "metadata": {},
     "output_type": "display_data"
    },
    {
     "name": "stdout",
     "output_type": "stream",
     "text": [
      "\n",
      "-------------------------------------------------------------------------------------\n",
      "\n",
      "\u001b[1m\u001b[30mAnalyzing gene dynamics file for \u001b[1;34mMP.GLOOME\u001b[1;30m and env dynamics file for \u001b[1;34mCOUNT\u001b[1;30m for \u001b[1;34mTERMINAL\u001b[1;30m branches\u001b[0m\n",
      "Skipping Spearman correlation for Ecosystem Losses and Gene Losses since one the variables has a constant value.\n",
      "Skipping Spearman correlation for Corrected Gene Losses and Corrected Ecosystem Losses since one the variables has a constant value.\n",
      "Skipping Spearman correlation for Branch Length and Gene Losses since one the variables has a constant value.\n",
      "Skipping Spearman correlation for Branch Length and Corrected Gene Losses since one the variables has a constant value.\n"
     ]
    },
    {
     "name": "stdout",
     "output_type": "stream",
     "text": [
      "Skipping randomized mean difference for Gene Losses due to constant value.\n",
      "Skipping randomized mean difference for Gene Losses/Branch Length due to constant value.\n"
     ]
    },
    {
     "data": {
      "application/vnd.jupyter.widget-view+json": {
       "model_id": "bf07bb0121114726a808c2c082c7f072",
       "version_major": 2,
       "version_minor": 0
      },
      "text/plain": [
       "Accordion(children=(Output(), Output(), Output(), Output(), Output()), titles=('Dataframe', 'Spearman Correlat…"
      ]
     },
     "metadata": {},
     "output_type": "display_data"
    },
    {
     "data": {
      "application/vnd.jupyter.widget-view+json": {
       "model_id": "d558dfdc90f843fd864b727950b1c509",
       "version_major": 2,
       "version_minor": 0
      },
      "text/plain": [
       "Accordion(children=(Output(), Output(), Output()), titles=('Plot:Gene and Environment Dynamics Comparison', 'P…"
      ]
     },
     "metadata": {},
     "output_type": "display_data"
    },
    {
     "name": "stdout",
     "output_type": "stream",
     "text": [
      "\n",
      "-------------------------------------------------------------------------------------\n",
      "\n",
      "\u001b[1m\u001b[30mAnalyzing gene dynamics file for \u001b[1;34mMP.GLOOME\u001b[1;30m and env dynamics file for \u001b[1;34mCOUNT\u001b[1;30m for \u001b[1;34mINTERNAL\u001b[1;30m branches\u001b[0m\n",
      "Skipping Spearman correlation for Ecosystem Losses and Gene Losses since one the variables has a constant value.\n",
      "Skipping Spearman correlation for Corrected Gene Losses and Corrected Ecosystem Losses since one the variables has a constant value.\n",
      "Skipping Spearman correlation for Branch Length and Gene Losses since one the variables has a constant value.\n",
      "Skipping Spearman correlation for Branch Length and Corrected Gene Losses since one the variables has a constant value.\n"
     ]
    },
    {
     "name": "stdout",
     "output_type": "stream",
     "text": [
      "Skipping randomized mean difference for Gene Losses due to constant value.\n",
      "Skipping randomized mean difference for Gene Losses/Branch Length due to constant value.\n"
     ]
    },
    {
     "data": {
      "application/vnd.jupyter.widget-view+json": {
       "model_id": "417c5e7f63474d5bbd2bfb127b6cb26c",
       "version_major": 2,
       "version_minor": 0
      },
      "text/plain": [
       "Accordion(children=(Output(), Output(), Output(), Output(), Output()), titles=('Dataframe', 'Spearman Correlat…"
      ]
     },
     "metadata": {},
     "output_type": "display_data"
    },
    {
     "data": {
      "application/vnd.jupyter.widget-view+json": {
       "model_id": "36fbbc7fbd7b46028941fd13bcd8a53e",
       "version_major": 2,
       "version_minor": 0
      },
      "text/plain": [
       "Accordion(children=(Output(), Output(), Output()), titles=('Plot:Gene and Environment Dynamics Comparison', 'P…"
      ]
     },
     "metadata": {},
     "output_type": "display_data"
    },
    {
     "name": "stdout",
     "output_type": "stream",
     "text": [
      "\n",
      "-------------------------------------------------------------------------------------\n",
      "\n",
      "\u001b[1m\u001b[30mAnalyzing gene dynamics file for \u001b[1;34mMP.GLOOME\u001b[1;30m and env dynamics file for \u001b[1;34mCOUNT\u001b[1;30m for \u001b[1;34mALL\u001b[1;30m branches\u001b[0m\n",
      "Skipping Spearman correlation for Ecosystem Losses and Gene Losses since one the variables has a constant value.\n",
      "Skipping Spearman correlation for Corrected Gene Losses and Corrected Ecosystem Losses since one the variables has a constant value.\n",
      "Skipping Spearman correlation for Branch Length and Gene Losses since one the variables has a constant value.\n",
      "Skipping Spearman correlation for Branch Length and Corrected Gene Losses since one the variables has a constant value.\n"
     ]
    },
    {
     "name": "stdout",
     "output_type": "stream",
     "text": [
      "Skipping randomized mean difference for Gene Losses due to constant value.\n",
      "Skipping randomized mean difference for Gene Losses/Branch Length due to constant value.\n"
     ]
    },
    {
     "data": {
      "application/vnd.jupyter.widget-view+json": {
       "model_id": "cf024cce1b6046bca6256975e629cbda",
       "version_major": 2,
       "version_minor": 0
      },
      "text/plain": [
       "Accordion(children=(Output(), Output(), Output(), Output(), Output()), titles=('Dataframe', 'Spearman Correlat…"
      ]
     },
     "metadata": {},
     "output_type": "display_data"
    },
    {
     "data": {
      "application/vnd.jupyter.widget-view+json": {
       "model_id": "238caef11a9848eb94ed2901c485bb3b",
       "version_major": 2,
       "version_minor": 0
      },
      "text/plain": [
       "Accordion(children=(Output(), Output(), Output()), titles=('Plot:Gene and Environment Dynamics Comparison', 'P…"
      ]
     },
     "metadata": {},
     "output_type": "display_data"
    },
    {
     "name": "stdout",
     "output_type": "stream",
     "text": [
      "\n",
      "-------------------------------------------------------------------------------------\n",
      "\n",
      "\u001b[1m\u001b[30mAnalyzing gene dynamics file for \u001b[1;34mCOUNT\u001b[1;30m and env dynamics file for \u001b[1;34mCOUNT\u001b[1;30m for \u001b[1;34mTERMINAL\u001b[1;30m branches\u001b[0m\n"
     ]
    },
    {
     "data": {
      "application/vnd.jupyter.widget-view+json": {
       "model_id": "0cec34e638284a97819783568ad53bb5",
       "version_major": 2,
       "version_minor": 0
      },
      "text/plain": [
       "Accordion(children=(Output(), Output(), Output(), Output(), Output()), titles=('Dataframe', 'Spearman Correlat…"
      ]
     },
     "metadata": {},
     "output_type": "display_data"
    },
    {
     "data": {
      "application/vnd.jupyter.widget-view+json": {
       "model_id": "56488f4ba0c046698ab8a16f9148ddda",
       "version_major": 2,
       "version_minor": 0
      },
      "text/plain": [
       "Accordion(children=(Output(), Output(), Output()), titles=('Plot:Gene and Environment Dynamics Comparison', 'P…"
      ]
     },
     "metadata": {},
     "output_type": "display_data"
    },
    {
     "name": "stdout",
     "output_type": "stream",
     "text": [
      "\n",
      "-------------------------------------------------------------------------------------\n",
      "\n",
      "\u001b[1m\u001b[30mAnalyzing gene dynamics file for \u001b[1;34mCOUNT\u001b[1;30m and env dynamics file for \u001b[1;34mCOUNT\u001b[1;30m for \u001b[1;34mINTERNAL\u001b[1;30m branches\u001b[0m\n"
     ]
    },
    {
     "data": {
      "application/vnd.jupyter.widget-view+json": {
       "model_id": "b9346556e21f48dd9fef86513157453e",
       "version_major": 2,
       "version_minor": 0
      },
      "text/plain": [
       "Accordion(children=(Output(), Output(), Output(), Output(), Output()), titles=('Dataframe', 'Spearman Correlat…"
      ]
     },
     "metadata": {},
     "output_type": "display_data"
    },
    {
     "data": {
      "application/vnd.jupyter.widget-view+json": {
       "model_id": "58e6ef8704184744af792dde740c205d",
       "version_major": 2,
       "version_minor": 0
      },
      "text/plain": [
       "Accordion(children=(Output(), Output(), Output()), titles=('Plot:Gene and Environment Dynamics Comparison', 'P…"
      ]
     },
     "metadata": {},
     "output_type": "display_data"
    },
    {
     "name": "stdout",
     "output_type": "stream",
     "text": [
      "\n",
      "-------------------------------------------------------------------------------------\n",
      "\n",
      "\u001b[1m\u001b[30mAnalyzing gene dynamics file for \u001b[1;34mCOUNT\u001b[1;30m and env dynamics file for \u001b[1;34mCOUNT\u001b[1;30m for \u001b[1;34mALL\u001b[1;30m branches\u001b[0m\n"
     ]
    },
    {
     "data": {
      "application/vnd.jupyter.widget-view+json": {
       "model_id": "2c0273c48d0e4e7eb65b1d1857dd0302",
       "version_major": 2,
       "version_minor": 0
      },
      "text/plain": [
       "Accordion(children=(Output(), Output(), Output(), Output(), Output()), titles=('Dataframe', 'Spearman Correlat…"
      ]
     },
     "metadata": {},
     "output_type": "display_data"
    },
    {
     "data": {
      "application/vnd.jupyter.widget-view+json": {
       "model_id": "ca3cf286f8164cf7806b42fa13fc1e07",
       "version_major": 2,
       "version_minor": 0
      },
      "text/plain": [
       "Accordion(children=(Output(), Output(), Output()), titles=('Plot:Gene and Environment Dynamics Comparison', 'P…"
      ]
     },
     "metadata": {},
     "output_type": "display_data"
    },
    {
     "name": "stdout",
     "output_type": "stream",
     "text": [
      "\n",
      "-------------------------------------------------------------------------------------\n",
      "\n",
      "\u001b[1m\u001b[30mAnalyzing gene dynamics file for \u001b[1;34mALE\u001b[1;30m and env dynamics file for \u001b[1;34mCOUNT\u001b[1;30m for \u001b[1;34mTERMINAL\u001b[1;30m branches\u001b[0m\n"
     ]
    },
    {
     "data": {
      "application/vnd.jupyter.widget-view+json": {
       "model_id": "ccab0924a265418681d04b1a4bf29e73",
       "version_major": 2,
       "version_minor": 0
      },
      "text/plain": [
       "Accordion(children=(Output(), Output(), Output(), Output(), Output()), titles=('Dataframe', 'Spearman Correlat…"
      ]
     },
     "metadata": {},
     "output_type": "display_data"
    },
    {
     "data": {
      "application/vnd.jupyter.widget-view+json": {
       "model_id": "0e31ae98150a4d94967b4081ff3eeaa5",
       "version_major": 2,
       "version_minor": 0
      },
      "text/plain": [
       "Accordion(children=(Output(), Output(), Output()), titles=('Plot:Gene and Environment Dynamics Comparison', 'P…"
      ]
     },
     "metadata": {},
     "output_type": "display_data"
    },
    {
     "name": "stdout",
     "output_type": "stream",
     "text": [
      "\n",
      "-------------------------------------------------------------------------------------\n",
      "\n",
      "\u001b[1m\u001b[30mAnalyzing gene dynamics file for \u001b[1;34mALE\u001b[1;30m and env dynamics file for \u001b[1;34mCOUNT\u001b[1;30m for \u001b[1;34mINTERNAL\u001b[1;30m branches\u001b[0m\n"
     ]
    },
    {
     "data": {
      "application/vnd.jupyter.widget-view+json": {
       "model_id": "904a984026a0469f8c505be3260bcd14",
       "version_major": 2,
       "version_minor": 0
      },
      "text/plain": [
       "Accordion(children=(Output(), Output(), Output(), Output(), Output()), titles=('Dataframe', 'Spearman Correlat…"
      ]
     },
     "metadata": {},
     "output_type": "display_data"
    },
    {
     "data": {
      "application/vnd.jupyter.widget-view+json": {
       "model_id": "a8a21018a8f94b6c8575e09e3446d5d2",
       "version_major": 2,
       "version_minor": 0
      },
      "text/plain": [
       "Accordion(children=(Output(), Output(), Output()), titles=('Plot:Gene and Environment Dynamics Comparison', 'P…"
      ]
     },
     "metadata": {},
     "output_type": "display_data"
    },
    {
     "name": "stdout",
     "output_type": "stream",
     "text": [
      "\n",
      "-------------------------------------------------------------------------------------\n",
      "\n",
      "\u001b[1m\u001b[30mAnalyzing gene dynamics file for \u001b[1;34mALE\u001b[1;30m and env dynamics file for \u001b[1;34mCOUNT\u001b[1;30m for \u001b[1;34mALL\u001b[1;30m branches\u001b[0m\n"
     ]
    },
    {
     "data": {
      "application/vnd.jupyter.widget-view+json": {
       "model_id": "2a0873c0cefc4a70b964061e74ad36b5",
       "version_major": 2,
       "version_minor": 0
      },
      "text/plain": [
       "Accordion(children=(Output(), Output(), Output(), Output(), Output()), titles=('Dataframe', 'Spearman Correlat…"
      ]
     },
     "metadata": {},
     "output_type": "display_data"
    },
    {
     "data": {
      "application/vnd.jupyter.widget-view+json": {
       "model_id": "ffa9ae1c42064f9ea40b10adef1f24f9",
       "version_major": 2,
       "version_minor": 0
      },
      "text/plain": [
       "Accordion(children=(Output(), Output(), Output()), titles=('Plot:Gene and Environment Dynamics Comparison', 'P…"
      ]
     },
     "metadata": {},
     "output_type": "display_data"
    }
   ],
   "source": [
    "g = ['compiled_dynamics.varwise.branchwise.gene.ml.gloome.tsv', 'compiled_dynamics.varwise.branchwise.gene.mp.gloome.tsv',\n",
    "     'compiled_dynamics.varwise.branchwise.gene.count.tsv', 'compiled_transfers.varwise.branchwise.gene.ale.tsv' ]\n",
    "gene_dynamics_filepaths = [os.path.join(compiled_results_dir, f) for f in g]\n",
    "e = 'compiled_dynamics.varwise.branchwise.ecotype.count.tsv'\n",
    "env_dynamics_filepath = os.path.join(compiled_results_dir, e)\n",
    "\n",
    "for gd in gene_dynamics_filepaths:\n",
    "    # gd_method is everything between 'gene.' and '.tsv'\n",
    "    gd_method = gd.split('gene.')[1].split('.tsv')[0]\n",
    "    # similarly for ed_method\n",
    "    ed_method = e.split('ecotype.')[1].split('.tsv')[0]\n",
    "    for terminal_or_internal in ['terminal', 'internal', 'all']:\n",
    "        print('\\n-------------------------------------------------------------------------------------\\n')\n",
    "        print(f'\\033[1m\\033[30mAnalyzing gene dynamics file for \\033[1;34m{\n",
    "            gd_method.upper()}\\033[1;30m and env dynamics file for \\033[1;34m{\n",
    "                ed_method.upper()}\\033[1;30m for \\033[1;34m{terminal_or_internal.upper()}\\033[1;30m branches\\033[0m')\n",
    "        cged.plot_gene_env_comparison(gene_dynamics_filepath=gd,\n",
    "                                      env_dynamics_filepath=env_dynamics_filepath,\n",
    "                                      input_tree_filepath=genome_tree_labeled_filepath,\n",
    "                                      output_dir=stats_dir, plots_dir=plots_dir, terminal_or_internal=terminal_or_internal,\n",
    "                                        single_copy_nogs_list_filepath=single_copy_nogs_list_filepath)"
   ]
  },
  {
   "cell_type": "markdown",
   "metadata": {},
   "source": [
    "# Combine analyses across all combinations"
   ]
  },
  {
   "cell_type": "code",
   "execution_count": 4,
   "metadata": {},
   "outputs": [
    {
     "data": {
      "text/html": [
       "<div>\n",
       "<style scoped>\n",
       "    .dataframe tbody tr th:only-of-type {\n",
       "        vertical-align: middle;\n",
       "    }\n",
       "\n",
       "    .dataframe tbody tr th {\n",
       "        vertical-align: top;\n",
       "    }\n",
       "\n",
       "    .dataframe thead th {\n",
       "        text-align: right;\n",
       "    }\n",
       "</style>\n",
       "<table border=\"1\" class=\"dataframe\">\n",
       "  <thead>\n",
       "    <tr style=\"text-align: right;\">\n",
       "      <th></th>\n",
       "      <th>Variable</th>\n",
       "      <th>Mann-Whitney U</th>\n",
       "      <th>p-value</th>\n",
       "      <th>CLES</th>\n",
       "      <th>Mean HGT with Zero Ecosystem Transfers</th>\n",
       "      <th>Mean HGT with Nonzero Ecosystem Transfers</th>\n",
       "      <th>Number of branches with Zero Ecosystem Transfers</th>\n",
       "      <th>Number of branches with Nonzero Ecosystem Transfers</th>\n",
       "      <th>Terminal or Internal</th>\n",
       "      <th>significant</th>\n",
       "      <th>gene_method</th>\n",
       "      <th>env_method</th>\n",
       "    </tr>\n",
       "  </thead>\n",
       "  <tbody>\n",
       "    <tr>\n",
       "      <th>83</th>\n",
       "      <td>Gene Transfers/Branch Length</td>\n",
       "      <td>15972.0</td>\n",
       "      <td>7.628220e-10</td>\n",
       "      <td>0.711004</td>\n",
       "      <td>644.844569</td>\n",
       "      <td>303.173678</td>\n",
       "      <td>108</td>\n",
       "      <td>208</td>\n",
       "      <td>all</td>\n",
       "      <td>*</td>\n",
       "      <td>ale</td>\n",
       "      <td>count</td>\n",
       "    </tr>\n",
       "    <tr>\n",
       "      <th>75</th>\n",
       "      <td>Gene Transfers/Branch Length</td>\n",
       "      <td>14841.5</td>\n",
       "      <td>2.760752e-06</td>\n",
       "      <td>0.660679</td>\n",
       "      <td>199.792183</td>\n",
       "      <td>72.632763</td>\n",
       "      <td>108</td>\n",
       "      <td>208</td>\n",
       "      <td>all</td>\n",
       "      <td>*</td>\n",
       "      <td>count</td>\n",
       "      <td>count</td>\n",
       "    </tr>\n",
       "    <tr>\n",
       "      <th>51</th>\n",
       "      <td>Gene Transfers/Branch Length</td>\n",
       "      <td>14914.0</td>\n",
       "      <td>1.761189e-06</td>\n",
       "      <td>0.663907</td>\n",
       "      <td>204.700114</td>\n",
       "      <td>124.299284</td>\n",
       "      <td>108</td>\n",
       "      <td>208</td>\n",
       "      <td>all</td>\n",
       "      <td>*</td>\n",
       "      <td>ml gloome</td>\n",
       "      <td>count</td>\n",
       "    </tr>\n",
       "    <tr>\n",
       "      <th>63</th>\n",
       "      <td>Gene Transfers/Branch Length</td>\n",
       "      <td>13004.0</td>\n",
       "      <td>2.146900e-02</td>\n",
       "      <td>0.578882</td>\n",
       "      <td>275.251173</td>\n",
       "      <td>207.547249</td>\n",
       "      <td>108</td>\n",
       "      <td>208</td>\n",
       "      <td>all</td>\n",
       "      <td>*</td>\n",
       "      <td>mp gloome</td>\n",
       "      <td>count</td>\n",
       "    </tr>\n",
       "    <tr>\n",
       "      <th>41</th>\n",
       "      <td>Gene Transfers/Branch Length</td>\n",
       "      <td>15972.0</td>\n",
       "      <td>7.628220e-10</td>\n",
       "      <td>0.711004</td>\n",
       "      <td>644.844569</td>\n",
       "      <td>303.173678</td>\n",
       "      <td>108</td>\n",
       "      <td>208</td>\n",
       "      <td>all</td>\n",
       "      <td>*</td>\n",
       "      <td>ale</td>\n",
       "      <td>mp gloome</td>\n",
       "    </tr>\n",
       "    <tr>\n",
       "      <th>33</th>\n",
       "      <td>Gene Transfers/Branch Length</td>\n",
       "      <td>14841.5</td>\n",
       "      <td>2.760752e-06</td>\n",
       "      <td>0.660679</td>\n",
       "      <td>199.792183</td>\n",
       "      <td>72.632763</td>\n",
       "      <td>108</td>\n",
       "      <td>208</td>\n",
       "      <td>all</td>\n",
       "      <td>*</td>\n",
       "      <td>count</td>\n",
       "      <td>mp gloome</td>\n",
       "    </tr>\n",
       "    <tr>\n",
       "      <th>9</th>\n",
       "      <td>Gene Transfers/Branch Length</td>\n",
       "      <td>14914.0</td>\n",
       "      <td>1.761189e-06</td>\n",
       "      <td>0.663907</td>\n",
       "      <td>204.700114</td>\n",
       "      <td>124.299284</td>\n",
       "      <td>108</td>\n",
       "      <td>208</td>\n",
       "      <td>all</td>\n",
       "      <td>*</td>\n",
       "      <td>ml gloome</td>\n",
       "      <td>mp gloome</td>\n",
       "    </tr>\n",
       "    <tr>\n",
       "      <th>21</th>\n",
       "      <td>Gene Transfers/Branch Length</td>\n",
       "      <td>13004.0</td>\n",
       "      <td>2.146900e-02</td>\n",
       "      <td>0.578882</td>\n",
       "      <td>275.251173</td>\n",
       "      <td>207.547249</td>\n",
       "      <td>108</td>\n",
       "      <td>208</td>\n",
       "      <td>all</td>\n",
       "      <td>*</td>\n",
       "      <td>mp gloome</td>\n",
       "      <td>mp gloome</td>\n",
       "    </tr>\n",
       "    <tr>\n",
       "      <th>81</th>\n",
       "      <td>Gene Transfers/Branch Length</td>\n",
       "      <td>3108.0</td>\n",
       "      <td>5.179966e-01</td>\n",
       "      <td>0.530738</td>\n",
       "      <td>704.553328</td>\n",
       "      <td>644.371165</td>\n",
       "      <td>96</td>\n",
       "      <td>61</td>\n",
       "      <td>internal</td>\n",
       "      <td>NaN</td>\n",
       "      <td>ale</td>\n",
       "      <td>count</td>\n",
       "    </tr>\n",
       "    <tr>\n",
       "      <th>71</th>\n",
       "      <td>Gene Transfers/Branch Length</td>\n",
       "      <td>3219.0</td>\n",
       "      <td>2.946140e-01</td>\n",
       "      <td>0.549693</td>\n",
       "      <td>216.668212</td>\n",
       "      <td>173.651040</td>\n",
       "      <td>96</td>\n",
       "      <td>61</td>\n",
       "      <td>internal</td>\n",
       "      <td>NaN</td>\n",
       "      <td>count</td>\n",
       "      <td>count</td>\n",
       "    </tr>\n",
       "    <tr>\n",
       "      <th>47</th>\n",
       "      <td>Gene Transfers/Branch Length</td>\n",
       "      <td>3375.0</td>\n",
       "      <td>1.078376e-01</td>\n",
       "      <td>0.576332</td>\n",
       "      <td>215.165171</td>\n",
       "      <td>194.430291</td>\n",
       "      <td>96</td>\n",
       "      <td>61</td>\n",
       "      <td>internal</td>\n",
       "      <td>NaN</td>\n",
       "      <td>ml gloome</td>\n",
       "      <td>count</td>\n",
       "    </tr>\n",
       "    <tr>\n",
       "      <th>59</th>\n",
       "      <td>Gene Transfers/Branch Length</td>\n",
       "      <td>2695.0</td>\n",
       "      <td>4.024203e-01</td>\n",
       "      <td>0.460212</td>\n",
       "      <td>287.136244</td>\n",
       "      <td>330.433906</td>\n",
       "      <td>96</td>\n",
       "      <td>61</td>\n",
       "      <td>internal</td>\n",
       "      <td>NaN</td>\n",
       "      <td>mp gloome</td>\n",
       "      <td>count</td>\n",
       "    </tr>\n",
       "    <tr>\n",
       "      <th>39</th>\n",
       "      <td>Gene Transfers/Branch Length</td>\n",
       "      <td>3108.0</td>\n",
       "      <td>5.179966e-01</td>\n",
       "      <td>0.530738</td>\n",
       "      <td>704.553328</td>\n",
       "      <td>644.371165</td>\n",
       "      <td>96</td>\n",
       "      <td>61</td>\n",
       "      <td>internal</td>\n",
       "      <td>NaN</td>\n",
       "      <td>ale</td>\n",
       "      <td>mp gloome</td>\n",
       "    </tr>\n",
       "    <tr>\n",
       "      <th>29</th>\n",
       "      <td>Gene Transfers/Branch Length</td>\n",
       "      <td>3219.0</td>\n",
       "      <td>2.946140e-01</td>\n",
       "      <td>0.549693</td>\n",
       "      <td>216.668212</td>\n",
       "      <td>173.651040</td>\n",
       "      <td>96</td>\n",
       "      <td>61</td>\n",
       "      <td>internal</td>\n",
       "      <td>NaN</td>\n",
       "      <td>count</td>\n",
       "      <td>mp gloome</td>\n",
       "    </tr>\n",
       "    <tr>\n",
       "      <th>5</th>\n",
       "      <td>Gene Transfers/Branch Length</td>\n",
       "      <td>3375.0</td>\n",
       "      <td>1.078376e-01</td>\n",
       "      <td>0.576332</td>\n",
       "      <td>215.165171</td>\n",
       "      <td>194.430291</td>\n",
       "      <td>96</td>\n",
       "      <td>61</td>\n",
       "      <td>internal</td>\n",
       "      <td>NaN</td>\n",
       "      <td>ml gloome</td>\n",
       "      <td>mp gloome</td>\n",
       "    </tr>\n",
       "    <tr>\n",
       "      <th>17</th>\n",
       "      <td>Gene Transfers/Branch Length</td>\n",
       "      <td>2695.0</td>\n",
       "      <td>4.024203e-01</td>\n",
       "      <td>0.460212</td>\n",
       "      <td>287.136244</td>\n",
       "      <td>330.433906</td>\n",
       "      <td>96</td>\n",
       "      <td>61</td>\n",
       "      <td>internal</td>\n",
       "      <td>NaN</td>\n",
       "      <td>mp gloome</td>\n",
       "      <td>mp gloome</td>\n",
       "    </tr>\n",
       "    <tr>\n",
       "      <th>79</th>\n",
       "      <td>Gene Transfers/Branch Length</td>\n",
       "      <td>897.0</td>\n",
       "      <td>9.246744e-01</td>\n",
       "      <td>0.508503</td>\n",
       "      <td>167.174500</td>\n",
       "      <td>161.588327</td>\n",
       "      <td>12</td>\n",
       "      <td>147</td>\n",
       "      <td>terminal</td>\n",
       "      <td>NaN</td>\n",
       "      <td>ale</td>\n",
       "      <td>count</td>\n",
       "    </tr>\n",
       "    <tr>\n",
       "      <th>67</th>\n",
       "      <td>Gene Transfers/Branch Length</td>\n",
       "      <td>1141.5</td>\n",
       "      <td>9.121574e-02</td>\n",
       "      <td>0.647109</td>\n",
       "      <td>64.783956</td>\n",
       "      <td>30.713615</td>\n",
       "      <td>12</td>\n",
       "      <td>147</td>\n",
       "      <td>terminal</td>\n",
       "      <td>NaN</td>\n",
       "      <td>count</td>\n",
       "      <td>count</td>\n",
       "    </tr>\n",
       "    <tr>\n",
       "      <th>43</th>\n",
       "      <td>Gene Transfers/Branch Length</td>\n",
       "      <td>919.0</td>\n",
       "      <td>8.118823e-01</td>\n",
       "      <td>0.520975</td>\n",
       "      <td>120.979654</td>\n",
       "      <td>95.197301</td>\n",
       "      <td>12</td>\n",
       "      <td>147</td>\n",
       "      <td>terminal</td>\n",
       "      <td>NaN</td>\n",
       "      <td>ml gloome</td>\n",
       "      <td>count</td>\n",
       "    </tr>\n",
       "    <tr>\n",
       "      <th>55</th>\n",
       "      <td>Gene Transfers/Branch Length</td>\n",
       "      <td>913.0</td>\n",
       "      <td>8.423602e-01</td>\n",
       "      <td>0.517574</td>\n",
       "      <td>180.170606</td>\n",
       "      <td>156.553466</td>\n",
       "      <td>12</td>\n",
       "      <td>147</td>\n",
       "      <td>terminal</td>\n",
       "      <td>NaN</td>\n",
       "      <td>mp gloome</td>\n",
       "      <td>count</td>\n",
       "    </tr>\n",
       "    <tr>\n",
       "      <th>37</th>\n",
       "      <td>Gene Transfers/Branch Length</td>\n",
       "      <td>897.0</td>\n",
       "      <td>9.246744e-01</td>\n",
       "      <td>0.508503</td>\n",
       "      <td>167.174500</td>\n",
       "      <td>161.588327</td>\n",
       "      <td>12</td>\n",
       "      <td>147</td>\n",
       "      <td>terminal</td>\n",
       "      <td>NaN</td>\n",
       "      <td>ale</td>\n",
       "      <td>mp gloome</td>\n",
       "    </tr>\n",
       "    <tr>\n",
       "      <th>25</th>\n",
       "      <td>Gene Transfers/Branch Length</td>\n",
       "      <td>1141.5</td>\n",
       "      <td>9.121574e-02</td>\n",
       "      <td>0.647109</td>\n",
       "      <td>64.783956</td>\n",
       "      <td>30.713615</td>\n",
       "      <td>12</td>\n",
       "      <td>147</td>\n",
       "      <td>terminal</td>\n",
       "      <td>NaN</td>\n",
       "      <td>count</td>\n",
       "      <td>mp gloome</td>\n",
       "    </tr>\n",
       "    <tr>\n",
       "      <th>1</th>\n",
       "      <td>Gene Transfers/Branch Length</td>\n",
       "      <td>919.0</td>\n",
       "      <td>8.118823e-01</td>\n",
       "      <td>0.520975</td>\n",
       "      <td>120.979654</td>\n",
       "      <td>95.197301</td>\n",
       "      <td>12</td>\n",
       "      <td>147</td>\n",
       "      <td>terminal</td>\n",
       "      <td>NaN</td>\n",
       "      <td>ml gloome</td>\n",
       "      <td>mp gloome</td>\n",
       "    </tr>\n",
       "    <tr>\n",
       "      <th>13</th>\n",
       "      <td>Gene Transfers/Branch Length</td>\n",
       "      <td>913.0</td>\n",
       "      <td>8.423602e-01</td>\n",
       "      <td>0.517574</td>\n",
       "      <td>180.170606</td>\n",
       "      <td>156.553466</td>\n",
       "      <td>12</td>\n",
       "      <td>147</td>\n",
       "      <td>terminal</td>\n",
       "      <td>NaN</td>\n",
       "      <td>mp gloome</td>\n",
       "      <td>mp gloome</td>\n",
       "    </tr>\n",
       "  </tbody>\n",
       "</table>\n",
       "</div>"
      ],
      "text/plain": [
       "                        Variable  Mann-Whitney U       p-value      CLES  \\\n",
       "83  Gene Transfers/Branch Length         15972.0  7.628220e-10  0.711004   \n",
       "75  Gene Transfers/Branch Length         14841.5  2.760752e-06  0.660679   \n",
       "51  Gene Transfers/Branch Length         14914.0  1.761189e-06  0.663907   \n",
       "63  Gene Transfers/Branch Length         13004.0  2.146900e-02  0.578882   \n",
       "41  Gene Transfers/Branch Length         15972.0  7.628220e-10  0.711004   \n",
       "33  Gene Transfers/Branch Length         14841.5  2.760752e-06  0.660679   \n",
       "9   Gene Transfers/Branch Length         14914.0  1.761189e-06  0.663907   \n",
       "21  Gene Transfers/Branch Length         13004.0  2.146900e-02  0.578882   \n",
       "81  Gene Transfers/Branch Length          3108.0  5.179966e-01  0.530738   \n",
       "71  Gene Transfers/Branch Length          3219.0  2.946140e-01  0.549693   \n",
       "47  Gene Transfers/Branch Length          3375.0  1.078376e-01  0.576332   \n",
       "59  Gene Transfers/Branch Length          2695.0  4.024203e-01  0.460212   \n",
       "39  Gene Transfers/Branch Length          3108.0  5.179966e-01  0.530738   \n",
       "29  Gene Transfers/Branch Length          3219.0  2.946140e-01  0.549693   \n",
       "5   Gene Transfers/Branch Length          3375.0  1.078376e-01  0.576332   \n",
       "17  Gene Transfers/Branch Length          2695.0  4.024203e-01  0.460212   \n",
       "79  Gene Transfers/Branch Length           897.0  9.246744e-01  0.508503   \n",
       "67  Gene Transfers/Branch Length          1141.5  9.121574e-02  0.647109   \n",
       "43  Gene Transfers/Branch Length           919.0  8.118823e-01  0.520975   \n",
       "55  Gene Transfers/Branch Length           913.0  8.423602e-01  0.517574   \n",
       "37  Gene Transfers/Branch Length           897.0  9.246744e-01  0.508503   \n",
       "25  Gene Transfers/Branch Length          1141.5  9.121574e-02  0.647109   \n",
       "1   Gene Transfers/Branch Length           919.0  8.118823e-01  0.520975   \n",
       "13  Gene Transfers/Branch Length           913.0  8.423602e-01  0.517574   \n",
       "\n",
       "    Mean HGT with Zero Ecosystem Transfers  \\\n",
       "83                              644.844569   \n",
       "75                              199.792183   \n",
       "51                              204.700114   \n",
       "63                              275.251173   \n",
       "41                              644.844569   \n",
       "33                              199.792183   \n",
       "9                               204.700114   \n",
       "21                              275.251173   \n",
       "81                              704.553328   \n",
       "71                              216.668212   \n",
       "47                              215.165171   \n",
       "59                              287.136244   \n",
       "39                              704.553328   \n",
       "29                              216.668212   \n",
       "5                               215.165171   \n",
       "17                              287.136244   \n",
       "79                              167.174500   \n",
       "67                               64.783956   \n",
       "43                              120.979654   \n",
       "55                              180.170606   \n",
       "37                              167.174500   \n",
       "25                               64.783956   \n",
       "1                               120.979654   \n",
       "13                              180.170606   \n",
       "\n",
       "    Mean HGT with Nonzero Ecosystem Transfers  \\\n",
       "83                                 303.173678   \n",
       "75                                  72.632763   \n",
       "51                                 124.299284   \n",
       "63                                 207.547249   \n",
       "41                                 303.173678   \n",
       "33                                  72.632763   \n",
       "9                                  124.299284   \n",
       "21                                 207.547249   \n",
       "81                                 644.371165   \n",
       "71                                 173.651040   \n",
       "47                                 194.430291   \n",
       "59                                 330.433906   \n",
       "39                                 644.371165   \n",
       "29                                 173.651040   \n",
       "5                                  194.430291   \n",
       "17                                 330.433906   \n",
       "79                                 161.588327   \n",
       "67                                  30.713615   \n",
       "43                                  95.197301   \n",
       "55                                 156.553466   \n",
       "37                                 161.588327   \n",
       "25                                  30.713615   \n",
       "1                                   95.197301   \n",
       "13                                 156.553466   \n",
       "\n",
       "    Number of branches with Zero Ecosystem Transfers  \\\n",
       "83                                               108   \n",
       "75                                               108   \n",
       "51                                               108   \n",
       "63                                               108   \n",
       "41                                               108   \n",
       "33                                               108   \n",
       "9                                                108   \n",
       "21                                               108   \n",
       "81                                                96   \n",
       "71                                                96   \n",
       "47                                                96   \n",
       "59                                                96   \n",
       "39                                                96   \n",
       "29                                                96   \n",
       "5                                                 96   \n",
       "17                                                96   \n",
       "79                                                12   \n",
       "67                                                12   \n",
       "43                                                12   \n",
       "55                                                12   \n",
       "37                                                12   \n",
       "25                                                12   \n",
       "1                                                 12   \n",
       "13                                                12   \n",
       "\n",
       "    Number of branches with Nonzero Ecosystem Transfers Terminal or Internal  \\\n",
       "83                                                208                    all   \n",
       "75                                                208                    all   \n",
       "51                                                208                    all   \n",
       "63                                                208                    all   \n",
       "41                                                208                    all   \n",
       "33                                                208                    all   \n",
       "9                                                 208                    all   \n",
       "21                                                208                    all   \n",
       "81                                                 61               internal   \n",
       "71                                                 61               internal   \n",
       "47                                                 61               internal   \n",
       "59                                                 61               internal   \n",
       "39                                                 61               internal   \n",
       "29                                                 61               internal   \n",
       "5                                                  61               internal   \n",
       "17                                                 61               internal   \n",
       "79                                                147               terminal   \n",
       "67                                                147               terminal   \n",
       "43                                                147               terminal   \n",
       "55                                                147               terminal   \n",
       "37                                                147               terminal   \n",
       "25                                                147               terminal   \n",
       "1                                                 147               terminal   \n",
       "13                                                147               terminal   \n",
       "\n",
       "   significant gene_method env_method  \n",
       "83           *         ale      count  \n",
       "75           *       count      count  \n",
       "51           *   ml gloome      count  \n",
       "63           *   mp gloome      count  \n",
       "41           *         ale  mp gloome  \n",
       "33           *       count  mp gloome  \n",
       "9            *   ml gloome  mp gloome  \n",
       "21           *   mp gloome  mp gloome  \n",
       "81         NaN         ale      count  \n",
       "71         NaN       count      count  \n",
       "47         NaN   ml gloome      count  \n",
       "59         NaN   mp gloome      count  \n",
       "39         NaN         ale  mp gloome  \n",
       "29         NaN       count  mp gloome  \n",
       "5          NaN   ml gloome  mp gloome  \n",
       "17         NaN   mp gloome  mp gloome  \n",
       "79         NaN         ale      count  \n",
       "67         NaN       count      count  \n",
       "43         NaN   ml gloome      count  \n",
       "55         NaN   mp gloome      count  \n",
       "37         NaN         ale  mp gloome  \n",
       "25         NaN       count  mp gloome  \n",
       "1          NaN   ml gloome  mp gloome  \n",
       "13         NaN   mp gloome  mp gloome  "
      ]
     },
     "metadata": {},
     "output_type": "display_data"
    }
   ],
   "source": [
    "# read in TSVs of mwu results\n",
    "mwu_results_filepaths = [os.path.join(stats_dir, f) for f in os.listdir(stats_dir) if f.startswith('mwu-' )]\n",
    "mwu_results_dfs = {f:pd.read_csv(f, sep='\\t') for f in mwu_results_filepaths}\n",
    "\n",
    "# for each df, add a column with the methods used\n",
    "for i, df in mwu_results_dfs.items():\n",
    "    mwu_results_file_basename = os.path.basename(i)\n",
    "    gene_method = ' '.join(mwu_results_file_basename.split('-')[2].split('.')[1:])\n",
    "    env_method = ' '.join(mwu_results_file_basename.split('-')[3].split('.')[1:-1])\n",
    "    df['gene_method'] = gene_method\n",
    "    df['env_method'] = env_method\n",
    "\n",
    "combined_mwu_results_df = pd.concat(mwu_results_dfs.values(), ignore_index=True)\n",
    "combined_mwu_results_df = combined_mwu_results_df[combined_mwu_results_df['Variable'] == 'Gene Transfers/Branch Length']\n",
    "# sort it by 'Terminal or Internal' and then by 'env_method' and 'gene_method'\n",
    "combined_mwu_results_df = combined_mwu_results_df.sort_values(by=['Terminal or Internal', 'env_method', 'gene_method'])\n",
    "\n",
    "display(combined_mwu_results_df)\n",
    "combined_mwu_results_df.to_csv(os.path.join(stats_dir, 'mwu_results.across_methods.tsv'), sep='\\t', index=False)\n"
   ]
  },
  {
   "cell_type": "code",
   "execution_count": 5,
   "metadata": {},
   "outputs": [
    {
     "data": {
      "image/png": "[encoded data removed]",
      "text/plain": [
       "<Figure size 1000x600 with 1 Axes>"
      ]
     },
     "metadata": {},
     "output_type": "display_data"
    }
   ],
   "source": [
    "# plot box plots of the gene transfer rates for each gene method and count as env method\n",
    "combined_dfs_list = [\n",
    "    f\"{stats_dir}/{fi}\"\n",
    "    for fi in os.listdir(stats_dir)\n",
    "    if fi.startswith(\"combined_df\") and fi.endswith(\".count.tsv\")\n",
    "]\n",
    "\n",
    "cged.plot_box_plots_comparing_gene_env(combined_dfs_list, plots_dir)"
   ]
  },
  {
   "cell_type": "code",
   "execution_count": 6,
   "metadata": {},
   "outputs": [
    {
     "data": {
      "text/html": [
       "<div>\n",
       "<style scoped>\n",
       "    .dataframe tbody tr th:only-of-type {\n",
       "        vertical-align: middle;\n",
       "    }\n",
       "\n",
       "    .dataframe tbody tr th {\n",
       "        vertical-align: top;\n",
       "    }\n",
       "\n",
       "    .dataframe thead th {\n",
       "        text-align: right;\n",
       "    }\n",
       "</style>\n",
       "<table border=\"1\" class=\"dataframe\">\n",
       "  <thead>\n",
       "    <tr style=\"text-align: right;\">\n",
       "      <th></th>\n",
       "      <th>HGT inference method</th>\n",
       "      <th>Ecosystem transfer inference method</th>\n",
       "      <th>Mean HGT with Nonzero Ecosystem Transfers</th>\n",
       "      <th>Mean HGT with Zero Ecosystem Transfers</th>\n",
       "      <th>Mann-Whitney U</th>\n",
       "      <th>p-value</th>\n",
       "      <th>CLES</th>\n",
       "      <th>Number of branches with Nonzero Ecosystem Transfers</th>\n",
       "      <th>Number of branches with Zero Ecosystem Transfers</th>\n",
       "    </tr>\n",
       "  </thead>\n",
       "  <tbody>\n",
       "    <tr>\n",
       "      <th>0</th>\n",
       "      <td>ALE</td>\n",
       "      <td>Count</td>\n",
       "      <td>303.173678</td>\n",
       "      <td>644.844569</td>\n",
       "      <td>15972.0</td>\n",
       "      <td>7.628220e-10</td>\n",
       "      <td>0.711004</td>\n",
       "      <td>208</td>\n",
       "      <td>108</td>\n",
       "    </tr>\n",
       "    <tr>\n",
       "      <th>1</th>\n",
       "      <td>Count</td>\n",
       "      <td>Count</td>\n",
       "      <td>72.632763</td>\n",
       "      <td>199.792183</td>\n",
       "      <td>14841.5</td>\n",
       "      <td>2.760752e-06</td>\n",
       "      <td>0.660679</td>\n",
       "      <td>208</td>\n",
       "      <td>108</td>\n",
       "    </tr>\n",
       "    <tr>\n",
       "      <th>2</th>\n",
       "      <td>ML GLOOME</td>\n",
       "      <td>Count</td>\n",
       "      <td>124.299284</td>\n",
       "      <td>204.700114</td>\n",
       "      <td>14914.0</td>\n",
       "      <td>1.761189e-06</td>\n",
       "      <td>0.663907</td>\n",
       "      <td>208</td>\n",
       "      <td>108</td>\n",
       "    </tr>\n",
       "    <tr>\n",
       "      <th>3</th>\n",
       "      <td>MP GLOOME</td>\n",
       "      <td>Count</td>\n",
       "      <td>207.547249</td>\n",
       "      <td>275.251173</td>\n",
       "      <td>13004.0</td>\n",
       "      <td>2.146900e-02</td>\n",
       "      <td>0.578882</td>\n",
       "      <td>208</td>\n",
       "      <td>108</td>\n",
       "    </tr>\n",
       "    <tr>\n",
       "      <th>4</th>\n",
       "      <td>ALE</td>\n",
       "      <td>MP GLOOME</td>\n",
       "      <td>303.173678</td>\n",
       "      <td>644.844569</td>\n",
       "      <td>15972.0</td>\n",
       "      <td>7.628220e-10</td>\n",
       "      <td>0.711004</td>\n",
       "      <td>208</td>\n",
       "      <td>108</td>\n",
       "    </tr>\n",
       "    <tr>\n",
       "      <th>5</th>\n",
       "      <td>Count</td>\n",
       "      <td>MP GLOOME</td>\n",
       "      <td>72.632763</td>\n",
       "      <td>199.792183</td>\n",
       "      <td>14841.5</td>\n",
       "      <td>2.760752e-06</td>\n",
       "      <td>0.660679</td>\n",
       "      <td>208</td>\n",
       "      <td>108</td>\n",
       "    </tr>\n",
       "    <tr>\n",
       "      <th>6</th>\n",
       "      <td>ML GLOOME</td>\n",
       "      <td>MP GLOOME</td>\n",
       "      <td>124.299284</td>\n",
       "      <td>204.700114</td>\n",
       "      <td>14914.0</td>\n",
       "      <td>1.761189e-06</td>\n",
       "      <td>0.663907</td>\n",
       "      <td>208</td>\n",
       "      <td>108</td>\n",
       "    </tr>\n",
       "    <tr>\n",
       "      <th>7</th>\n",
       "      <td>MP GLOOME</td>\n",
       "      <td>MP GLOOME</td>\n",
       "      <td>207.547249</td>\n",
       "      <td>275.251173</td>\n",
       "      <td>13004.0</td>\n",
       "      <td>2.146900e-02</td>\n",
       "      <td>0.578882</td>\n",
       "      <td>208</td>\n",
       "      <td>108</td>\n",
       "    </tr>\n",
       "  </tbody>\n",
       "</table>\n",
       "</div>"
      ],
      "text/plain": [
       "  HGT inference method Ecosystem transfer inference method  \\\n",
       "0                  ALE                               Count   \n",
       "1                Count                               Count   \n",
       "2            ML GLOOME                               Count   \n",
       "3            MP GLOOME                               Count   \n",
       "4                  ALE                           MP GLOOME   \n",
       "5                Count                           MP GLOOME   \n",
       "6            ML GLOOME                           MP GLOOME   \n",
       "7            MP GLOOME                           MP GLOOME   \n",
       "\n",
       "   Mean HGT with Nonzero Ecosystem Transfers  \\\n",
       "0                                 303.173678   \n",
       "1                                  72.632763   \n",
       "2                                 124.299284   \n",
       "3                                 207.547249   \n",
       "4                                 303.173678   \n",
       "5                                  72.632763   \n",
       "6                                 124.299284   \n",
       "7                                 207.547249   \n",
       "\n",
       "   Mean HGT with Zero Ecosystem Transfers  Mann-Whitney U       p-value  \\\n",
       "0                              644.844569         15972.0  7.628220e-10   \n",
       "1                              199.792183         14841.5  2.760752e-06   \n",
       "2                              204.700114         14914.0  1.761189e-06   \n",
       "3                              275.251173         13004.0  2.146900e-02   \n",
       "4                              644.844569         15972.0  7.628220e-10   \n",
       "5                              199.792183         14841.5  2.760752e-06   \n",
       "6                              204.700114         14914.0  1.761189e-06   \n",
       "7                              275.251173         13004.0  2.146900e-02   \n",
       "\n",
       "       CLES  Number of branches with Nonzero Ecosystem Transfers  \\\n",
       "0  0.711004                                                208     \n",
       "1  0.660679                                                208     \n",
       "2  0.663907                                                208     \n",
       "3  0.578882                                                208     \n",
       "4  0.711004                                                208     \n",
       "5  0.660679                                                208     \n",
       "6  0.663907                                                208     \n",
       "7  0.578882                                                208     \n",
       "\n",
       "   Number of branches with Zero Ecosystem Transfers  \n",
       "0                                               108  \n",
       "1                                               108  \n",
       "2                                               108  \n",
       "3                                               108  \n",
       "4                                               108  \n",
       "5                                               108  \n",
       "6                                               108  \n",
       "7                                               108  "
      ]
     },
     "metadata": {},
     "output_type": "display_data"
    },
    {
     "name": "stdout",
     "output_type": "stream",
     "text": [
      "\\begin{tabular}{llrrrlrrr}\n",
      "\\toprule\n",
      "HGT inference method & Ecosystem transfer inference method & Mean HGT with Nonzero Ecosystem Transfers & Mean HGT with Zero Ecosystem Transfers & Mann-Whitney U & p-value & CLES & Number of branches with Nonzero Ecosystem Transfers & Number of branches with Zero Ecosystem Transfers \\\\\n",
      "\\midrule\n",
      "ALE & Count & 303.174 & 644.845 & 15972.000 & \\num{7.6e-10} & 0.711 & 208 & 108 \\\\\n",
      "Count & Count & 72.633 & 199.792 & 14841.500 & \\num{2.8e-06} & 0.661 & 208 & 108 \\\\\n",
      "ML GLOOME & Count & 124.299 & 204.700 & 14914.000 & \\num{1.8e-06} & 0.664 & 208 & 108 \\\\\n",
      "MP GLOOME & Count & 207.547 & 275.251 & 13004.000 & \\num{0.021} & 0.579 & 208 & 108 \\\\\n",
      "ALE & MP GLOOME & 303.174 & 644.845 & 15972.000 & \\num{7.6e-10} & 0.711 & 208 & 108 \\\\\n",
      "Count & MP GLOOME & 72.633 & 199.792 & 14841.500 & \\num{2.8e-06} & 0.661 & 208 & 108 \\\\\n",
      "ML GLOOME & MP GLOOME & 124.299 & 204.700 & 14914.000 & \\num{1.8e-06} & 0.664 & 208 & 108 \\\\\n",
      "MP GLOOME & MP GLOOME & 207.547 & 275.251 & 13004.000 & \\num{0.021} & 0.579 & 208 & 108 \\\\\n",
      "\\bottomrule\n",
      "\\end{tabular}\n",
      "\n"
     ]
    }
   ],
   "source": [
    "# print mwu results again, but separate dfs for count and `mp gloome` env methods\n",
    "# read in TSVs of mwu results across methods\n",
    "mwu_results_filepath = os.path.join(stats_dir, \"mwu_results.across_methods.tsv\")\n",
    "mwu_results_df = pd.read_csv(mwu_results_filepath, sep=\"\\t\")\n",
    "mwu_results_df = mwu_results_df[mwu_results_df[\"Terminal or Internal\"] == \"all\"]\n",
    "mwu_results_df = mwu_results_df.rename(\n",
    "    columns={\n",
    "        \"env_method\": \"Ecosystem transfer inference method\",\n",
    "        \"gene_method\": \"HGT inference method\",\n",
    "    }\n",
    ")\n",
    "# replace 'count' with Count and other methods with Sentence Case\n",
    "mwu_results_df[\"Ecosystem transfer inference method\"] = mwu_results_df[\n",
    "    \"Ecosystem transfer inference method\"\n",
    "].apply(lambda x: x.capitalize() if x == \"count\" else x.upper())\n",
    "mwu_results_df[\"HGT inference method\"] = mwu_results_df[\"HGT inference method\"].apply(\n",
    "    lambda x: x.capitalize() if x == \"count\" else x.upper()\n",
    ")\n",
    "# keep only relevant columns\n",
    "mwu_results_df = mwu_results_df[\n",
    "    [\n",
    "        \"HGT inference method\",\n",
    "        \"Ecosystem transfer inference method\",\n",
    "        \"Mean HGT with Nonzero Ecosystem Transfers\",\n",
    "        \"Mean HGT with Zero Ecosystem Transfers\",\n",
    "        \"Mann-Whitney U\",\n",
    "        \"p-value\",\n",
    "        \"CLES\",\n",
    "        \"Number of branches with Nonzero Ecosystem Transfers\",\n",
    "        \"Number of branches with Zero Ecosystem Transfers\",\n",
    "    ]\n",
    "]\n",
    "\n",
    "display(mwu_results_df)\n",
    "# print latex here, with 3 decimal places and p-values in 10^-x format\n",
    "latex_printout_mwu = mwu_results_df.copy()\n",
    "# format the p-values as 10^-x\n",
    "latex_printout_mwu[\"p-value\"] = latex_printout_mwu[\"p-value\"].apply(\n",
    "    lambda x: f\"\\\\num{{{x:.2g}}}\"\n",
    ")\n",
    "print(\n",
    "    latex_printout_mwu.to_latex(\n",
    "        index=False, float_format=\"{:0.3f}\".format, escape=False\n",
    "    )\n",
    ")"
   ]
  },
  {
   "cell_type": "code",
   "execution_count": null,
   "metadata": {},
   "outputs": [],
   "source": []
  }
 ],
 "metadata": {
  "kernelspec": {
   "display_name": "hgt_analyses",
   "language": "python",
   "name": "python3"
  },
  "language_info": {
   "codemirror_mode": {
    "name": "ipython",
    "version": 3
   },
   "file_extension": ".py",
   "mimetype": "text/x-python",
   "name": "python",
   "nbconvert_exporter": "python",
   "pygments_lexer": "ipython3",
   "version": "3.12.3"
  }
 },
 "nbformat": 4,
 "nbformat_minor": 2
}
