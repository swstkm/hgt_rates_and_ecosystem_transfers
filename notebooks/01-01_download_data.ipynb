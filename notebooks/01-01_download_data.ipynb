{
 "cells": [
  {
   "cell_type": "markdown",
   "metadata": {},
   "source": [
    "## Step 1: Downloading all data\n",
    "Downloading from eggNOG and gold should take around 30min-1h given a fast internet connection, in total there are about 150GB of data."
   ]
  },
  {
   "cell_type": "code",
   "execution_count": null,
   "metadata": {},
   "outputs": [],
   "source": [
    "e6_url = \"http://eggnog6.embl.de/download/eggnog_6.0/\"\n",
    "all_trees_path = e6_url + \"e6.all_raw_trees_and_algs.tsv\"\n",
    "og2seqs_species_path = e6_url + \"e6.og2seqs_and_species.tsv\"\n",
    "seq2ogs_path = e6_url + \"e6.seq2ogs.tsv\"\n",
    "gold_url = \"https://gold.jgi.doe.gov/download?mode=site_excel\"\n"
   ]
  },
  {
   "cell_type": "code",
   "execution_count": 2,
   "metadata": {},
   "outputs": [],
   "source": [
    "import os\n",
    "parent_dir = os.path.dirname(os.getcwd())\n",
    "data_dir = os.path.join(parent_dir, 'data')"
   ]
  },
  {
   "cell_type": "markdown",
   "metadata": {},
   "source": [
    "Use bash command wget to download all files. For GOLD we need to extract a single sheet from the file, for that xlsx2csv needs to be installed via pip."
   ]
  },
  {
   "cell_type": "code",
   "execution_count": null,
   "metadata": {},
   "outputs": [],
   "source": [
    "%%bash -s \"$data_dir\" \"$all_trees_path\" \"$og2seqs_species_path\" \"$seq2ogs_path\" \"$gold_url\"\n",
    "pip install xlsx2csv\n",
    "mkdir -p $1\n",
    "\n",
    "mkdir -p $1/eggnog6\n",
    "wget $2 -P $1/eggnog6\n",
    "wget $3 -P $1/eggnog6\n",
    "wget $4 -P $1/eggnog6\n",
    "\n",
    "mkdir -p $1/gold\n",
    "wget $5 -O $1/gold/goldData.xlsx"
   ]
  },
  {
   "cell_type": "code",
   "execution_count": 2,
   "metadata": {},
   "outputs": [],
   "source": [
    "%%bash -s \"$data_dir\"\n",
    "xlsx2csv $1/gold/goldData.xlsx -s 4 > $1/gold/goldData_organisms.csv\n",
    "# rm $1/goldData.xlsx"
   ]
  },
  {
   "cell_type": "markdown",
   "metadata": {},
   "source": [
    "All e6 files are quite large and take long to work with, so the first step is to extract a subset containing only Bacteria data:"
   ]
  },
  {
   "cell_type": "code",
   "execution_count": null,
   "metadata": {},
   "outputs": [],
   "source": [
    "%%bash -s \"$data_dir\"\n",
    "# Select bacterial OGs, and bacterial trees.\n",
    "# The second column in the trees file should be \"2\". There are no other single-character columns.\n",
    "# and then the first and third columns can be used to prepare a subset COG->tree mapping file.\n",
    "rg \"\\t2\\t\" $1//eggnog6/e6.all_raw_trees_and_algs.tsv > $1//eggnog6/e6.all_raw_trees_and_algs_bacteria.tsv\n",
    "# similarly here the first column is the taxonomic grouping\n",
    "rg -P '^2\\t' $1//eggnog6/e6.og2seqs_and_species.tsv > $1//eggnog6/e6.og2seqs_and_species_bacteria.tsv"
   ]
  }
 ],
 "metadata": {
  "kernelspec": {
   "display_name": "hgt_analyses",
   "language": "python",
   "name": "python3"
  },
  "language_info": {
   "codemirror_mode": {
    "name": "ipython",
    "version": 3
   },
   "file_extension": ".py",
   "mimetype": "text/x-python",
   "name": "python",
   "nbconvert_exporter": "python",
   "pygments_lexer": "ipython3",
   "version": "3.12.3"
  }
 },
 "nbformat": 4,
 "nbformat_minor": 2
}
