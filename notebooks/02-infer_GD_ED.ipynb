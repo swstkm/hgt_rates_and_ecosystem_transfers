{
 "cells": [
  {
   "cell_type": "markdown",
   "metadata": {
    "vscode": {
     "languageId": "plaintext"
    }
   },
   "source": [
    "# Gene and Ecosystem Dynamics Inference\n"
   ]
  },
  {
   "cell_type": "markdown",
   "metadata": {},
   "source": [
    "```bash\n",
    "!mkdir -p ../data/inferences/gene_dynamics/Count ../data/inferences/pathogenicity_dynamics/Count\n",
    "```"
   ]
  },
  {
   "cell_type": "markdown",
   "metadata": {},
   "source": [
    "Count runs very fast and we can just go into each directory and run it.\n",
    "Note how gain/loss penalty ratio is set to 7 for HGT inferences based on the comparative study we performed\n",
    "\n",
    "```bash\n",
    "# from dir: `data/`\n",
    "cd inferences/gene_dynamics/Count\n",
    "# run Count with gainloss penalty ratio of 7 based on the comparative study\n",
    "java -Xmx2048M -cp ~/bin/Count/Count.jar ca.umontreal.iro.evolution.genecontent.AsymmetricWagner -gain 7 ../../../genome_tree/genome_tree.iqtree.treefile.rooted.labeled ../../../filtered/pa_matrix.nogs.numerical.tsv > Count_output.tsv\n",
    "# separate the output into the information of each node's (of genome tree) genome size, changes and families\n",
    "grep \"# PRESENT\" Count_output.tsv > Count_genome_sizes.tsv && grep \"# CHANGE\" Count_output.tsv > Count_changes.tsv && grep \"# FAMILY\" Count_output.tsv > Count_families.tsv\n",
    "\n",
    "# similarly for ecotype dynamics\n",
    "cd ../../ecotype_dynamics/Count\n",
    "# run Count with gainloss penalty ratio of 1 since ecotype gains and losses are penalised equally\n",
    "java -Xmx2048M -cp ~/bin/Count/Count.jar ca.umontreal.iro.evolution.genecontent.AsymmetricWagner -gain 1 ../../../genome_tree/genome_tree.iqtree.treefile.rooted.labeled ../../../filtered/pa_matrix.ecosystem_type.numerical.tsv > Count_output.tsv\n",
    "grep \"# PRESENT\" Count_output.tsv > Count_genome_sizes.tsv && grep \"# CHANGE\" Count_output.tsv > Count_changes.tsv && grep \"# FAMILY\" Count_output.tsv > Count_families.tsv\n",
    "\n",
    "# similarly for ecosubtype dynamics\n",
    "cd ../../ecosubtype_dynamics/Count\n",
    "java -Xmx2048M -cp ~/bin/Count/Count.jar ca.umontreal.iro.evolution.genecontent.AsymmetricWagner -gain 1 ../../../genome_tree/genome_tree.iqtree.treefile.rooted.labeled ../../../filtered/pa_matrix.ecosystem_subtype.numerical.tsv > Count_output.tsv\n",
    "grep \"# PRESENT\" Count_output.tsv > Count_genome_sizes.tsv && grep \"# CHANGE\" Count_output.tsv > Count_changes.tsv && grep \"# FAMILY\" Count_output.tsv > Count_families.tsv\n",
    "```\n",
    "\n",
    "Note here that we are running `AsymmetricWagner` Parsimony model. One can also run `Posteriors` model for ML inference. The latter makes sense for Gene Dynamics (GD) but not for Ecosystem Dynamics (ED).\n",
    "We chose to run `AsymmetricWagner` for everything, since the comparative study that we performed showed that it infers less false positive changes than `Posteriors`."
   ]
  }
 ],
 "metadata": {
  "kernelspec": {
   "display_name": "hgt_analyses",
   "language": "python",
   "name": "python3"
  },
  "language_info": {
   "codemirror_mode": {
    "name": "ipython",
    "version": 3
   },
   "file_extension": ".py",
   "mimetype": "text/x-python",
   "name": "python",
   "nbconvert_exporter": "python",
   "pygments_lexer": "ipython3",
   "version": "3.12.3"
  }
 },
 "nbformat": 4,
 "nbformat_minor": 2
}
