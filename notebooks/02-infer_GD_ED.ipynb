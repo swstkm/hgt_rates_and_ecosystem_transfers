{
 "cells": [
  {
   "cell_type": "markdown",
   "metadata": {
    "vscode": {
     "languageId": "plaintext"
    }
   },
   "source": [
    "# Gene and Ecosystem Dynamics Inference\n"
   ]
  },
  {
   "cell_type": "markdown",
   "metadata": {},
   "source": [
    "## ALE\n",
    "\n",
    "ALE only requires the species tree to be rooted, so we can use the unrooted gene trees directly.\n",
    "However, rooted trees seem to make ALE run faster, so we will root the gene trees using MAD.\n",
    "\n",
    "```bash\n",
    "# from dir: `RESULTS_ALE`\n",
    "# root the gene trees using MAD\n",
    "nohup python code/run_MAD_on_EggNOG_parallel.py -i data/filtered/map.nog_tree.filtered.pruned.tsv -m ~/bin/mad/mad -p 100 > data/nohup_mad_gene_tree_rooting.log & disown\n",
    "# this results in the file `data/filtered/map.nog_tree.filtered.pruned.tsv.rooted` which we give as input gene trees file to run ALE\n",
    "\n",
    "# run ALE\n",
    "# with data/ as working directory. e.g. `cd data/`\n",
    "nohup python ../code/run_ALE.py --species genome_tree/genome_tree.iqtree.treefile.rooted --gene filtered/map.nog_tree.filtered.pruned.tsv.rooted --output-dir inferences/gene/ALE/ > nohup_run_ALE.out & disown\n",
    "```"
   ]
  },
  {
   "cell_type": "markdown",
   "metadata": {},
   "source": [
    "## GLOOME\n",
    "\n",
    "Create param files for GLOOME"
   ]
  },
  {
   "cell_type": "code",
   "execution_count": 8,
   "metadata": {},
   "outputs": [],
   "source": [
    "genome_tree_filepath = \"genome_tree/genome_tree.iqtree.treefile.rooted\"\n",
    "pa_matrix_nogs_filepath = \"filtered/pa_matrix.nogs.binary.fasta\"\n",
    "pa_matrix_ecotype_filepath = \"filtered/pa_matrix.ecosystem_type.binary.fasta\"\n",
    "pa_matrix_ecosubtype_filepath = \"filtered/pa_matrix.ecosystem_subtype.binary.fasta\""
   ]
  },
  {
   "cell_type": "code",
   "execution_count": 9,
   "metadata": {},
   "outputs": [],
   "source": [
    "%%bash -s \"$genome_tree_filepath\" \"$pa_matrix_nogs_filepath\" \"$pa_matrix_ecotype_filepath\" \"$pa_matrix_ecosubtype_filepath\"\n",
    "cat > ../data/GLOOME_GD.params << EOL\n",
    "_seqFile $2\n",
    "_treeFile $1\n",
    "# use mixture-model\n",
    "_gainLossDist 1\n",
    "# include Parsimony results also\n",
    "_costMatrixGainLossRatio 1\n",
    "# in this case, character frequencies are not equal across the tree\n",
    "_isRootFreqEQstationary 0\n",
    "## Advanced \n",
    "_logValue 4\n",
    "# make this dir ahead of time before running GLOOME\n",
    "_outDir inferences/gene_dynamics/GLOOME/\n",
    "EOL\n",
    "\n",
    "# now for ECOTYPE\n",
    "cat > ../data/GLOOME_ED_Type.params << EOL\n",
    "_seqFile $3\n",
    "_treeFile $1\n",
    "# use mixture-model\n",
    "_gainLossDist 1\n",
    "# include Parsimony results also\n",
    "_costMatrixGainLossRatio 1\n",
    "# in this case, character frequencies are not equal across the tree\n",
    "_isRootFreqEQstationary 0\n",
    "## Advanced\n",
    "_logValue 4\n",
    "# make this dir ahead of time before running GLOOME\n",
    "_outDir inferences/ecotype_dynamics/GLOOME/\n",
    "EOL\n",
    "\n",
    "# now for ECOSUBTYPE\n",
    "cat > ../data/GLOOME_ED_Subtype.params << EOL\n",
    "_seqFile $4\n",
    "_treeFile $1\n",
    "# use mixture-model\n",
    "_gainLossDist 1\n",
    "# include Parsimony results also\n",
    "_costMatrixGainLossRatio 1\n",
    "# in this case, character frequencies are not equal across the tree\n",
    "_isRootFreqEQstationary 0\n",
    "## Advanced\n",
    "_logValue 4\n",
    "# make this dir ahead of time before running GLOOME\n",
    "_outDir inferences/ecosubtype_dynamics/GLOOME/\n",
    "EOL"
   ]
  },
  {
   "cell_type": "markdown",
   "metadata": {},
   "source": [
    "Then run GLOOME with these param files as input, from inside the `data/` directory.\n",
    "\n",
    "\n",
    "```bash\n",
    "# from dir: `data/`\n",
    "\n",
    "# first make the directories to store the results, if not already present\n",
    "mkdir -p inferences/gene_dynamics/GLOOME inferences/ecotype_dynamics/GLOOME inferences/ecosubtype_dynamics/GLOOME\n",
    "\n",
    "# run GLOOME\n",
    "nohup ~/bin/GLOOME.VR01.266 GLOOME_GD.params > nohup_GLOOME_GD.out & disown\n",
    "nohup ~/bin/GLOOME.VR01.266 GLOOME_ED_Type.params > nohup_GLOOME_ED_Type.out & disown\n",
    "nohup ~/bin/GLOOME.VR01.266 GLOOME_ED_Subtype.params > nohup_GLOOME_ED_Subtype.out & disown\n",
    "```"
   ]
  },
  {
   "cell_type": "markdown",
   "metadata": {},
   "source": [
    "## Count"
   ]
  },
  {
   "cell_type": "markdown",
   "metadata": {},
   "source": [
    "We do a similar thing for Count, but Count runs very fast and we can just go into each directory and run it.\n",
    "\n",
    "```bash\n",
    "# from dir: `data/`\n",
    "cd inferences/gene_dynamics/Count\n",
    "# run Count\n",
    "java -Xmx2048M -cp ~/bin/Count/Count.jar ca.umontreal.iro.evolution.genecontent.AsymmetricWagner ../../../genome_tree/genome_tree.iqtree.treefile.rooted.labeled ../../../filtered/pa_matrix.nogs.numerical.tsv > Count_output.tsv\n",
    "# separate the output into the information of each node's (of genome tree) genome size, changes and families\n",
    "grep \"# PRESENT\" Count_output.tsv > Count_genome_sizes.tsv && grep \"# CHANGE\" Count_output.tsv > Count_changes.tsv && grep \"# FAMILY\" Count_output.tsv > Count_families.tsv\n",
    "\n",
    "# similarly for ecotype dynamics\n",
    "cd ../../ecotype_dynamics/Count\n",
    "java -Xmx2048M -cp ~/bin/Count/Count.jar ca.umontreal.iro.evolution.genecontent.AsymmetricWagner ../../../genome_tree/genome_tree.iqtree.treefile.rooted.labeled ../../../filtered/pa_matrix.ecosystem_type.numerical.tsv > Count_output.tsv\n",
    "grep \"# PRESENT\" Count_output.tsv > Count_genome_sizes.tsv && grep \"# CHANGE\" Count_output.tsv > Count_changes.tsv && grep \"# FAMILY\" Count_output.tsv > Count_families.tsv\n",
    "\n",
    "# similarly for ecosubtype dynamics\n",
    "cd ../../ecosubtype_dynamics/Count\n",
    "java -Xmx2048M -cp ~/bin/Count/Count.jar ca.umontreal.iro.evolution.genecontent.AsymmetricWagner ../../../genome_tree/genome_tree.iqtree.treefile.rooted.labeled ../../../filtered/pa_matrix.ecosystem_subtype.numerical.tsv > Count_output.tsv\n",
    "grep \"# PRESENT\" Count_output.tsv > Count_genome_sizes.tsv && grep \"# CHANGE\" Count_output.tsv > Count_changes.tsv && grep \"# FAMILY\" Count_output.tsv > Count_families.tsv\n",
    "```\n",
    "\n",
    "Note here that we are running `AsymmetricWagner` Parsimony model. One can also run `Posteriors` model for ML inference. The latter makes sense for Gene Dynamics (GD) but not for Ecosystem Dynamics (ED).\n",
    "We chose to run `AsymmetricWagner` for everything, since the comparative study that we performed showed that it infers less false positive changes than `Posteriors`."
   ]
  }
 ],
 "metadata": {
  "kernelspec": {
   "display_name": "hgt_analyses",
   "language": "python",
   "name": "python3"
  },
  "language_info": {
   "codemirror_mode": {
    "name": "ipython",
    "version": 3
   },
   "file_extension": ".py",
   "mimetype": "text/x-python",
   "name": "python",
   "nbconvert_exporter": "python",
   "pygments_lexer": "ipython3",
   "version": "3.12.3"
  }
 },
 "nbformat": 4,
 "nbformat_minor": 2
}
